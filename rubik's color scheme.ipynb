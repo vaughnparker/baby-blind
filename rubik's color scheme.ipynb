{
 "cells": [
  {
   "cell_type": "code",
   "execution_count": 40,
   "id": "23c8657e",
   "metadata": {
    "ExecuteTime": {
     "end_time": "2024-06-11T08:13:57.781924Z",
     "start_time": "2024-06-11T08:13:57.253338Z"
    }
   },
   "outputs": [],
   "source": [
    "import numpy as np\n",
    "import pandas as pd\n",
    "\n",
    "from scipy.optimize import minimize\n",
    "import itertools"
   ]
  },
  {
   "cell_type": "code",
   "execution_count": 45,
   "id": "3baabbff",
   "metadata": {
    "ExecuteTime": {
     "end_time": "2024-06-11T08:16:11.790102Z",
     "start_time": "2024-06-11T08:16:11.773147Z"
    }
   },
   "outputs": [],
   "source": [
    "def distance(a, b):\n",
    "    \"\"\"\n",
    "    Calculate the Euclidean distance between two points in 3D space.\n",
    "\n",
    "    Parameters:\n",
    "    a (tuple or list): The coordinates of the first point (x1, y1, z1).\n",
    "    b (tuple or list): The coordinates of the second point (x2, y2, z2).\n",
    "\n",
    "    Returns:\n",
    "    float: The Euclidean distance between the two points.\n",
    "    \"\"\"\n",
    "    return np.sqrt((a[0] - b[0])**2 + (a[1] - b[1])**2 + (a[2] - b[2])**2)"
   ]
  },
  {
   "cell_type": "code",
   "execution_count": 67,
   "id": "78858b8f",
   "metadata": {
    "ExecuteTime": {
     "end_time": "2024-06-11T08:39:55.227674Z",
     "start_time": "2024-06-11T08:39:55.213713Z"
    }
   },
   "outputs": [],
   "source": [
    "def get_color_matrix(L, W, H, rows=200):\n",
    "    matrix = []\n",
    "\n",
    "    for _ in range(rows):\n",
    "        six_points = []\n",
    "        min_dist = 1000\n",
    "        for i in range(6):\n",
    "            six_points.append([int(np.random.random() * L), int(np.random.random() * W), int(np.random.random() * H)])\n",
    "\n",
    "        for i in range(6):\n",
    "            for j in range(i):\n",
    "                one_dist = distance(six_points[i], six_points[j])\n",
    "                min_dist = min(min_dist, one_dist)\n",
    "\n",
    "        six_points.append(min_dist)\n",
    "        matrix.append(six_points)\n",
    "        \n",
    "    df = pd.DataFrame(matrix, columns=[0, 1, 2, 3, 4, 5, 'min_dist'])\n",
    "    df = df.sort_values('min_dist', ascending=False)\n",
    "    return df"
   ]
  },
  {
   "cell_type": "markdown",
   "id": "716f15ae",
   "metadata": {
    "ExecuteTime": {
     "end_time": "2024-06-11T08:19:20.492328Z",
     "start_time": "2024-06-11T08:19:20.190135Z"
    }
   },
   "source": [
    "41004\t[28, 38, 15]\t[68, 226, 1]\t[254, 236, 143]\t[107, 223, 234]\t[9, 8, 213]\t[211, 21, 103]\t173.375315\n",
    "129550\t[140, 206, 237]\t[58, 41, 215]\t[67, 37, 36]\t[252, 56, 0]\t[236, 68, 198]\t[164, 242, 64]\t172.571724"
   ]
  },
  {
   "cell_type": "markdown",
   "id": "6f5be5c1",
   "metadata": {
    "ExecuteTime": {
     "end_time": "2024-06-11T08:35:31.475579Z",
     "start_time": "2024-06-11T08:35:28.129521Z"
    }
   },
   "source": [
    "[208, 24, 68]\t[73, 12, 238]\t[243, 113, 242]\t[190, 235, 13]\t[31, 223, 121]\t[18, 46, 38]\t192.585046"
   ]
  },
  {
   "cell_type": "markdown",
   "id": "71228287",
   "metadata": {},
   "source": [
    "# CIELAB"
   ]
  },
  {
   "cell_type": "code",
   "execution_count": 73,
   "id": "08f87729",
   "metadata": {
    "ExecuteTime": {
     "end_time": "2024-06-11T08:42:19.561956Z",
     "start_time": "2024-06-11T08:42:19.555972Z"
    }
   },
   "outputs": [],
   "source": [
    "def get_color_matrix_CIELAB(rows=200):\n",
    "    matrix = []\n",
    "\n",
    "    for _ in range(rows):\n",
    "        six_points = []\n",
    "        min_dist = 1000\n",
    "        for i in range(6):\n",
    "            six_points.append([int(np.random.random() * 100), int(np.random.random() * 255)-128, int(np.random.random() * 255)-128])\n",
    "\n",
    "        for i in range(6):\n",
    "            for j in range(i):\n",
    "                one_dist = distance(six_points[i], six_points[j])\n",
    "                min_dist = min(min_dist, one_dist)\n",
    "\n",
    "        six_points.append(min_dist)\n",
    "        matrix.append(six_points)\n",
    "        \n",
    "    df = pd.DataFrame(matrix, columns=[0, 1, 2, 3, 4, 5, 'min_dist'])\n",
    "    df = df.sort_values('min_dist', ascending=False)\n",
    "    return df"
   ]
  },
  {
   "cell_type": "code",
   "execution_count": 75,
   "id": "570503cd",
   "metadata": {
    "ExecuteTime": {
     "end_time": "2024-06-11T08:42:28.425782Z",
     "start_time": "2024-06-11T08:42:27.653332Z"
    }
   },
   "outputs": [
    {
     "data": {
      "text/html": [
       "<div>\n",
       "<style scoped>\n",
       "    .dataframe tbody tr th:only-of-type {\n",
       "        vertical-align: middle;\n",
       "    }\n",
       "\n",
       "    .dataframe tbody tr th {\n",
       "        vertical-align: top;\n",
       "    }\n",
       "\n",
       "    .dataframe thead th {\n",
       "        text-align: right;\n",
       "    }\n",
       "</style>\n",
       "<table border=\"1\" class=\"dataframe\">\n",
       "  <thead>\n",
       "    <tr style=\"text-align: right;\">\n",
       "      <th></th>\n",
       "      <th>0</th>\n",
       "      <th>1</th>\n",
       "      <th>2</th>\n",
       "      <th>3</th>\n",
       "      <th>4</th>\n",
       "      <th>5</th>\n",
       "      <th>min_dist</th>\n",
       "    </tr>\n",
       "  </thead>\n",
       "  <tbody>\n",
       "    <tr>\n",
       "      <th>173</th>\n",
       "      <td>[80, -123, -43]</td>\n",
       "      <td>[47, 69, -112]</td>\n",
       "      <td>[58, -108, 98]</td>\n",
       "      <td>[7, 94, 55]</td>\n",
       "      <td>[99, -2, 59]</td>\n",
       "      <td>[1, -50, -120]</td>\n",
       "      <td>120.158229</td>\n",
       "    </tr>\n",
       "    <tr>\n",
       "      <th>1760</th>\n",
       "      <td>[37, 21, 123]</td>\n",
       "      <td>[83, 9, 17]</td>\n",
       "      <td>[89, -109, 17]</td>\n",
       "      <td>[23, -119, 114]</td>\n",
       "      <td>[74, -10, -113]</td>\n",
       "      <td>[52, 119, -24]</td>\n",
       "      <td>116.172286</td>\n",
       "    </tr>\n",
       "    <tr>\n",
       "      <th>9770</th>\n",
       "      <td>[9, -105, 121]</td>\n",
       "      <td>[4, 97, 122]</td>\n",
       "      <td>[72, -83, -100]</td>\n",
       "      <td>[11, 126, 11]</td>\n",
       "      <td>[88, -8, 104]</td>\n",
       "      <td>[70, 79, -118]</td>\n",
       "      <td>114.939114</td>\n",
       "    </tr>\n",
       "    <tr>\n",
       "      <th>10604</th>\n",
       "      <td>[17, -10, -100]</td>\n",
       "      <td>[10, -11, 34]</td>\n",
       "      <td>[6, 121, -80]</td>\n",
       "      <td>[90, 75, 118]</td>\n",
       "      <td>[25, 119, 30]</td>\n",
       "      <td>[73, -119, -70]</td>\n",
       "      <td>111.646764</td>\n",
       "    </tr>\n",
       "    <tr>\n",
       "      <th>6106</th>\n",
       "      <td>[93, 1, 87]</td>\n",
       "      <td>[11, -86, -116]</td>\n",
       "      <td>[79, -92, -2]</td>\n",
       "      <td>[16, 80, 99]</td>\n",
       "      <td>[94, 79, -102]</td>\n",
       "      <td>[97, 117, 20]</td>\n",
       "      <td>110.968464</td>\n",
       "    </tr>\n",
       "    <tr>\n",
       "      <th>...</th>\n",
       "      <td>...</td>\n",
       "      <td>...</td>\n",
       "      <td>...</td>\n",
       "      <td>...</td>\n",
       "      <td>...</td>\n",
       "      <td>...</td>\n",
       "      <td>...</td>\n",
       "    </tr>\n",
       "    <tr>\n",
       "      <th>12533</th>\n",
       "      <td>[55, -37, 68]</td>\n",
       "      <td>[7, -65, -24]</td>\n",
       "      <td>[5, -1, -74]</td>\n",
       "      <td>[55, -40, 68]</td>\n",
       "      <td>[48, 17, -28]</td>\n",
       "      <td>[19, -85, 19]</td>\n",
       "      <td>3.000000</td>\n",
       "    </tr>\n",
       "    <tr>\n",
       "      <th>6553</th>\n",
       "      <td>[41, -113, -66]</td>\n",
       "      <td>[24, 69, 91]</td>\n",
       "      <td>[67, 95, -4]</td>\n",
       "      <td>[35, 38, -39]</td>\n",
       "      <td>[87, -96, 28]</td>\n",
       "      <td>[39, -113, -68]</td>\n",
       "      <td>2.828427</td>\n",
       "    </tr>\n",
       "    <tr>\n",
       "      <th>7423</th>\n",
       "      <td>[44, 80, 10]</td>\n",
       "      <td>[62, 119, -99]</td>\n",
       "      <td>[4, 84, -127]</td>\n",
       "      <td>[43, 79, 12]</td>\n",
       "      <td>[96, -45, 25]</td>\n",
       "      <td>[27, 125, -36]</td>\n",
       "      <td>2.449490</td>\n",
       "    </tr>\n",
       "    <tr>\n",
       "      <th>16890</th>\n",
       "      <td>[97, -65, -91]</td>\n",
       "      <td>[97, -63, -90]</td>\n",
       "      <td>[30, 102, 86]</td>\n",
       "      <td>[89, 91, 35]</td>\n",
       "      <td>[40, 56, 71]</td>\n",
       "      <td>[59, -40, -19]</td>\n",
       "      <td>2.236068</td>\n",
       "    </tr>\n",
       "    <tr>\n",
       "      <th>4188</th>\n",
       "      <td>[28, -16, 22]</td>\n",
       "      <td>[83, -1, 28]</td>\n",
       "      <td>[97, -112, 34]</td>\n",
       "      <td>[18, -124, -56]</td>\n",
       "      <td>[84, 0, 29]</td>\n",
       "      <td>[92, -46, -97]</td>\n",
       "      <td>1.732051</td>\n",
       "    </tr>\n",
       "  </tbody>\n",
       "</table>\n",
       "<p>20000 rows × 7 columns</p>\n",
       "</div>"
      ],
      "text/plain": [
       "                     0                1                2                3  \\\n",
       "173    [80, -123, -43]   [47, 69, -112]   [58, -108, 98]      [7, 94, 55]   \n",
       "1760     [37, 21, 123]      [83, 9, 17]   [89, -109, 17]  [23, -119, 114]   \n",
       "9770    [9, -105, 121]     [4, 97, 122]  [72, -83, -100]    [11, 126, 11]   \n",
       "10604  [17, -10, -100]    [10, -11, 34]    [6, 121, -80]    [90, 75, 118]   \n",
       "6106       [93, 1, 87]  [11, -86, -116]    [79, -92, -2]     [16, 80, 99]   \n",
       "...                ...              ...              ...              ...   \n",
       "12533    [55, -37, 68]    [7, -65, -24]     [5, -1, -74]    [55, -40, 68]   \n",
       "6553   [41, -113, -66]     [24, 69, 91]     [67, 95, -4]    [35, 38, -39]   \n",
       "7423      [44, 80, 10]   [62, 119, -99]    [4, 84, -127]     [43, 79, 12]   \n",
       "16890   [97, -65, -91]   [97, -63, -90]    [30, 102, 86]     [89, 91, 35]   \n",
       "4188     [28, -16, 22]     [83, -1, 28]   [97, -112, 34]  [18, -124, -56]   \n",
       "\n",
       "                     4                5    min_dist  \n",
       "173       [99, -2, 59]   [1, -50, -120]  120.158229  \n",
       "1760   [74, -10, -113]   [52, 119, -24]  116.172286  \n",
       "9770     [88, -8, 104]   [70, 79, -118]  114.939114  \n",
       "10604    [25, 119, 30]  [73, -119, -70]  111.646764  \n",
       "6106    [94, 79, -102]    [97, 117, 20]  110.968464  \n",
       "...                ...              ...         ...  \n",
       "12533    [48, 17, -28]    [19, -85, 19]    3.000000  \n",
       "6553     [87, -96, 28]  [39, -113, -68]    2.828427  \n",
       "7423     [96, -45, 25]   [27, 125, -36]    2.449490  \n",
       "16890     [40, 56, 71]   [59, -40, -19]    2.236068  \n",
       "4188       [84, 0, 29]   [92, -46, -97]    1.732051  \n",
       "\n",
       "[20000 rows x 7 columns]"
      ]
     },
     "execution_count": 75,
     "metadata": {},
     "output_type": "execute_result"
    }
   ],
   "source": [
    "get_color_matrix_CIELAB(rows=20000)"
   ]
  },
  {
   "cell_type": "code",
   "execution_count": 76,
   "id": "6ed3cdef",
   "metadata": {
    "ExecuteTime": {
     "end_time": "2024-06-11T08:45:20.591752Z",
     "start_time": "2024-06-11T08:42:41.199645Z"
    }
   },
   "outputs": [
    {
     "ename": "KeyboardInterrupt",
     "evalue": "",
     "output_type": "error",
     "traceback": [
      "\u001b[1;31m---------------------------------------------------------------------------\u001b[0m",
      "\u001b[1;31mKeyboardInterrupt\u001b[0m                         Traceback (most recent call last)",
      "\u001b[1;32m~\\AppData\\Local\\Temp\\ipykernel_4712\\1575795835.py\u001b[0m in \u001b[0;36m<module>\u001b[1;34m\u001b[0m\n\u001b[1;32m----> 1\u001b[1;33m \u001b[0mget_color_matrix_CIELAB\u001b[0m\u001b[1;33m(\u001b[0m\u001b[0mrows\u001b[0m\u001b[1;33m=\u001b[0m\u001b[1;36m5000000\u001b[0m\u001b[1;33m)\u001b[0m\u001b[1;33m\u001b[0m\u001b[1;33m\u001b[0m\u001b[0m\n\u001b[0m",
      "\u001b[1;32m~\\AppData\\Local\\Temp\\ipykernel_4712\\2174204220.py\u001b[0m in \u001b[0;36mget_color_matrix_CIELAB\u001b[1;34m(rows)\u001b[0m\n\u001b[0;32m     10\u001b[0m         \u001b[1;32mfor\u001b[0m \u001b[0mi\u001b[0m \u001b[1;32min\u001b[0m \u001b[0mrange\u001b[0m\u001b[1;33m(\u001b[0m\u001b[1;36m6\u001b[0m\u001b[1;33m)\u001b[0m\u001b[1;33m:\u001b[0m\u001b[1;33m\u001b[0m\u001b[1;33m\u001b[0m\u001b[0m\n\u001b[0;32m     11\u001b[0m             \u001b[1;32mfor\u001b[0m \u001b[0mj\u001b[0m \u001b[1;32min\u001b[0m \u001b[0mrange\u001b[0m\u001b[1;33m(\u001b[0m\u001b[0mi\u001b[0m\u001b[1;33m)\u001b[0m\u001b[1;33m:\u001b[0m\u001b[1;33m\u001b[0m\u001b[1;33m\u001b[0m\u001b[0m\n\u001b[1;32m---> 12\u001b[1;33m                 \u001b[0mone_dist\u001b[0m \u001b[1;33m=\u001b[0m \u001b[0mdistance\u001b[0m\u001b[1;33m(\u001b[0m\u001b[0msix_points\u001b[0m\u001b[1;33m[\u001b[0m\u001b[0mi\u001b[0m\u001b[1;33m]\u001b[0m\u001b[1;33m,\u001b[0m \u001b[0msix_points\u001b[0m\u001b[1;33m[\u001b[0m\u001b[0mj\u001b[0m\u001b[1;33m]\u001b[0m\u001b[1;33m)\u001b[0m\u001b[1;33m\u001b[0m\u001b[1;33m\u001b[0m\u001b[0m\n\u001b[0m\u001b[0;32m     13\u001b[0m                 \u001b[0mmin_dist\u001b[0m \u001b[1;33m=\u001b[0m \u001b[0mmin\u001b[0m\u001b[1;33m(\u001b[0m\u001b[0mmin_dist\u001b[0m\u001b[1;33m,\u001b[0m \u001b[0mone_dist\u001b[0m\u001b[1;33m)\u001b[0m\u001b[1;33m\u001b[0m\u001b[1;33m\u001b[0m\u001b[0m\n\u001b[0;32m     14\u001b[0m \u001b[1;33m\u001b[0m\u001b[0m\n",
      "\u001b[1;32m~\\AppData\\Local\\Temp\\ipykernel_4712\\965326334.py\u001b[0m in \u001b[0;36mdistance\u001b[1;34m(a, b)\u001b[0m\n\u001b[0;32m     10\u001b[0m     \u001b[0mfloat\u001b[0m\u001b[1;33m:\u001b[0m \u001b[0mThe\u001b[0m \u001b[0mEuclidean\u001b[0m \u001b[0mdistance\u001b[0m \u001b[0mbetween\u001b[0m \u001b[0mthe\u001b[0m \u001b[0mtwo\u001b[0m \u001b[0mpoints\u001b[0m\u001b[1;33m.\u001b[0m\u001b[1;33m\u001b[0m\u001b[1;33m\u001b[0m\u001b[0m\n\u001b[0;32m     11\u001b[0m     \"\"\"\n\u001b[1;32m---> 12\u001b[1;33m     \u001b[1;32mreturn\u001b[0m \u001b[0mnp\u001b[0m\u001b[1;33m.\u001b[0m\u001b[0msqrt\u001b[0m\u001b[1;33m(\u001b[0m\u001b[1;33m(\u001b[0m\u001b[0ma\u001b[0m\u001b[1;33m[\u001b[0m\u001b[1;36m0\u001b[0m\u001b[1;33m]\u001b[0m \u001b[1;33m-\u001b[0m \u001b[0mb\u001b[0m\u001b[1;33m[\u001b[0m\u001b[1;36m0\u001b[0m\u001b[1;33m]\u001b[0m\u001b[1;33m)\u001b[0m\u001b[1;33m**\u001b[0m\u001b[1;36m2\u001b[0m \u001b[1;33m+\u001b[0m \u001b[1;33m(\u001b[0m\u001b[0ma\u001b[0m\u001b[1;33m[\u001b[0m\u001b[1;36m1\u001b[0m\u001b[1;33m]\u001b[0m \u001b[1;33m-\u001b[0m \u001b[0mb\u001b[0m\u001b[1;33m[\u001b[0m\u001b[1;36m1\u001b[0m\u001b[1;33m]\u001b[0m\u001b[1;33m)\u001b[0m\u001b[1;33m**\u001b[0m\u001b[1;36m2\u001b[0m \u001b[1;33m+\u001b[0m \u001b[1;33m(\u001b[0m\u001b[0ma\u001b[0m\u001b[1;33m[\u001b[0m\u001b[1;36m2\u001b[0m\u001b[1;33m]\u001b[0m \u001b[1;33m-\u001b[0m \u001b[0mb\u001b[0m\u001b[1;33m[\u001b[0m\u001b[1;36m2\u001b[0m\u001b[1;33m]\u001b[0m\u001b[1;33m)\u001b[0m\u001b[1;33m**\u001b[0m\u001b[1;36m2\u001b[0m\u001b[1;33m)\u001b[0m\u001b[1;33m\u001b[0m\u001b[1;33m\u001b[0m\u001b[0m\n\u001b[0m",
      "\u001b[1;31mKeyboardInterrupt\u001b[0m: "
     ]
    }
   ],
   "source": [
    "get_color_matrix_CIELAB(rows=5000000)"
   ]
  },
  {
   "cell_type": "code",
   "execution_count": null,
   "id": "3a906061",
   "metadata": {},
   "outputs": [],
   "source": []
  }
 ],
 "metadata": {
  "kernelspec": {
   "display_name": "Python 3 (ipykernel)",
   "language": "python",
   "name": "python3"
  },
  "language_info": {
   "codemirror_mode": {
    "name": "ipython",
    "version": 3
   },
   "file_extension": ".py",
   "mimetype": "text/x-python",
   "name": "python",
   "nbconvert_exporter": "python",
   "pygments_lexer": "ipython3",
   "version": "3.9.13"
  }
 },
 "nbformat": 4,
 "nbformat_minor": 5
}
