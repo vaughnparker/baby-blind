{
 "cells": [
  {
   "cell_type": "code",
   "execution_count": 1,
   "metadata": {
    "ExecuteTime": {
     "end_time": "2025-04-12T22:34:56.545662Z",
     "start_time": "2025-04-12T22:34:56.132767Z"
    }
   },
   "outputs": [],
   "source": [
    "import copy\n",
    "import random\n",
    "import pickle\n",
    "\n",
    "import pandas as pd\n",
    "import kociemba"
   ]
  },
  {
   "cell_type": "markdown",
   "metadata": {},
   "source": [
    "## Let's import from the script"
   ]
  },
  {
   "cell_type": "code",
   "execution_count": 2,
   "metadata": {
    "ExecuteTime": {
     "end_time": "2025-04-12T22:34:56.561619Z",
     "start_time": "2025-04-12T22:34:56.547658Z"
    }
   },
   "outputs": [],
   "source": [
    "# from baby_blind_script import solve_cube, new_scrambled_cube\n",
    "from baby_blind_script import *\n",
    "# from baby_blind_script import generate_nonsense_solution"
   ]
  },
  {
   "cell_type": "code",
   "execution_count": 3,
   "metadata": {
    "ExecuteTime": {
     "end_time": "2025-04-12T22:34:56.814941Z",
     "start_time": "2025-04-12T22:34:56.793001Z"
    }
   },
   "outputs": [
    {
     "name": "stdout",
     "output_type": "stream",
     "text": [
      "RAPKTWQCVXLDI|BHKFMWN\n",
      "AKVLHGSINQDE.BHOPLMDI\n",
      "GAHIDPFUSON|THBFQGU\n",
      "QIUGEHJVNSR|HLJFTQP\n",
      "WDGQUTHIVJL|JUVTBFH\n"
     ]
    }
   ],
   "source": [
    "for _ in range(5):\n",
    "    one_solution = solve_cube(new_scrambled_cube())\n",
    "    print(one_solution)"
   ]
  },
  {
   "cell_type": "code",
   "execution_count": null,
   "metadata": {},
   "outputs": [],
   "source": []
  },
  {
   "cell_type": "code",
   "execution_count": null,
   "metadata": {},
   "outputs": [],
   "source": []
  },
  {
   "cell_type": "code",
   "execution_count": 4,
   "metadata": {
    "ExecuteTime": {
     "end_time": "2025-04-12T22:34:58.225169Z",
     "start_time": "2025-04-12T22:34:58.215195Z"
    }
   },
   "outputs": [],
   "source": [
    "messed_up_cube = execute_algorithm(SOLVED_CUBE, \"R L U2 B' D' R2 U' L' R' D R L2 F L' D F2 D' R L' D F U L' F2 L' \")"
   ]
  },
  {
   "cell_type": "code",
   "execution_count": 5,
   "metadata": {
    "ExecuteTime": {
     "end_time": "2025-04-12T22:34:58.683941Z",
     "start_time": "2025-04-12T22:34:58.662998Z"
    }
   },
   "outputs": [
    {
     "data": {
      "text/plain": [
       "'APCHLWVNQDKEGX.FBWXJBGLKP'"
      ]
     },
     "execution_count": 5,
     "metadata": {},
     "output_type": "execute_result"
    }
   ],
   "source": [
    "solve_cube(messed_up_cube)"
   ]
  },
  {
   "cell_type": "code",
   "execution_count": null,
   "metadata": {},
   "outputs": [],
   "source": []
  },
  {
   "cell_type": "code",
   "execution_count": 6,
   "metadata": {
    "ExecuteTime": {
     "end_time": "2025-04-12T22:34:59.617444Z",
     "start_time": "2025-04-12T22:34:59.609465Z"
    }
   },
   "outputs": [],
   "source": [
    "# from kociemba_script import get_kociemba_string\n",
    "from kociemba_script import *"
   ]
  },
  {
   "cell_type": "markdown",
   "metadata": {},
   "source": [
    "### Level 1 - version 1"
   ]
  },
  {
   "cell_type": "markdown",
   "metadata": {},
   "source": [
    "ok... it's go time"
   ]
  },
  {
   "cell_type": "markdown",
   "metadata": {},
   "source": [
    "For example, level 1 might be scrambles that expect you to just solve the edges, and the edge memo might only use \"easy letters\". A hypothetical letter difficulty system might go like this:\n",
    "\n",
    "```\n",
    "Edge Letters: A_CD EFGH IJKL _NOP QRST UVWX\n",
    "\n",
    "Level 1: ACD\n",
    "Level 2: ACD UVWX\n",
    "Level 3: ACD UVWX LR JT\n",
    "Level 4: ACD UVWX LR JT FH NP\n",
    "Level 5: ACD UVWX LR JT FH NP EIQ\n",
    "Level 6: ACD UVWX LR JT FH NP EIQ KS GO\n",
    "```"
   ]
  },
  {
   "cell_type": "code",
   "execution_count": 21,
   "metadata": {
    "ExecuteTime": {
     "end_time": "2025-04-12T22:46:21.932787Z",
     "start_time": "2025-04-12T22:46:21.913838Z"
    }
   },
   "outputs": [],
   "source": [
    "LEVEL_ONE_POOL   = \"ACD\"\n",
    "LEVEL_TWO_POOL   = \"ACDUVWX\"\n",
    "LEVEL_THREE_POOL = \"ACDUVWXLRJT\"\n",
    "LEVEL_FOUR_POOL  = \"ACDUVWXLRJTFHNP\"\n",
    "LEVEL_FIVE_POOL  = \"ACDUVWXLRJTFHNPEIQ\"\n",
    "LEVEL_SIX_POOL   = \"ACDUVWXLRJTFHNPEIQKSGO\"\n",
    "\n",
    "# TODO: order these strings in ascending move count order.\n",
    "# only matters for when we are printing the \"solution\" in letters\n",
    "\n",
    "EDGES_POOL_LIST = [\n",
    "    LEVEL_ONE_POOL,\n",
    "    LEVEL_TWO_POOL,\n",
    "    LEVEL_THREE_POOL,\n",
    "    LEVEL_FOUR_POOL,\n",
    "    LEVEL_FIVE_POOL,\n",
    "    LEVEL_SIX_POOL\n",
    "]"
   ]
  },
  {
   "cell_type": "code",
   "execution_count": 14,
   "metadata": {
    "ExecuteTime": {
     "end_time": "2025-04-12T22:39:50.628425Z",
     "start_time": "2025-04-12T22:39:50.615459Z"
    }
   },
   "outputs": [
    {
     "data": {
      "text/plain": [
       "22"
      ]
     },
     "execution_count": 14,
     "metadata": {},
     "output_type": "execute_result"
    }
   ],
   "source": [
    "len(LEVEL_SIX_POOL)\n",
    "# returns 22, which is the correct number of letters\n",
    "# (Y and Z not counted, buffer edges B and M not counted)"
   ]
  },
  {
   "cell_type": "code",
   "execution_count": 15,
   "metadata": {
    "ExecuteTime": {
     "end_time": "2025-04-12T22:39:56.061888Z",
     "start_time": "2025-04-12T22:39:56.019003Z"
    }
   },
   "outputs": [
    {
     "name": "stdout",
     "output_type": "stream",
     "text": [
      "VVWDCAXVCWAXWVCCCXXAAVWVCCVXCC\n",
      "AXCDWD.\n",
      "U' B2 U L2 B2 L2 U B2 L2 U\n",
      "-------------------------\n",
      "UXVCXAVUXVXAXWVXAWVDXVDCCXWCDW\n",
      "CVDAWXUA.\n",
      "U F2 R2 F2 U F2 D' L2 R2 U L R U2 L R'\n",
      "-------------------------\n",
      "CWUVXDAXXDWAXVVVWXVVVXAVXWXDAD\n",
      "CVWUXD.\n",
      "U' F2 L2 D' B2 F2 U B2 U' L' R' D2 L R\n",
      "-------------------------\n",
      "DXDWVCVXUUUWXACWUXCCWUCUDCVAAV\n",
      "WAUDXCVD.\n",
      "D R2 D' B2 L2 B2 D' R2 F2 D L R' B2 L' R\n",
      "-------------------------\n",
      "VCCVVWXDVUCXAUCDWUXDCAXXWCVVVA\n",
      "DAXCDUVU.\n",
      "F2 D' F2 L2 F2 L2 R2 U' B2 R2\n",
      "-------------------------\n"
     ]
    }
   ],
   "source": [
    "for i in range(5):\n",
    "    one_nons = generate_nonsense_solution(level_one_pool)\n",
    "    print(one_nons)\n",
    "    \n",
    "    simplified_solution = simplify_solution(one_nons + '.', priority=level_one_pool)\n",
    "    print(simplified_solution)\n",
    "\n",
    "    one_cube = scramble_cube_with_solution_string(simplified_solution)\n",
    "    #print(one_cube)\n",
    "    k_solution = get_solve_sequence(one_cube, reverse=True)\n",
    "    print(k_solution)\n",
    "    \n",
    "    print('-------------------------')"
   ]
  },
  {
   "cell_type": "code",
   "execution_count": 16,
   "metadata": {
    "ExecuteTime": {
     "end_time": "2025-04-12T22:39:57.639666Z",
     "start_time": "2025-04-12T22:39:56.413946Z"
    }
   },
   "outputs": [
    {
     "name": "stdout",
     "output_type": "stream",
     "text": [
      "U2 B2 L2 U' B2 F2 D F2 U2 L R D2 L' R'\n",
      "D R2 B2 R2 D L2 D' B2 F2 U L' R D2 L' R'\n",
      "D2 R2 B2 L2 U B2 F2 D F2 R2 F2\n",
      "L2 F2 R2 B2 F2 D' B2 F2 U L' R' U2 L' R'\n",
      "U2 L2 R2 D' B2 F2 U' R2 F2 L R' U2 L' R'\n",
      "U' B2 R2 F2 L2 R2 U2 F2 R2 F2 U'\n",
      "L2 B2 D L2 F2 L2 D2 L2 R2 U' F2\n",
      "D B2 U L2 R2 D' F2 L2 R2 D L R' B2 L' R\n",
      "U2 F2 L2 D' L2 R2 U R2 F2 U2\n",
      "R2 D B2 F2 L2 B2 R2 D R2 F2\n",
      "B2 F2 D L2 B2 L2 D R2 B2 F2 L' R U2 L' R'\n",
      "L2 R2 U' L2 R2 D' B2 L2 F2 U2 L' R' U2 L' R'\n",
      "B2 R2 F2 U L2 R2 D B2 F2 U2 L' R' U2 L' R'\n",
      "U2 L2 B2 R2 D L2 F2 R2 U'\n",
      "B2 L2 B2 U' B2 F2 D L' R' U2 L' R'\n",
      "D L2 R2 U F2 L2 F2 L2 F2 R2 D2\n",
      "D F2 U L2 R2 D' B2 L2 R2 D L' R F2 L R'\n",
      "R2 B2 U B2 L2 B2 U F2 R2 F2 L R' U2 L' R'\n",
      "D' R2 B2 R2 D B2 F2 U2 L2 F2 R2\n",
      "B2 L2 D' F2 L2 F2 D B2 F2 U2 R2\n",
      "U2 B2 F2 D' R2 B2 R2 D L' R' U2 L' R'\n",
      "R2 F2 L2 D B2 F2 U L2 R2 D2 L' R' U2 L' R'\n",
      "F2 D B2 U2 F2 L2 F2 U2 L2 U L R' U2 L' R'\n",
      "U2 L2 R2 D' R2 D' F2 L2 F2 D' L R U2 L R' U'\n",
      "D L2 R2 U' B2 U B2 L2 B2 U L R' U2 L' R'\n",
      "U F2 L2 U B2 R2 B2 U L2 U'\n",
      "R2 U2 L2 B2 R2 D L2 R2 U B2 L' R' U2 L' R'\n",
      "L2 B2 U' F2 L2 F2 R2 F2 R2 U L R' U2 L' R'\n",
      "B2 D F2 R2 F2 D L2 F2 R2 F2\n",
      "L2 U2 B2 F2 D L2 F2 L2 D' R2 F2\n",
      "B2 D2 L2 R2 U' R2 B2 R2 U F2 R2\n",
      "F2 D' R2 U2 B2 R2 B2 U2 B2 D' L' R U2 L' R'\n",
      "B2 F2 D2 B2 L2 F2 U' R2 B2 R2 U\n",
      "F2 D B2 F2 R2 B2 R2 U B2 D2 L' R F2 L R\n",
      "F2 D2 F2 L2 U L2 R2 D' B2 U2 L R' U2 L' R'\n",
      "B2 D' L2 R2 U2 F2 L2 R2 F2 U' F2\n",
      "F2 D2 R2 B2 L2 U' L2 R2 D' L' R U2 L' R'\n",
      "D' F2 D' L2 R2 U L2 B2 U' L' R' U2 L' R'\n",
      "B2 D R2 F2 R2 B2 F2 U L2 B2 L' R' D2 L R'\n",
      "B2 D' B2 F2 U F2 L2 D2 L' R F2 L' R'\n",
      "F2 U B2 F2 D' B2 R2 U2 L R' F2 L' R'\n",
      "U L2 R2 D F2 R2 F2 D2 L' R' U2 L' R'\n",
      "F2 U B2 F2 L2 R2 U' F2 R2 D2 L' R F2 L' R'\n",
      "D B2 L2 F2 R2 F2 R2 U' L2 U2 L R' F2 L' R'\n",
      "D2 L2 R2 U' L2 F2 L2 U B2 L2 F2\n",
      "D2 B2 F2 U R2 B2 R2 U' B2 R2 F2\n",
      "R2 D B2 D' F2 L2 B2 U' R2 D L' R' U2 L R'\n",
      "R2 F2 L2 U R2 B2 F2 R2 U' L' R' U2 L' R'\n",
      "R2 U L2 R2 D2 B2 L2 F2 U' R2 F2\n",
      "B2 R2 B2 U' L2 D2 F2 R2 B2 U2 L R' U2 L R' U'\n",
      "U2 F2 D R2 B2 R2 D F2 L2 U2\n",
      "U L2 U F2 R2 F2 U L2 B2 U'\n",
      "L2 B2 L2 U2 F2 R2 U L2 R2 D' L R' U2 L R' U2\n",
      "R2 U2 B2 L2 U' B2 F2 D R2 F2 L R' F2 L' R'\n",
      "F2 U' F2 L2 R2 F2 U F2 L2 U2 L R' F2 L' R'\n",
      "U F2 D2 B2 L2 F2 U2 R2 U L R U2 L' R'\n",
      "B2 U B2 F2 D2 R2 F2 L2 U' B2 L2\n",
      "B2 L2 B2 U B2 F2 D' R2 F2 D2 L' R F2 L' R'\n",
      "U B2 L2 D' F2 L2 B2 U' R2 U'\n",
      "L2 D2 F2 L2 F2 D L2 R2 U L' R' U2 L R'\n",
      "U L2 F2 R2 B2 F2 U F2 L' R' U2 L R'\n",
      "U2 B2 F2 L2 B2 R2 U2 R2 F2 R2\n",
      "B2 F2 D B2 F2 U2 B2 R2 B2 U' L R U2 L' R'\n",
      "R2 B2 U' B2 L2 B2 L2 F2 R2 D L R' D2 L' R'\n",
      "U2 B2 F2 R2 B2 F2 R2 D' L2 R2 U'\n",
      "B2 F2 D2 B2 R2 F2 U R2 F2 R2 U'\n",
      "B2 D B2 L2 B2 D2 B2 F2 U' L' R U2 L' R'\n",
      "U' F2 L2 B2 L2 R2 U B2 F2 D2 L' R' U2 L' R'\n",
      "F2 D' L2 D' F2 L2 B2 U' F2 U' L R' U2 L R\n",
      "D' L2 F2 L2 D' R2 D B2 F2 U' L R' D2 L' R'\n",
      "L2 F2 D2 R2 D L2 R2 U' R2 U2 L R' U2 L' R'\n",
      "U F2 D R2 F2 R2 D F2 R2 U'\n",
      "L2 D' B2 F2 U R2 B2 F2\n",
      "U2 F2 D F2 L2 F2 D F2 L2 U2\n",
      "U' R2 B2 R2 B2 F2 D2 L2 F2 R2 U'\n",
      "F2 D' F2 R2 F2 D F2 R2 F2 D2 F2\n",
      "U L2 U L2 R2 D' R2 U'\n",
      "B2 R2 F2 R2 U' B2 F2 D L' R U2 L' R'\n",
      "D L2 U' B2 F2 D B2 R2 U L' R' U2 L' R'\n",
      "B2 F2 D' F2 L2 U' L2 B2 R2 D L R' B2 L' R' U\n",
      "R2 U2 B2 F2 D' R2 B2 L2 U F2 L' R' D2 L' R'\n",
      "L2 D' B2 F2 R2 B2 R2 U' F2 L' R' U2 L R\n",
      "R2 B2 R2 U B2 L2 F2 D2 L2 R2 U'\n",
      "D' F2 U' L2 R2 D B2 U R2 D2 L' R F2 L' R'\n",
      "D F2 D' F2 R2 B2 U' R2 D B2 L' R' D2 L R'\n",
      "F2 R2 F2 R2 U B2 F2 L2 R2 U' L' R U2 L' R'\n",
      "R2 D' R2 U B2 F2 D' L2 U F2 L R' U2 L' R'\n",
      "L2 D' B2 F2 U B2 F2 R2 D U2 L R' F2 L R' U'\n",
      "D' B2 F2 U F2 U L2 B2 L2 U B F U2 B F'\n",
      "D2 F2 D' B2 L2 B2 L2 R2 U' B2 L R F2 L R'\n",
      "B2 D' F2 R2 F2 L2 R2 U' R2 B F U2 B' F'\n",
      "L2 B2 D2 L2 D' B2 F2 U R2 U2 L' R U2 L' R'\n",
      "U' B2 R2 B2 L2 F2 R2 D L2 R2\n",
      "U F2 R2 D' B2 F2 U B2 U F2 L' R' U2 L R'\n",
      "D2 L2 B2 L2 D B2 F2 U L' R' U2 L' R'\n",
      "L2 D' L2 B2 L2 D B2 F2 U2 R2 F2\n",
      "D R2 B2 R2 D L2 D' B2 F2 U L' R D2 L' R'\n",
      "B2 D' R2 U2 B2 R2 B2 U2 F2 U' L R' D2 L' R'\n",
      "B2 R2 D R2 B2 R2 B2 F2 U F2 L R' U2 L' R'\n",
      "D' B2 D L2 F2 L2 D B2 L2 U' L R' F2 L R'\n",
      "B2 R2 F2 D' L2 F2 R2 U'\n",
      "U R2 D' L2 R2 U' L2 R2 D2 R2 U'\n",
      "F2 D B2 D2 R2 F2 L2 U2 L2 U L' R D2 L' R'\n",
      "L2 B2 D B2 R2 B2 L2 R2 U F2\n",
      "B2 U2 B2 F2 D' F2 R2 B2 U L R' U2 L' R'\n",
      "B2 F2 D R2 F2 R2 B2 F2 U F2 L R U2 L R'\n",
      "B2 U' B2 R2 B2 U' B2 R2\n",
      "L2 F2 R2 F2 D' B2 F2 U R2 D2 B F' R2 B' F'\n",
      "U2 R2 U' B2 F2 D R2 U2 B2 L R' D2 L R'\n",
      "L2 F2 L2 U' F2 L2 F2 U'\n",
      "B2 U L2 D' F2 R2 B2 U' F2 U B F U2 B F'\n",
      "R2 F2 D L2 R2 U' L2 F2 R2 F2\n",
      "B2 U' L2 F2 L2 D U' L2 R2 U' B' F' U2 B F'\n",
      "F2 D B2 L2 U' B2 F2 D B2 U L R' U2 L' R'\n",
      "B2 F2 R2 U B2 F2 L2 R2 U' B2 L R' U2 L' R'\n",
      "L2 B2 U B2 F2 D B2 R2 B2 D2 F2\n",
      "D' B2 F2 U B2 D B2 L2 F2 U L R' U2 L' R'\n",
      "F2 R2 U2 B2 F2 D' B2 R2 F2 U' L R' F2 L' R'\n",
      "B2 R2 D R2 B2 R2 B2 F2 U F2 L R' U2 L' R'\n",
      "U2 L2 F2 L2 U R2 B2 R2 U'\n",
      "B2 D2 L2 R2 U L2 R2 D L2 F2 L' R' U2 L' R'\n",
      "D' F2 R2 B2 R2 F2 R2 U' L2 R2 D2\n",
      "L2 R2 U' B2 F2 D B2 R2 F2 L' R' U2 L' R'\n",
      "D2 L2 B2 R2 U2 B2 D B2 F2 U' L' R' D2 L R'\n",
      "U B2 D F2 R2 F2 D B2 L2 U'\n",
      "L2 D L2 R2 U2 F2 R2 B2 D' F2 L' R' U2 L' R'\n",
      "B2 D' F2 L2 B2 R2 F2 R2 U F2\n",
      "R2 D B2 U2 B2 L2 B2 U2 R2 U L R U2 L R'\n",
      "D L2 R2 U B2 L2 F2 D2 R2 F2 R2\n",
      "U2 L2 F2 L2 U B2 F2 L2 F2 R2 U'\n",
      "R2 F2 R2 B2 D' B2 F2 U R2 D2 B F' R2 B' F'\n",
      "L2 B2 L2 U2 F2 R2 U L2 R2 D' L R' U2 L R' U2\n",
      "D R2 U2 L2 B2 L2 U2 B2 U B' F' U2 B' F'\n",
      "U2 L2 F2 U' F2 L2 F2 U' F2 U2\n",
      "F2 D2 L2 B2 U B2 F2 D' R2 U2 L R' U2 L' R'\n",
      "L2 D2 F2 R2 B2 U' R2 F2 R2 U R2\n",
      "U' L2 F2 D' F2 L2 F2 D' F2 U\n",
      "D2 B2 F2 U' B2 F2 D' R2 B2 L R' U2 L' R'\n",
      "D L2 B2 R2 B2 F2 D F2 L R U2 L R'\n",
      "U B2 U' L2 B2 L2 U' B2 L2 U'\n",
      "U2 L2 R2 D B2 F2 R2 F2 R2 U' L R U2 L' R'\n",
      "R2 U R2 F2 L2 D2 B2 F2 U' R2 B2\n",
      "U B2 L2 D' R2 F2 R2 D' L2 U'\n",
      "L2 D L2 R2 U' R2 B2 L2 F2 L' R' U2 L' R'\n",
      "L2 B2 D L2 R2 U2 R2 F2 R2 U' F2\n",
      "U B2 F2 D' F2 U2 B2 R2 B2 U2 L R' U2 L' R'\n",
      "U' F2 U' B2 L2 B2 U' F2 R2 U\n",
      "L2 R2 D2 L2 U L2 R2 D' L2 U2\n",
      "B2 U B2 D F2 L2 F2 D R2 U L R' U2 L' R'\n",
      "L2 R2 D2 B2 R2 B2 D' B2 F2 U' L R U2 L' R'\n",
      "F2 D' F2 R2 B2 U' L R' U2 L' R'\n",
      "B2 F2 U' L2 R2 D' F2 R2 F2 D2 L R U2 L' R'\n",
      "R2 U' F2 L2 R2 F2 U L2 R2 F2 L R' U2 L' R'\n",
      "L2 D' B2 U' B2 F2 D R2 B2 U' L' R' U2 L R'\n",
      "L2 R2 U' B2 F2 D B2 R2 F2 L' R' U2 L' R'\n",
      "D L2 R2 U2 B2 R2 F2 D' B2 F2 L' R' D2 L' R'\n",
      "B2 F2 D2 R2 B2 L2 U F2 L2 F2 U'\n",
      "B2 D' B2 R2 F2 U2 R2 F2 R2 U' L R' D2 L' R\n",
      "L2 D' B2 L2 B2 D2 B2 R2 F2 U' B' F D2 B F'\n",
      "F2 R2 U2 R2 U' F2 L2 F2 U' F2 L' R F2 L' R'\n",
      "L2 B2 U2 L2 D B2 F2 U' L2 U2 L R' U2 L' R'\n",
      "L2 B2 U' B2 F2 L2 B2 R2 U' B2\n",
      "L2 B2 U L2 R2 D2 B2 L2 F2 U' B2\n",
      "L2 D' F2 D' R2 F2 R2 D' L2 U' B' F D2 B' F'\n",
      "D F2 R2 F2 D L2 D L2 R2 U' L R' D2 L' R'\n",
      "R2 U' L2 D' L2 R2 U B2 R2 U' L R U2 L' R\n",
      "F2 L2 F2 U' B2 F2 D' L2 F2 R2 U2\n",
      "D2 L2 D' R2 B2 R2 B2 F2 U' R2 B F L2 B F'\n",
      "B2 D F2 R2 B2 U F2 L2\n",
      "F2 D L2 R2 U' B2 D2 L2 R2 U2\n",
      "L2 B2 D2 F2 R2 F2 D B2 F2 U F2\n",
      "U2 L2 D L2 R2 U' B2 R2 U2 L R U2 L' R'\n",
      "U B2 F2 D B2 F2 U2\n",
      "D' B2 D F2 R2 B2 U L2 D' F2 L R U2 L R'\n",
      "F2 D2 R2 F2 R2 D B2 F2 U L R' U2 L' R'\n",
      "U2 L2 R2 D' L2 D' F2 R2 F2 D' L' R' U2 L R' U'\n",
      "L2 F2 U B2 L2 F2 L2 R2 U F2\n",
      "B2 D' L2 R2 U' R2 F2 R2 U2 L' R U2 L' R'\n",
      "D' B2 U2 F2 R2 F2 U2 L2 D' F2 L' R' U2 L R'\n",
      "U' L2 D' F2 R2 B2 U' F2 U' L' R' U2 L R\n",
      "R2 F2 U L2 R2 D B2 R2 F2 U2 L' R U2 L' R\n",
      "R2 D L2 R2 U' R2 B2 F2 R2 F2 L R' U2 L' R'\n",
      "U2 R2 D B2 F2 U' R2 U2 F2 L R' U2 L R'\n",
      "L2 U' F2 L2 R2 F2 U B2 F2 U2 L R' F2 L' R'\n",
      "R2 F2 U2 L2 D B2 F2 U' L2 U2 L' R U2 L' R'\n",
      "R2 F2 D L2 R2 U L2 F2 R2 D2 F2\n",
      "L2 D R2 B2 R2 D' B2 F2 U2 R2 B2\n",
      "U L2 R2 D2 F2 R2 B2 U' B2 F2 L' R' U2 L' R'\n",
      "U R2 U' F2 L2 R2 F2 U R2 D B F' R2 B F'\n",
      "R2 D2 F2 R2 B2 U B2 F2 D L' R' U2 L R'\n",
      "R2 B2 F2 D2 R2 U B2 F2 D' L' R' F2 L' R'\n",
      "U B2 F2 D F2 L2 F2 D2 L' R' U2 L' R'\n",
      "L2 F2 U B2 R2 B2 L2 F2 R2 D' L R' U2 L' R'\n",
      "B2 F2 U' F2 R2 F2 L2 F2 R2 D\n",
      "L2 F2 R2 U' B2 F2 D2 L2 R2 U' L' R' D2 L' R'\n",
      "R2 F2 D2 L2 F2 R2 U B2 F2 D F2\n",
      "F2 D' R2 D B2 L2 F2 U B2 D' L R' D2 L' R'\n",
      "B2 D2 B2 R2 U' L2 R2 D F2 U2 L' R U2 L' R'\n",
      "U' B2 R2 F2 L2 R2 U' R2 B2 F2 L R' U2 L' R'\n",
      "D B2 F2 U' B2 D2 R2 B2 L2 U2 L R' U2 L' R'\n",
      "U2 L2 F2 D' R2 B2 R2 D' F2 U2\n",
      "B2 D L2 R2 U2 B2 L2 F2 D' B2 L2\n",
      "B2 R2 U B2 F2 D2 L2 F2 R2 U' R2\n",
      "F2 L2 B2 F2 D' B2 R2 B2 D' U2 L R' F2 L' R'\n",
      "L2 U' B2 D' L2 R2 U R2 B2 U' L R D2 L R'\n",
      "L2 F2 D' F2 R2 F2 D' F2 R2 F2 L' R U2 L' R'\n",
      "D' R2 F2 U F2 L2 F2 U F2 U' L R' F2 L R'\n",
      "F2 L2 B2 D R2 B2 R2 D L2 R2\n",
      "U L2 F2 L2 U R2 D L2 R2 U' B' F' U2 B F'\n",
      "R2 U' L2 B2 L2 U2 R2 F2 R2 U' R2\n",
      "U' R2 B2 D' B2 R2 B2 D' B2 U\n",
      "R2 B2 L2 U R2 B2 R2 U B2 F2\n",
      "U L2 R2 D2 R2 B2 L2 U' B2 F2 L' R' U2 L' R'\n",
      "R2 D' R2 D' F2 R2 B2 U' F2 U' L R D2 L R'\n",
      "L2 D' F2 R2 F2 L2 R2 U' B2 L R U2 L' R'\n",
      "R2 D' B2 R2 B2 D' F2 L2 F2 U2 L R' F2 L' R'\n",
      "F2 D R2 F2 U L2 R2 D' R2 U L' R D2 L' R'\n",
      "D' F2 R2 D B2 L2 B2 D L2 U' L R' F2 L R'\n",
      "U B2 F2 D' B2 D R2 B2 L2 U L R' U2 L' R'\n",
      "F2 U B2 F2 D2 R2 F2 L2 U' L R' D2 L' R'\n",
      "R2 B2 U B2 L2 B2 U L2 R2 F2\n",
      "U B2 F2 L2 R2 U' R2 D2 B2 F2 L R' F2 L' R'\n",
      "F2 R2 U' B2 F2 D' F2 R2 F2 D2 L2\n",
      "L2 D2 F2 L2 R2 U' B2 F2 D F2 L R' F2 L' R'\n",
      "B2 F2 R2 U2 B2 F2 U' L2 R2 D L R' F2 L' R'\n",
      "D' B2 F2 U F2 U R2 F2 R2 U L' R D2 L' R'\n",
      "L2 D L2 B2 L2 D B2 R2 F2 R2\n",
      "U B2 F2 D R2 F2 R2 D2 L2 F2 R2\n",
      "D2 R2 B2 L2 U2 B2 D B2 F2 U' L R D2 L R'\n",
      "R2 B2 D' F2 L2 F2 D' B2\n",
      "B2 D' R2 F2 R2 B2 F2 U' L' R U2 L' R'\n",
      "D2 L2 F2 L2 D B2 L2 F2 L2 R2 D'\n",
      "F2 L2 U' B2 F2 L2 F2 R2 U' L2\n"
     ]
    },
    {
     "name": "stdout",
     "output_type": "stream",
     "text": [
      "F2 D L2 R2 U' B2 D L2 R2 U L' R B2 L R'\n",
      "F2 D' B2 F2 U R2 F2 L2 F2 U2 L R' F2 L' R'\n",
      "L2 D' B2 L2 B2 D B2 R2 F2 U2 R2\n",
      "B2 L2 F2 U2 R2 D' L2 R2 U B2 L' R' F2 L R'\n",
      "R2 U2 F2 R2 U' B2 F2 D B2 U2 L' R' U2 L R'\n",
      "U B2 R2 B2 L2 F2 R2 D' R2 D2 L' R F2 L' R'\n",
      "U2 L2 B2 U R2 F2 R2 U B2 U2\n",
      "F2 L2 F2 U L2 R2 D2 L2 B2 R2 U'\n",
      "U2 F2 L2 B2 L2 R2 U B2 F2 D L' R' U2 L' R'\n",
      "L2 B2 L2 R2 D F2 R2 F2 D F2\n",
      "B2 U2 B2 F2 D L2 F2 L2 D' F2 L2\n",
      "U2 L2 B2 U F2 R2 B2 L2 R2 U L R' U2 L R' U2\n",
      "B2 F2 U' L2 B2 R2 D B2 F2 U2 L' R' U2 L' R'\n",
      "D' L2 D R2 B2 L2 U F2 D' L R D2 L' R'\n",
      "U B2 F2 D2 L2 F2 R2 U' R2 B2 R2\n",
      "B2 F2 U F2 L2 F2 U L' R' U2 L' R'\n",
      "B2 D' L2 B2 R2 U2 F2 R2 F2 U' L R' D2 L' R\n",
      "U' F2 R2 B2 R2 F2 R2 D' L2 R2 U2\n",
      "F2 D' F2 D' B2 R2 F2 U' R2 U' L' R D2 L' R'\n",
      "F2 D F2 R2 U' B2 F2 D F2 U L R' U2 L' R'\n",
      "R2 D' B2 F2 D U B2 F2 U' R2\n",
      "B2 L2 B2 F2 U L2 R2 D' F2 L R U2 L' R'\n",
      "R2 B2 U2 B2 F2 D' L2 B2 L2 D F2\n",
      "R2 B2 R2 D B2 F2 U L2 F2 R2 D2\n",
      "F2 U' B2 L2 B2 U' R2 U R2 F2 L' R' B2 L R' U'\n",
      "L2 B2 U R2 F2 L2 D2 B2 F2 U' L R' U2 L R'\n",
      "D B2 L2 B2 L2 R2 U B2 F2 L R U2 L' R'\n",
      "R2 B2 D2 R2 B2 R2 D B2 F2 U L' R U2 L R'\n",
      "B2 F2 R2 U' L2 R2 D B2 F2 R2\n",
      "B2 D F2 D' B2 F2 U R2 F2 U L R' D2 L' R'\n",
      "D' F2 R2 B2 U' L' R' U2 L' R'\n",
      "D F2 L2 F2 D U R2 B2 R2 U\n",
      "B2 L2 D L2 R2 U2 L2 F2 L2 U' R2\n",
      "R2 B2 L2 R2 U' F2 L2 F2 U' F2\n",
      "L2 F2 L2 U B2 F2 L2 F2 R2 U\n",
      "R2 D' F2 R2 F2 D' R2 F2\n",
      "U L2 R2 D' U R2 F2 R2 U B2 L' R' U2 L R'\n",
      "L2 B2 L2 U2 B2 R2 F2 D' L2 R2 U'\n",
      "B2 F2 D' R2 F2 R2 B2 F2 U' L R U2 L' R'\n",
      "R2 U F2 R2 F2 L2 F2 R2 D' B2 L R' D2 L' R'\n",
      "R2 F2 L2 D' L2 R2 U' F2 R2 F2 U2\n",
      "F2 D B2 F2 L2 F2 R2 D F2 D2 L R' B2 L R\n",
      "B2 R2 B2 D B2 F2 U2 L2 F2 R2 D'\n",
      "L2 R2 F2 D F2 R2 F2 D L' R U2 L' R'\n",
      "U2 R2 F2 U' R2 F2 R2 U' F2 U2\n",
      "D' B2 L2 F2 R2 F2 R2 U' L2 R2 D2\n",
      "D' B2 L2 B2 D' R2 D' L2 R2 U L' R D2 L' R'\n",
      "F2 U F2 L2 D' B2 F2 U B2 U L' R U2 L' R'\n",
      "B2 U B2 F2 L2 B2 R2 U B2 D2 L' R F2 L' R'\n",
      "U' L2 B2 D R2 F2 R2 D B2 U\n",
      "U2 F2 L2 D L2 F2 L2 D L2 U2\n",
      "F2 L2 D L2 R2 U' F2 R2 F2 D2 L R' B2 L' R'\n",
      "L2 D' B2 F2 L2 B2 F2 R2 D' L' R F2 L' R'\n",
      "F2 U2 B2 L2 B2 U2 F2 R2\n",
      "F2 U' R2 B2 R2 U2 B2 R2 F2 D' B2\n",
      "L2 U2 R2 B2 F2 R2 U' B2 F2 D' R2\n",
      "D2 B2 L2 F2 U' B2 F2 D' F2 L' R' U2 L R'\n",
      "R2 D B2 F2 U' F2 D B2 F2 U' L' R U2 L R\n",
      "B2 D' B2 F2 U' F2 R2 F2 U2 F2 R2\n",
      "L2 D L2 R2 U' L2 D2 L2 R2 U2\n",
      "U2 R2 B2 D F2 L2 F2 D B2 U2\n",
      "D' B2 L2 F2 U' R2 D L2 R2 U' L R' U2 L' R'\n",
      "L2 R2 D B2 F2 U R2 F2 R2 U2 L R U2 L' R'\n",
      "R2 B2 U2 B2 R2 B2 U B2 F2 D F2\n",
      "F2 L2 R2 D' B2 F2 U F2 L2 U2 L R' F2 L' R'\n",
      "L2 F2 L2 U B2 L2 F2 D2 L2 R2 U'\n",
      "B2 L2 F2 D2 F2 R2 F2 D L2 R2 U\n",
      "F2 L2 F2 R2 F2 R2 D B2 F2 U' R D2 L2 R2 U2 R'\n",
      "U2 F2 L2 B2 R2 F2 R2 D' B2 F2 U'\n",
      "L2 F2 D B2 R2 B2 D F2\n",
      "F2 D R2 D R2 B2 L2 U F2 U L R' U2 L' R'\n",
      "B2 U2 B2 R2 U B2 F2 D' F2 U2 L R' U2 L' R'\n",
      "U' B2 D B2 F2 U' L2 F2 U' B2 L' R' D2 L R'\n",
      "R2 D B2 F2 U' L2 D' B2 F2 U\n",
      "F2 D' R2 B2 R2 B2 F2 U' B2 D2 L' R F2 L' R'\n",
      "D L2 B2 D L2 F2 L2 D B2 U L' R B2 L' R\n",
      "F2 R2 B2 D L2 B2 R2 U\n",
      "U2 L2 F2 L2 U L2 R2 D B2 R2 F2\n",
      "U' B2 F2 D B2 U' R2 B2 R2 U' L' R U2 L' R'\n",
      "B2 D F2 L2 B2 U B2 F2 L R' U2 L' R'\n",
      "B2 L2 U' F2 R2 F2 U' L2\n",
      "B2 L2 U L2 F2 L2 U' B2 F2 D2 R2\n",
      "D F2 L2 F2 L2 R2 U B2 F2 L R D2 L' R'\n",
      "R2 U' B2 F2 L2 F2 R2 U L2 F2 L' R' F2 L' R'\n",
      "B2 F2 D B2 F2 U' L2 F2 L' R U2 L' R'\n",
      "B2 R2 F2 L2 D B2 F2 U' L R' U2 L' R'\n",
      "B2 D' B2 F2 U L2 B2 R2 B2 D2 L' R F2 L' R'\n",
      "L2 B2 L2 U2 L2 R2 D' B2 L2 F2 U\n",
      "D B2 R2 B2 D2 L2 R2 U' L' R' U2 L' R'\n",
      "U2 R2 B2 L2 D' B2 F2 U' F2 L' R' U2 L R'\n",
      "F2 L2 U' B2 F2 D U2 F2 L2 F2 L R' F2 L' R'\n",
      "F2 D B2 F2 U2 L2 F2 R2 D' F2 L2\n",
      "B2 D B2 F2 U2 F2 R2 F2 U' F2 R2\n",
      "F2 U' L2 D' B2 F2 U B2 L2 U' L' R U2 L' R'\n",
      "F2 D2 F2 L2 B2 U' L2 R2 D' F2 R2\n",
      "U' L2 R2 D' B2 F2 U2 L2 B2 L' R U2 L' R'\n",
      "R2 B2 D B2 L2 B2 D F2 U F2 L R' U2 L R' U'\n",
      "B2 D R2 U' B2 F2 D L2 U' F2\n",
      "L2 R2 U B2 L2 F2 R2 F2 R2 D'\n",
      "R2 D' B2 F2 U' F2 L2 B2 D2 B2 L' R' U2 L' R'\n",
      "U2 R2 B2 L2 D' B2 F2 R2 F2 R2 U\n",
      "B2 L2 B2 L2 F2 R2 D' B2 F2 U\n",
      "D2 F2 R2 F2 D' B2 R2 F2 L2 R2 D\n",
      "L2 R2 U' L2 B2 L2 U2 B2 R2 F2 D'\n",
      "U2 L2 R2 D L2 D L2 R2 U' L2 U\n",
      "B2 U F2 D' B2 F2 U L2 B2 U L' R D2 L' R'\n",
      "D' B2 R2 B2 L2 R2 U' L2 R2 F2 L R U2 L R'\n",
      "D L2 R2 U' F2 D L2 F2 R2 U L' R D2 L' R'\n",
      "R2 D' B2 F2 U' L2 B2 R2 D2 R2 F2\n",
      "U2 L2 U B2 L2 B2 U L2 B2 U2\n",
      "B2 L2 F2 D F2 R2 F2 L2 R2 U\n",
      "R2 U2 R2 F2 R2 U' B2 F2 D' F2 L' R' U2 L' R'\n",
      "B2 U' B2 L2 B2 U' L2 F2 R2 F2\n",
      "D' B2 L2 B2 L2 F2 R2 U B2 R2 B F' U2 B' F'\n",
      "F2 D L2 R2 U L2 B2 L2 U2 L R' U2 L' R'\n",
      "D' B2 L2 F2 L2 R2 D' F2 L2 F2\n",
      "U2 R2 B2 F2 U B2 F2 D' R2 U2\n",
      "B2 F2 L2 D2 R2 D B2 F2 U' L' R' F2 L' R'\n",
      "U B2 D R2 F2 L2 U R2 U B2 L R D2 L R'\n",
      "B2 L2 D L2 R2 U B2 L2 F2 D2 L2\n",
      "U' B2 D L2 R2 U' F2 L2 R2 U\n",
      "R2 U F2 L2 B2 L2 R2 U' L2 B2 L' R' F2 L' R'\n",
      "U L2 B2 U F2 L2 F2 U B2 D L R' B2 L R'\n",
      "F2 L2 B2 D' F2 L2 F2 D' L2 R2\n",
      "F2 D B2 L2 R2 F2 U' L2 B2 D' L' R' U2 L' R' U'\n",
      "F2 R2 U' L2 F2 R2 D2 B2 F2 U' L R' F2 L' R'\n",
      "D' B2 U L2 R2 D' F2 U F2 R2 B' F U2 B' F'\n",
      "F2 U F2 D2 F2 R2 B2 U2 R2 U L' R U2 L' R'\n",
      "B2 D2 L2 F2 L2 D B2 F2 U L' R U2 L R\n",
      "L2 D' B2 R2 F2 R2 F2 R2 U F2 L' R D2 L' R'\n",
      "L2 F2 U2 R2 D' L2 R2 U L2 U2 L' R U2 L' R'\n",
      "L2 F2 D2 F2 R2 U L2 R2 D' B F R2 B' F'\n",
      "R2 U' R2 F2 R2 U' F2 U' B2 F2 L' R' U2 L' R' U'\n",
      "U F2 D L2 B2 L2 D F2 R2 U'\n",
      "B2 U R2 F2 R2 U2 L2 F2 R2 D F2\n",
      "F2 U B2 U2 B2 R2 B2 U2 R2 U L' R U2 L' R'\n",
      "B2 L2 U' B2 F2 D B2 L' R' U2 L' R'\n",
      "U2 B2 R2 U' B2 F2 D L2 F2 U2\n",
      "R2 F2 U F2 R2 B2 L2 F2 R2 U' L' R U2 L' R'\n",
      "L2 D' B2 L2 B2 D' R2 B2 R2 F2 L R' U2 L' R'\n",
      "D2 F2 L2 R2 F2 D R2 F2 R2 D' L R U2 L' R'\n",
      "B2 U2 B2 D L2 R2 U' L2 B2 U2 L R' U2 L' R'\n",
      "D B2 F2 L2 F2 R2 D R2 B2 R2\n",
      "B2 D R2 B2 R2 B2 F2 U R2 B F U2 B' F'\n",
      "D R2 F2 D R2 B2 R2 D F2 U L R' F2 L R'\n",
      "B2 R2 B2 U B2 L2 F2 D2 L2 R2 U'\n",
      "L2 F2 U2 F2 R2 F2 U' L2 R2 D' B2\n",
      "L2 R2 U L2 R2 D F2 R2 B2 U2 L' R' U2 L' R'\n",
      "U2 B2 L2 D' B2 F2 U R2 F2 U2\n",
      "B2 D F2 U2 B2 L2 B2 U2 R2 D L' R D2 L' R'\n",
      "R2 B2 U B2 L2 B2 U' L2 R2 D2 F2\n",
      "L2 R2 U R2 F2 L2 D2 B2 F2 U' L' R' D2 L' R'\n",
      "R2 F2 R2 U R2 F2 R2 U\n",
      "L2 F2 D R2 F2 R2 D F2 R2 F2 L' R U2 L' R'\n",
      "F2 U' L2 R2 D L2 F2 R2 F2 R2\n",
      "L2 R2 D2 F2 L2 B2 U' R2 B2 R2 U\n",
      "B2 F2 U B2 R2 B2 U2 B2 R2 F2 D\n",
      "D' B2 F2 U B2 U L2 F2 L2 U L' R U2 L' R'\n",
      "U' R2 B2 U' L2 R2 D L2 U' L R U2 L' R'\n",
      "R2 U2 B2 L2 B2 U' B2 F2 D' L R D2 L R'\n",
      "B2 F2 U2 F2 L2 B2 D' B2 F2 U' L' R' U2 L' R'\n",
      "B2 U F2 L2 B2 L2 F2 R2 U' B2\n",
      "D F2 D B2 L2 F2 U R2 D L2 B' F' U2 B F'\n",
      "B2 F2 L2 B2 R2 U R2 F2 R2 U\n",
      "R2 B2 L2 R2 U B2 R2 B2 U F2\n",
      "B2 F2 U B2 F2 D2 L2 F2 R2 U' L' R' U2 L' R'\n",
      "L2 D' R2 D' R2 F2 R2 D' B2 U' B F' U2 B' F'\n",
      "L2 R2 D2 B2 U' L2 R2 D F2 U2\n",
      "B2 U' L2 F2 R2 B2 F2 U' R2 F2 L' R' D2 L R'\n",
      "R2 F2 U B2 R2 F2 D2 L2 R2 U' F2\n",
      "U L2 R2 D2 F2 R2 B2 U' F2 L' R' U2 L R'\n",
      "D' B2 F2 U R2 U R2 B2 R2 U L' R' U2 L R'\n",
      "L2 U' R2 F2 R2 U' R2 B2 R2 F2 L R' U2 L' R'\n",
      "B2 L2 F2 D L2 R2 U' L R U2 L' R'\n",
      "F2 U L2 R2 D' L2 R2 F2 R2 U2 L R' F2 L' R'\n",
      "U2 B2 D' B2 F2 U B2 D B2 F2 U\n",
      "R2 F2 D2 B2 F2 U' L2 R2 D' L' R U2 L' R'\n",
      "R2 D' L2 F2 R2 U2 F2 R2 F2 U' L2\n",
      "R2 D L2 R2 U F2 R2 F2 U2 F2 L' R' U2 L' R'\n",
      "D' F2 U2 B2 R2 B2 U2 R2 U' F2 L' R' U2 L' R\n",
      "U L2 R2 D' F2 U F2 R2 F2 U L' R U2 L' R'\n",
      "L2 B2 D2 L2 U' B2 F2 D R2 U2 L' R U2 L' R'\n",
      "R2 B2 R2 B2 U B2 L2 F2 D' L' R F2 L' R'\n",
      "R2 F2 U L2 R2 D F2 R2 F2 D2 B2\n",
      "L2 R2 B2 D' F2 R2 F2 L2 R2 U' L' R U2 L' R'\n",
      "D R2 F2 U F2 R2 F2 U F2 D'\n",
      "F2 D' F2 L2 F2 L2 R2 U' B2 R2\n",
      "U B2 D L2 F2 L2 D B2 R2 U'\n",
      "R2 D' B2 F2 U' B2 F2 D2 B2 L R' U2 L' R'\n",
      "D B2 F2 U B2 L2 B2 L2 F2 R2 D2\n",
      "B2 F2 D' F2 L2 F2 L2 R2 U' L R U2 L' R'\n",
      "F2 R2 D L2 F2 R2 B2 F2 D U2 L R' F2 L' R'\n",
      "D2 L2 R2 U L2 B2 L2 U' L' R' U2 L' R'\n",
      "U' F2 L2 F2 U' F2 D' L2 R2 U L' R' U2 L R'\n",
      "U F2 D' L2 F2 L2 D' F2 L2 U'\n",
      "L2 D R2 F2 L2 U2 B2 F2 D' L2 F2\n",
      "F2 L2 F2 D B2 L2 F2 U2 L2 R2 D'\n",
      "B2 U B2 L2 B2 U L2 F2 R2 F2\n",
      "D' R2 F2 R2 D' F2 R2 F2\n",
      "R2 U2 F2 U' B2 F2 D B2 L R' F2 L' R'\n",
      "U' F2 D L2 F2 L2 D F2 L2 U\n",
      "U' F2 U F2 R2 F2 U F2 L2 D' L R' B2 L R'\n",
      "U' F2 D R2 B2 R2 D F2 L2 U\n",
      "F2 L2 U L2 B2 L2 U B2 F2 R2\n",
      "U2 F2 U L2 F2 L2 U F2 L2 U2\n",
      "B2 D' F2 D' R2 B2 L2 U' L2 U' L' R U2 L' R'\n",
      "L2 D L2 R2 U L2 B2 R2 D2 L2 F2\n",
      "U' R2 D2 R2 B2 L2 U2 B2 U' F2 L' R' U2 L R'\n",
      "U B2 L2 F2 D2 L2 R2 U' F2 L2 F2\n",
      "U2 F2 D' F2 L2 F2 D' F2 R2 D L' R F2 L' R U'\n",
      "B2 D R2 B2 L2 U2 B2 F2 D' B2 L2\n",
      "D' L2 R2 U' B2 L2 F2 D2 F2 R2 F2\n",
      "L2 D2 F2 U' B2 F2 D B2 L' R F2 L' R'\n",
      "D' B2 F2 U' F2 R2 F2 U2 L2 F2 R2\n",
      "R2 F2 D B2 F2 U L2 R2 D2 L' R U2 L' R'\n",
      "D B2 D F2 R2 B2 U L2 D L R U2 L' R'\n",
      "L2 B2 U' L2 R2 D' F2 R2 B2 U2 B2\n",
      "R2 B2 R2 D' U' F2 L2 F2 D' U'\n",
      "U2 L2 B2 L2 U2 L2 D' B2 F2 U L' R U2 L' R'\n",
      "U' B2 L2 F2 D L2 F2 R2 U2 F2 L R' U2 L R'\n",
      "L2 B2 L2 R2 D R2 F2 R2 D F2\n",
      "R2 U L2 R2 D' L2\n",
      "U B2 U F2 R2 F2 U B2 L2 U'\n",
      "L2 R2 D' R2 U L2 R2 D' R2 U\n",
      "F2 U' L2 F2 L2 U2 B2 R2 F2 D' B2\n",
      "F2 D' F2 L2 D L2 R2 U' B2 U' L R' U2 L' R'\n",
      "R2 B2 L2 B2 D' B2 F2 U F2 L' R' U2 L' R'\n",
      "L2 R2 D2 L2 F2 R2 U F2 R2 F2 U'\n",
      "D2 B2 L2 F2 U B2 F2 D R2 F2 R2\n",
      "U2 B2 R2 B2 U L2 R2 D L' R' U2 L' R'\n",
      "D2 B2 L2 F2 U' B2 F2 D' B2 L' R' U2 L' R\n",
      "F2 L2 D2 B2 L2 D B2 F2 U' B2 L R' F2 L' R'\n",
      "B2 F2 D2 R2 U' B2 F2 D L2 U2\n",
      "B2 R2 B2 U2 L2 F2 R2 D L2 R2 U\n",
      "U2 B2 F2 D' L2 D' B2 F2 U R2 U'\n",
      "U' F2 L2 F2 U' F2 D L2 R2 U' L R D2 L' R\n",
      "D2 B2 L2 F2 U' B2 F2 D' R2 F2 R2\n",
      "L2 D B2 F2 U F2 L2 F2 U2 R2 F2\n",
      "F2 U' F2 R2 F2 D U' B2 F2 U' B F D2 B F'\n",
      "R2 U2 L2 D' B2 F2 U B2 F2 L' R' F2 L' R'\n",
      "F2 R2 F2 U R2 F2 R2 U\n",
      "U2 L2 R2 D R2 B2 R2 D' L2 F2 R2\n",
      "B2 U' F2 D B2 L2 F2 U R2 U' L' R D2 L R\n",
      "L2 F2 U B2 R2 B2 U F2\n",
      "B2 U' F2 U L2 R2 D' R2 F2 U' L R' U2 L' R'\n",
      "R2 B2 D' L2 B2 L2 D' B2 R2 F2 L' R U2 L' R'\n",
      "L2 U R2 U2 F2 L2 F2 U2 B2 U L R U2 L R'\n",
      "R2 U B2 R2 B2 U2 L2 F2 R2 D' L' R F2 L' R'\n",
      "L2 B2 R2 U F2 L2 R2 F2 U' L' R' U2 L' R'\n",
      "L2 D' B2 F2 L2 F2 R2 D' L2 F2\n",
      "F2 D' L2 F2 L2 D' B2 R2 D B2 L' R U2 L R' U'\n",
      "R2 B2 R2 D' L2 R2 U L' R' U2 L' R'\n",
      "U B2 R2 D B2 F2 U' L2 F2 U'\n",
      "L2 F2 L2 U2 B2 D B2 F2 U' L2 B' F' R2 B F'\n",
      "L2 D2 L2 F2 R2 U' B2 F2 D' F2 L' R' U2 L' R'\n",
      "U L2 U' B2 F2 D R2 B2 F2 U'\n",
      "B2 R2 B2 D B2 F2 U2 L2 F2 R2 D'\n",
      "B2 L2 B2 U2 B2 R2 F2 D' L2 R2 U'\n",
      "L2 R2 U2 F2 R2 F2 U' L2 R2 D' L R U2 L' R'\n",
      "R2 B2 D L2 R2 U B2 R2 B2 U2 F2\n",
      "F2 D' B2 R2 F2 U2 F2 R2 F2 U' B2\n",
      "B2 R2 U' R2 F2 L2 U2 B2 F2 U' L R' B2 L' R'\n",
      "D R2 U B2 F2 D' R2 B2 F2 U L R' F2 L R'\n",
      "U R2 F2 R2 D' U B2 F2 U L' R' U2 L' R'\n",
      "L2 R2 D R2 F2 L2 U' F2 L2 F2 U2\n",
      "U B2 L2 B2 U2 F2 R2 F2 U\n",
      "F2 L2 B2 D' L2 B2 D2 B2 F2 L R' F2 L' R' U'\n"
     ]
    }
   ],
   "source": [
    "for i in range(500):\n",
    "    one_nons = generate_nonsense_solution(level_one_pool)\n",
    "    simplified_solution = simplify_solution(one_nons + '.', priority=level_one_pool)\n",
    "    one_cube = scramble_cube_with_solution_string(simplified_solution)\n",
    "    k_solution = get_solve_sequence(one_cube, reverse=True)\n",
    "    print(k_solution)"
   ]
  },
  {
   "cell_type": "code",
   "execution_count": 17,
   "metadata": {
    "ExecuteTime": {
     "end_time": "2025-04-12T22:42:29.348284Z",
     "start_time": "2025-04-12T22:42:29.335320Z"
    }
   },
   "outputs": [],
   "source": [
    "def generate_baby_scrambles(edges_letter_pool, count=500):\n",
    "    to_return = \"\"\n",
    "    \n",
    "    for i in range(count):\n",
    "        one_nons = generate_nonsense_solution(edges_letter_pool)\n",
    "        simplified_solution = simplify_solution(one_nons + '.', priority=edges_letter_pool)\n",
    "        one_cube = scramble_cube_with_solution_string(simplified_solution)\n",
    "        k_solution = get_solve_sequence(one_cube, reverse=True)\n",
    "        to_return += \"\\n\"\n",
    "        to_return += k_solution\n",
    "    return to_return"
   ]
  },
  {
   "cell_type": "code",
   "execution_count": 22,
   "metadata": {
    "ExecuteTime": {
     "end_time": "2025-04-12T22:46:57.866648Z",
     "start_time": "2025-04-12T22:46:44.441567Z"
    }
   },
   "outputs": [],
   "source": [
    "level_x_scrambles = []\n",
    "\n",
    "for pool in EDGES_POOL_LIST:\n",
    "    level_x_scrambles.append(generate_baby_scrambles(pool))"
   ]
  },
  {
   "cell_type": "code",
   "execution_count": 23,
   "metadata": {
    "ExecuteTime": {
     "end_time": "2025-04-12T22:46:59.767563Z",
     "start_time": "2025-04-12T22:46:59.748614Z"
    }
   },
   "outputs": [
    {
     "data": {
      "text/plain": [
       "6"
      ]
     },
     "execution_count": 23,
     "metadata": {},
     "output_type": "execute_result"
    }
   ],
   "source": [
    "len(level_x_scrambles)"
   ]
  },
  {
   "cell_type": "code",
   "execution_count": 24,
   "metadata": {
    "ExecuteTime": {
     "end_time": "2025-04-12T22:48:08.271310Z",
     "start_time": "2025-04-12T22:48:08.250367Z"
    }
   },
   "outputs": [],
   "source": [
    "for i in range(len(level_x_scrambles)):\n",
    "    with open(f\"2025_level_{i+1}_scrambles.txt\", 'w') as file:\n",
    "        file.write(level_x_scrambles[i])"
   ]
  },
  {
   "cell_type": "code",
   "execution_count": 25,
   "metadata": {
    "ExecuteTime": {
     "end_time": "2025-04-12T22:49:19.927598Z",
     "start_time": "2025-04-12T22:49:19.921615Z"
    }
   },
   "outputs": [],
   "source": [
    "# that's good for today - next time, we have to order the pools (optional)\n",
    "# and incorporate gradually harder and harder corner scrambles (less optional)"
   ]
  },
  {
   "cell_type": "code",
   "execution_count": null,
   "metadata": {},
   "outputs": [],
   "source": []
  }
 ],
 "metadata": {
  "kernelspec": {
   "display_name": "Python 3 (ipykernel)",
   "language": "python",
   "name": "python3"
  },
  "language_info": {
   "codemirror_mode": {
    "name": "ipython",
    "version": 3
   },
   "file_extension": ".py",
   "mimetype": "text/x-python",
   "name": "python",
   "nbconvert_exporter": "python",
   "pygments_lexer": "ipython3",
   "version": "3.9.13"
  }
 },
 "nbformat": 4,
 "nbformat_minor": 2
}
