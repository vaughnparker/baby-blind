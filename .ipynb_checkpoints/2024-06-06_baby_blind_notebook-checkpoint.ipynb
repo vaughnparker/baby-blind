{
 "cells": [
  {
   "cell_type": "code",
   "execution_count": 1,
   "metadata": {
    "ExecuteTime": {
     "end_time": "2024-06-08T23:17:31.716128Z",
     "start_time": "2024-06-08T23:17:29.701512Z"
    }
   },
   "outputs": [],
   "source": [
    "import copy\n",
    "import random\n",
    "#import json\n",
    "import pickle\n",
    "\n",
    "import matplotlib.pyplot as plt\n",
    "import seaborn as sns\n",
    "\n",
    "import pandas as pd\n",
    "\n",
    "import kociemba"
   ]
  },
  {
   "cell_type": "code",
   "execution_count": 2,
   "metadata": {
    "ExecuteTime": {
     "end_time": "2024-06-08T23:17:31.732085Z",
     "start_time": "2024-06-08T23:17:31.718123Z"
    }
   },
   "outputs": [],
   "source": [
    "SOLVED_STATE = {\n",
    "    'A' : 'A',\n",
    "    'B' : 'B',\n",
    "    'C' : 'C',\n",
    "    'D' : 'D',\n",
    "\n",
    "    'E' : 'E',\n",
    "    'F' : 'F',\n",
    "    'G' : 'G',\n",
    "    'H' : 'H',\n",
    "\n",
    "    'I' : 'I',\n",
    "    'J' : 'J',\n",
    "    'K' : 'K',\n",
    "    'L' : 'L',\n",
    "\n",
    "    'M' : 'M',\n",
    "    'N' : 'N',\n",
    "    'O' : 'O',\n",
    "    'P' : 'P',\n",
    "\n",
    "    'Q' : 'Q',\n",
    "    'R' : 'R',\n",
    "    'S' : 'S',\n",
    "    'T' : 'T',\n",
    "\n",
    "    'U' : 'U',\n",
    "    'V' : 'V',\n",
    "    'W' : 'W',\n",
    "    'X' : 'X'\n",
    "}\n",
    "\n",
    "SOLVED_CUBE = {\n",
    "    'edges' : copy.deepcopy(SOLVED_STATE),\n",
    "    'corners' : copy.deepcopy(SOLVED_STATE)\n",
    "}"
   ]
  },
  {
   "cell_type": "code",
   "execution_count": 3,
   "metadata": {
    "ExecuteTime": {
     "end_time": "2024-06-08T23:17:31.747046Z",
     "start_time": "2024-06-08T23:17:31.734080Z"
    }
   },
   "outputs": [],
   "source": [
    "EDGES_DICT = {\n",
    "    'A' : 'AQ',\n",
    "    #'B' : 'B',\n",
    "    'C' : 'CI',\n",
    "    'D' : 'DE',\n",
    "    'E' : 'ED',\n",
    "    'F' : 'FL',\n",
    "    'G' : 'GX',\n",
    "    'H' : 'HR',\n",
    "    'I' : 'IC',\n",
    "    'J' : 'JP',\n",
    "    'K' : 'KU',\n",
    "    'L' : 'LF',\n",
    "    #'M' : 'M',\n",
    "    'N' : 'NT',\n",
    "    'O' : 'OV',\n",
    "    'P' : 'PJ',\n",
    "    'Q' : 'QA',\n",
    "    'R' : 'RH',\n",
    "    'S' : 'SW',\n",
    "    'T' : 'TN',\n",
    "    'U' : 'UK',\n",
    "    'V' : 'VO',\n",
    "    'W' : 'WS',\n",
    "    'X' : 'XG',\n",
    "}\n",
    "\n",
    "CORNERS_DICT = { # in clockwise order\n",
    "    #'A' : 'A',\n",
    "    'B' : 'BQN',\n",
    "    'C' : 'CMJ',\n",
    "    'D' : 'DIF',\n",
    "    #'E' : 'E',\n",
    "    'F' : 'FDI',\n",
    "    'G' : 'GLU',\n",
    "    'H' : 'HXS',\n",
    "    'I' : 'IFD',\n",
    "    'J' : 'JCM',\n",
    "    'K' : 'KPV',\n",
    "    'L' : 'LUG',\n",
    "    'M' : 'MJC',\n",
    "    'N' : 'NBQ',\n",
    "    'O' : 'OTW',\n",
    "    'P' : 'PVK',\n",
    "    'Q' : 'QNB',\n",
    "    #'R' : 'R',\n",
    "    'S' : 'SHX',\n",
    "    'T' : 'TWO',\n",
    "    'U' : 'UGL',\n",
    "    'V' : 'VKP',\n",
    "    'W' : 'WOT',\n",
    "    'X' : 'XSH',\n",
    "}"
   ]
  },
  {
   "cell_type": "code",
   "execution_count": 4,
   "metadata": {
    "ExecuteTime": {
     "end_time": "2024-06-08T23:17:31.810876Z",
     "start_time": "2024-06-08T23:17:31.785941Z"
    }
   },
   "outputs": [],
   "source": [
    "# operations\n",
    "def cycle_four_edges(cube, new_cube, to_cycle):\n",
    "    new_cube['edges'][to_cycle[0]] = cube['edges'][to_cycle[3]]\n",
    "    new_cube['edges'][to_cycle[1]] = cube['edges'][to_cycle[0]]\n",
    "    new_cube['edges'][to_cycle[2]] = cube['edges'][to_cycle[1]]\n",
    "    new_cube['edges'][to_cycle[3]] = cube['edges'][to_cycle[2]]\n",
    "    \n",
    "    new_cube['edges'][to_cycle[5]] = cube['edges'][to_cycle[8]]\n",
    "    new_cube['edges'][to_cycle[6]] = cube['edges'][to_cycle[5]]\n",
    "    new_cube['edges'][to_cycle[7]] = cube['edges'][to_cycle[6]]\n",
    "    new_cube['edges'][to_cycle[8]] = cube['edges'][to_cycle[7]]\n",
    "\n",
    "    return\n",
    "\n",
    "def cycle_four_corners(cube, new_cube, to_cycle):\n",
    "    new_cube['corners'][to_cycle[0]] = cube['corners'][to_cycle[3]]\n",
    "    new_cube['corners'][to_cycle[1]] = cube['corners'][to_cycle[0]]\n",
    "    new_cube['corners'][to_cycle[2]] = cube['corners'][to_cycle[1]]\n",
    "    new_cube['corners'][to_cycle[3]] = cube['corners'][to_cycle[2]]\n",
    "    \n",
    "    new_cube['corners'][to_cycle[5]] = cube['corners'][to_cycle[8]]\n",
    "    new_cube['corners'][to_cycle[6]] = cube['corners'][to_cycle[5]]\n",
    "    new_cube['corners'][to_cycle[7]] = cube['corners'][to_cycle[6]]\n",
    "    new_cube['corners'][to_cycle[8]] = cube['corners'][to_cycle[7]]\n",
    "\n",
    "    new_cube['corners'][to_cycle[10]] = cube['corners'][to_cycle[13]]\n",
    "    new_cube['corners'][to_cycle[11]] = cube['corners'][to_cycle[10]]\n",
    "    new_cube['corners'][to_cycle[12]] = cube['corners'][to_cycle[11]]\n",
    "    new_cube['corners'][to_cycle[13]] = cube['corners'][to_cycle[12]]\n",
    "\n",
    "    return\n",
    "\n",
    "def R_move(cube):\n",
    "    new_cube = copy.deepcopy(cube)\n",
    "    cycle_four_edges(cube, new_cube, 'MNOP BTVJ')\n",
    "    cycle_four_corners(cube, new_cube, 'MNOP BTVJ CQWK')\n",
    "    return new_cube\n",
    "\n",
    "def L_move(cube):\n",
    "    new_cube = copy.deepcopy(cube)\n",
    "    cycle_four_edges(cube, new_cube, 'EFGH DLXR')\n",
    "    cycle_four_corners(cube, new_cube, 'EFGH DLXR AIUS')\n",
    "    return new_cube\n",
    "\n",
    "def U_move(cube):\n",
    "    new_cube = copy.deepcopy(cube)\n",
    "    cycle_four_edges(cube, new_cube, 'ABCD QMIE')\n",
    "    cycle_four_corners(cube, new_cube, 'ABCD QMIE RNJF')\n",
    "    return new_cube\n",
    "\n",
    "def D_move(cube):\n",
    "    new_cube = copy.deepcopy(cube)\n",
    "    cycle_four_edges(cube, new_cube, 'UVWX KOSG')\n",
    "    cycle_four_corners(cube, new_cube, 'UVWX KOSG LPTH')\n",
    "    return new_cube\n",
    "\n",
    "def F_move(cube):\n",
    "    new_cube = copy.deepcopy(cube)\n",
    "    cycle_four_edges(cube, new_cube, 'IJKL CPUF')\n",
    "    cycle_four_corners(cube, new_cube, 'IJKL CPUF DMVG')\n",
    "    return new_cube\n",
    "\n",
    "def B_move(cube):\n",
    "    new_cube = copy.deepcopy(cube)\n",
    "    cycle_four_edges(cube, new_cube, 'QRST AHWN')\n",
    "    cycle_four_corners(cube, new_cube, 'QRST AHWN BEXO')\n",
    "    return new_cube\n",
    "\n",
    "MOVES = {\n",
    "    'U' : U_move,\n",
    "    'D' : D_move,\n",
    "    'R' : R_move,\n",
    "    'L' : L_move,\n",
    "    'F' : F_move,\n",
    "    'B' : B_move,\n",
    "\n",
    "    'U2' : lambda x : U_move(U_move(x)),\n",
    "    'D2' : lambda x : D_move(D_move(x)),\n",
    "    'R2' : lambda x : R_move(R_move(x)),\n",
    "    'L2' : lambda x : L_move(L_move(x)),\n",
    "    'F2' : lambda x : F_move(F_move(x)),\n",
    "    'B2' : lambda x : B_move(B_move(x)),\n",
    "\n",
    "    \"U'\" : lambda x : U_move(U_move(U_move(x))),\n",
    "    \"D'\" : lambda x : D_move(D_move(D_move(x))),\n",
    "    \"R'\" : lambda x : R_move(R_move(R_move(x))),\n",
    "    \"L'\" : lambda x : L_move(L_move(L_move(x))),\n",
    "    \"F'\" : lambda x : F_move(F_move(F_move(x))),\n",
    "    \"B'\" : lambda x : B_move(B_move(B_move(x))),\n",
    "}\n",
    "\n",
    "ALL_MOVES = list(MOVES.keys())"
   ]
  },
  {
   "cell_type": "code",
   "execution_count": 5,
   "metadata": {
    "ExecuteTime": {
     "end_time": "2024-06-08T23:17:32.159942Z",
     "start_time": "2024-06-08T23:17:32.153958Z"
    }
   },
   "outputs": [],
   "source": [
    "def make_scramble_sequence(scramble_len=50):\n",
    "    scramble = ''\n",
    "\n",
    "    most_recent_move = random.choice(ALL_MOVES)\n",
    "    new_move = random.choice(ALL_MOVES)\n",
    "    \n",
    "    for i in range(scramble_len):\n",
    "        scramble += most_recent_move + ' '\n",
    "        while new_move[0] == most_recent_move[0]:\n",
    "            new_move = random.choice(ALL_MOVES)\n",
    "            \n",
    "        most_recent_move = new_move\n",
    "        \n",
    "    \n",
    "#     for i in range(scramble_len):\n",
    "#         one_random_move = random.choice(ALL_MOVES)\n",
    "#         scramble += one_random_move + ' '\n",
    "\n",
    "    return scramble"
   ]
  },
  {
   "cell_type": "code",
   "execution_count": 6,
   "metadata": {
    "ExecuteTime": {
     "end_time": "2024-06-08T23:17:32.462134Z",
     "start_time": "2024-06-08T23:17:32.452161Z"
    }
   },
   "outputs": [],
   "source": [
    "def swap_two_edges(cube, edge_1, edge_2):\n",
    "    '''\n",
    "    For example: swap_two_edges(messy_cube, 'AQ', 'BM')\n",
    "    '''\n",
    "    # swaps the piece specified by edge_1 with the piece specified by edge_2.\n",
    "    # Specifically, we are swapping\n",
    "    # cube['edges'][edge_1[0]] with cube['edges'][edge_2[0]], and\n",
    "    # cube['edges'][edge_1[1]] with cube['edges'][edge_2[1]]\n",
    "\n",
    "    temp_0 = cube['edges'][edge_1[0]]\n",
    "    temp_1 = cube['edges'][edge_1[1]]\n",
    "\n",
    "    cube['edges'][edge_1[0]] = cube['edges'][edge_2[0]]\n",
    "    cube['edges'][edge_1[1]] = cube['edges'][edge_2[1]]\n",
    "\n",
    "    cube['edges'][edge_2[0]] = temp_0\n",
    "    cube['edges'][edge_2[1]] = temp_1\n",
    "\n",
    "    # in theory, we could maybe do\n",
    "    # temp = cube['edges'][edge_1]\n",
    "    # cube['edges'][edge_1] = cube['edges'][edge_2]\n",
    "    # cube['edges'][edge_2] = temp\n",
    "    # but that is hard to read/understand. The operation of\n",
    "    # \"set the (dict) values associated with this list of keys\n",
    "    # to this list of values\" is not very intuitive\n",
    "\n",
    "\n",
    "def swap_two_corners(cube, corner_1, corner_2):\n",
    "    '''\n",
    "    For example: swap_two_corners(messy_cube, 'DIF', 'CMJ')\n",
    "    Ordering can be clockwise or counterclockwise, as long as\n",
    "    it is the same between the two corners.\n",
    "    '''\n",
    "\n",
    "    temp_0 = cube['corners'][corner_1[0]]\n",
    "    temp_1 = cube['corners'][corner_1[1]]\n",
    "    temp_2 = cube['corners'][corner_1[2]]\n",
    "\n",
    "    cube['corners'][corner_1[0]] = cube['corners'][corner_2[0]]\n",
    "    cube['corners'][corner_1[1]] = cube['corners'][corner_2[1]]\n",
    "    cube['corners'][corner_1[2]] = cube['corners'][corner_2[2]]\n",
    "\n",
    "    cube['corners'][corner_2[0]] = temp_0\n",
    "    cube['corners'][corner_2[1]] = temp_1\n",
    "    cube['corners'][corner_2[2]] = temp_2\n",
    "\n",
    "\n",
    "def fix_edge_in_buffer(cube):\n",
    "    buffer = cube['edges']['B']\n",
    "    piece_in_buffer = EDGES_DICT[buffer]\n",
    "\n",
    "    new_cube = swap_two_edges(cube, 'BM', piece_in_buffer)\n",
    "\n",
    "\n",
    "def fix_corner_in_buffer(cube):\n",
    "    buffer = cube['corners']['E']\n",
    "    piece_in_buffer = CORNERS_DICT[buffer]\n",
    "\n",
    "    new_cube = swap_two_corners(cube, 'ERA', piece_in_buffer)"
   ]
  },
  {
   "cell_type": "code",
   "execution_count": 7,
   "metadata": {
    "ExecuteTime": {
     "end_time": "2024-06-08T23:17:36.866364Z",
     "start_time": "2024-06-08T23:17:36.852402Z"
    }
   },
   "outputs": [],
   "source": [
    "def solve_cube(scrambled_cube, verbose=False):\n",
    "    new_cube = copy.deepcopy(scrambled_cube)\n",
    "    solve_string = ''\n",
    "    # solve edges\n",
    "    while new_cube['edges'] != SOLVED_STATE:\n",
    "        buffer = new_cube['edges']['B']\n",
    "        if buffer not in 'BM':\n",
    "            # let's say buffer == 'A'\n",
    "            #swap(new_cube, 'BM', 'AQ')\n",
    "\n",
    "            # if the buffer is NOT the white/red piece, then the buffer is\n",
    "            # holding a piece that belongs somewhere else. Let's put it where\n",
    "            # it belongs\n",
    "            fix_edge_in_buffer(new_cube)\n",
    "            swap_two_corners(new_cube, 'CMJ', 'BQN')\n",
    "            solve_string += buffer\n",
    "        else:\n",
    "            # if buffer == 'B' or buffer == 'M' start new cycle\n",
    "            # specifically, find an unsolved edge and swap with it\n",
    "            for one_edge in new_cube['edges'].keys():\n",
    "                if one_edge != new_cube['edges'][one_edge] and one_edge not in 'BM':\n",
    "                    # then the one_edge is unsolved\n",
    "                    unsolved_edge_piece = EDGES_DICT[one_edge]\n",
    "                    swap_two_edges(new_cube, 'BM', unsolved_edge_piece)\n",
    "                    swap_two_corners(new_cube, 'CMJ', 'BQN')\n",
    "                    if verbose:\n",
    "                        solve_string += '/'\n",
    "                    solve_string += one_edge\n",
    "                    break\n",
    "\n",
    "    edge_count = len(solve_string.replace('/', ''))\n",
    "    if edge_count % 2 == 1:\n",
    "        # parity\n",
    "        solve_string += '|'\n",
    "        \n",
    "        # Ra perm\n",
    "        swap_two_edges(new_cube, 'AQ', 'DE')\n",
    "        swap_two_corners(new_cube, 'CMJ', 'BQN')\n",
    "    else:\n",
    "        # no parity\n",
    "        solve_string += '.'\n",
    "        \n",
    "    # solve corners\n",
    "    while new_cube['corners'] != SOLVED_STATE:\n",
    "        buffer = new_cube['corners']['E']\n",
    "        if buffer not in 'AER':\n",
    "            fix_corner_in_buffer(new_cube)\n",
    "            swap_two_edges(new_cube, 'AQ', 'DE')\n",
    "            solve_string += buffer\n",
    "        else:\n",
    "            # new cycle\n",
    "            for one_corner in new_cube['corners'].keys():\n",
    "                if one_corner != new_cube['corners'][one_corner] and one_corner not in 'AER':\n",
    "                    unsolved_corner_piece = CORNERS_DICT[one_corner]\n",
    "                    swap_two_corners(new_cube, 'ERA', unsolved_corner_piece)\n",
    "                    swap_two_edges(new_cube, 'AQ', 'DE')\n",
    "                    if verbose:\n",
    "                        solve_string += '/'\n",
    "                    solve_string += one_corner\n",
    "                    break\n",
    "\n",
    "    return solve_string"
   ]
  },
  {
   "cell_type": "code",
   "execution_count": 8,
   "metadata": {
    "ExecuteTime": {
     "end_time": "2024-06-08T23:17:37.309181Z",
     "start_time": "2024-06-08T23:17:37.298211Z"
    }
   },
   "outputs": [],
   "source": [
    "def execute_algorithm(cube, algorithm_string):\n",
    "    new_cube = copy.deepcopy(cube)\n",
    "\n",
    "    algorithm_list = algorithm_string.split()\n",
    "    #print(algorithm_list)\n",
    "    for move in algorithm_list:\n",
    "        method_for_move = MOVES[move]\n",
    "        new_cube = method_for_move(new_cube)\n",
    "\n",
    "    return new_cube"
   ]
  },
  {
   "cell_type": "code",
   "execution_count": 9,
   "metadata": {
    "ExecuteTime": {
     "end_time": "2024-06-08T23:17:37.691160Z",
     "start_time": "2024-06-08T23:17:37.687171Z"
    },
    "scrolled": true
   },
   "outputs": [],
   "source": [
    "def new_scrambled_cube(scramble_len=25):\n",
    "    scramble_sequence = make_scramble_sequence(scramble_len=scramble_len)\n",
    "    scrambled_cube = execute_algorithm(SOLVED_CUBE, scramble_sequence)\n",
    "    return scrambled_cube"
   ]
  },
  {
   "cell_type": "code",
   "execution_count": 10,
   "metadata": {
    "ExecuteTime": {
     "end_time": "2024-06-08T23:17:37.976398Z",
     "start_time": "2024-06-08T23:17:37.945481Z"
    }
   },
   "outputs": [
    {
     "name": "stdout",
     "output_type": "stream",
     "text": [
      "CRAFDTQGWVXJPKU|XIOGBQCKC\n",
      "QTPOELHCKGC|UBJVFWNHX\n",
      "RAFSUCJENCGXOV.DKHGBJON\n",
      "ULTSCHAEQGVGJP.CDPOQH\n",
      "TSOCDAXHLQKU.BUVXJD\n"
     ]
    }
   ],
   "source": [
    "for _ in range(5):\n",
    "    one_solution = solve_cube(new_scrambled_cube())\n",
    "    print(one_solution)"
   ]
  },
  {
   "cell_type": "code",
   "execution_count": null,
   "metadata": {},
   "outputs": [],
   "source": []
  },
  {
   "cell_type": "code",
   "execution_count": null,
   "metadata": {},
   "outputs": [],
   "source": []
  },
  {
   "cell_type": "code",
   "execution_count": null,
   "metadata": {},
   "outputs": [],
   "source": []
  },
  {
   "cell_type": "code",
   "execution_count": null,
   "metadata": {},
   "outputs": [],
   "source": []
  },
  {
   "cell_type": "code",
   "execution_count": null,
   "metadata": {},
   "outputs": [],
   "source": []
  },
  {
   "cell_type": "code",
   "execution_count": 11,
   "metadata": {
    "ExecuteTime": {
     "end_time": "2024-06-08T23:17:39.423531Z",
     "start_time": "2024-06-08T23:17:39.407573Z"
    }
   },
   "outputs": [],
   "source": [
    "def run_simulation(num_sims=1000, scramble_len=25):\n",
    "    matrix = []\n",
    "\n",
    "    print(f'Starting simulation... with num_sims={num_sims}')\n",
    "    for i in range(num_sims):\n",
    "        scramble = make_scramble_sequence(scramble_len=scramble_len)\n",
    "        messy_cube = execute_algorithm(SOLVED_CUBE, scramble)\n",
    "        sol = solve_cube(messy_cube)\n",
    "        sol_length = len(sol) - 1\n",
    "\n",
    "        matrix.append([sol_length, scramble, sol])\n",
    "\n",
    "    print('Ending simulation!')\n",
    "    return pd.DataFrame(matrix, columns=['Length', 'Scramble', 'Solution'])"
   ]
  },
  {
   "cell_type": "code",
   "execution_count": 12,
   "metadata": {
    "ExecuteTime": {
     "end_time": "2024-06-08T23:17:40.865677Z",
     "start_time": "2024-06-08T23:17:39.718742Z"
    }
   },
   "outputs": [
    {
     "name": "stdout",
     "output_type": "stream",
     "text": [
      "Starting simulation... with num_sims=500\n",
      "Ending simulation!\n"
     ]
    }
   ],
   "source": [
    "testo_matrix = run_simulation(num_sims=500)\n",
    "# 10000 sims = 22.5 seconds"
   ]
  },
  {
   "cell_type": "code",
   "execution_count": 13,
   "metadata": {
    "ExecuteTime": {
     "end_time": "2024-06-08T23:17:40.896594Z",
     "start_time": "2024-06-08T23:17:40.868670Z"
    }
   },
   "outputs": [
    {
     "data": {
      "text/plain": [
       "Length\n",
       "20    223\n",
       "22    139\n",
       "18     90\n",
       "24     31\n",
       "16     14\n",
       "26      3\n",
       "dtype: int64"
      ]
     },
     "execution_count": 13,
     "metadata": {},
     "output_type": "execute_result"
    }
   ],
   "source": [
    "testo_matrix.value_counts('Length')"
   ]
  },
  {
   "cell_type": "code",
   "execution_count": 14,
   "metadata": {
    "ExecuteTime": {
     "end_time": "2024-06-08T23:17:40.912552Z",
     "start_time": "2024-06-08T23:17:40.897591Z"
    }
   },
   "outputs": [
    {
     "data": {
      "text/html": [
       "<div>\n",
       "<style scoped>\n",
       "    .dataframe tbody tr th:only-of-type {\n",
       "        vertical-align: middle;\n",
       "    }\n",
       "\n",
       "    .dataframe tbody tr th {\n",
       "        vertical-align: top;\n",
       "    }\n",
       "\n",
       "    .dataframe thead th {\n",
       "        text-align: right;\n",
       "    }\n",
       "</style>\n",
       "<table border=\"1\" class=\"dataframe\">\n",
       "  <thead>\n",
       "    <tr style=\"text-align: right;\">\n",
       "      <th></th>\n",
       "      <th>Length</th>\n",
       "      <th>Scramble</th>\n",
       "      <th>Solution</th>\n",
       "    </tr>\n",
       "  </thead>\n",
       "  <tbody>\n",
       "    <tr>\n",
       "      <th>0</th>\n",
       "      <td>18</td>\n",
       "      <td>F U' D2 U2 D F' D B' U2 R' L' B F U' B2 D2 U B...</td>\n",
       "      <td>VKDLPWITQHG|GWHKBJQ</td>\n",
       "    </tr>\n",
       "    <tr>\n",
       "      <th>1</th>\n",
       "      <td>24</td>\n",
       "      <td>D B' D2 R F2 U F' D' U2 L2 B2 U2 D2 F' D2 U F'...</td>\n",
       "      <td>IAQDEFPLGVKRNWX|NCSFWGLKV</td>\n",
       "    </tr>\n",
       "    <tr>\n",
       "      <th>2</th>\n",
       "      <td>20</td>\n",
       "      <td>L' B' L' B' R2 L' F2 B' D' R F B' L R2 F' D2 B...</td>\n",
       "      <td>HUAPWOQCXELTC|FCSGOPG</td>\n",
       "    </tr>\n",
       "    <tr>\n",
       "      <th>3</th>\n",
       "      <td>20</td>\n",
       "      <td>B F D' U' F' U' F' R L' U' R F' D' L2 U B R' D...</td>\n",
       "      <td>ASPFHIVXTDK|BGXPIWQCJ</td>\n",
       "    </tr>\n",
       "    <tr>\n",
       "      <th>4</th>\n",
       "      <td>18</td>\n",
       "      <td>B2 F D F2 R U2 R B L' U' L' D' B2 F2 L B L' U'...</td>\n",
       "      <td>IQFHXTOWF|DVBTQCUXM</td>\n",
       "    </tr>\n",
       "    <tr>\n",
       "      <th>...</th>\n",
       "      <td>...</td>\n",
       "      <td>...</td>\n",
       "      <td>...</td>\n",
       "    </tr>\n",
       "    <tr>\n",
       "      <th>495</th>\n",
       "      <td>20</td>\n",
       "      <td>L D' U' F' B R L F U F L' U' B L' R2 B' R B' D...</td>\n",
       "      <td>OGSQIUDHFTJF.OBXCLNDF</td>\n",
       "    </tr>\n",
       "    <tr>\n",
       "      <th>496</th>\n",
       "      <td>20</td>\n",
       "      <td>R2 L2 R' L' R B2 L' R' D F2 L' B' D L2 U R' B2...</td>\n",
       "      <td>WUREGOQIFPTL.BFTPMLHX</td>\n",
       "    </tr>\n",
       "    <tr>\n",
       "      <th>497</th>\n",
       "      <td>18</td>\n",
       "      <td>B' U' D2 L2 D' R' U F D2 R D' R B U B D2 U F U...</td>\n",
       "      <td>WPTXHCAUFDVA.LPNJXD</td>\n",
       "    </tr>\n",
       "    <tr>\n",
       "      <th>498</th>\n",
       "      <td>20</td>\n",
       "      <td>R B2 L2 B R2 B2 F' D F D2 U2 F U R2 L F B' D F...</td>\n",
       "      <td>DHCWTVLAU|KBSCNDIGUOT</td>\n",
       "    </tr>\n",
       "    <tr>\n",
       "      <th>499</th>\n",
       "      <td>16</td>\n",
       "      <td>U D2 U' R2 B' L2 B' D' L' R' L2 U B2 U B U2 F2...</td>\n",
       "      <td>ACJDKFHWC|JLVXIQT</td>\n",
       "    </tr>\n",
       "  </tbody>\n",
       "</table>\n",
       "<p>500 rows × 3 columns</p>\n",
       "</div>"
      ],
      "text/plain": [
       "     Length                                           Scramble  \\\n",
       "0        18  F U' D2 U2 D F' D B' U2 R' L' B F U' B2 D2 U B...   \n",
       "1        24  D B' D2 R F2 U F' D' U2 L2 B2 U2 D2 F' D2 U F'...   \n",
       "2        20  L' B' L' B' R2 L' F2 B' D' R F B' L R2 F' D2 B...   \n",
       "3        20  B F D' U' F' U' F' R L' U' R F' D' L2 U B R' D...   \n",
       "4        18  B2 F D F2 R U2 R B L' U' L' D' B2 F2 L B L' U'...   \n",
       "..      ...                                                ...   \n",
       "495      20  L D' U' F' B R L F U F L' U' B L' R2 B' R B' D...   \n",
       "496      20  R2 L2 R' L' R B2 L' R' D F2 L' B' D L2 U R' B2...   \n",
       "497      18  B' U' D2 L2 D' R' U F D2 R D' R B U B D2 U F U...   \n",
       "498      20  R B2 L2 B R2 B2 F' D F D2 U2 F U R2 L F B' D F...   \n",
       "499      16  U D2 U' R2 B' L2 B' D' L' R' L2 U B2 U B U2 F2...   \n",
       "\n",
       "                      Solution  \n",
       "0          VKDLPWITQHG|GWHKBJQ  \n",
       "1    IAQDEFPLGVKRNWX|NCSFWGLKV  \n",
       "2        HUAPWOQCXELTC|FCSGOPG  \n",
       "3        ASPFHIVXTDK|BGXPIWQCJ  \n",
       "4          IQFHXTOWF|DVBTQCUXM  \n",
       "..                         ...  \n",
       "495      OGSQIUDHFTJF.OBXCLNDF  \n",
       "496      WUREGOQIFPTL.BFTPMLHX  \n",
       "497        WPTXHCAUFDVA.LPNJXD  \n",
       "498      DHCWTVLAU|KBSCNDIGUOT  \n",
       "499          ACJDKFHWC|JLVXIQT  \n",
       "\n",
       "[500 rows x 3 columns]"
      ]
     },
     "execution_count": 14,
     "metadata": {},
     "output_type": "execute_result"
    }
   ],
   "source": [
    "testo_matrix"
   ]
  },
  {
   "cell_type": "code",
   "execution_count": 15,
   "metadata": {
    "ExecuteTime": {
     "end_time": "2024-06-08T23:17:41.245661Z",
     "start_time": "2024-06-08T23:17:41.234690Z"
    }
   },
   "outputs": [
    {
     "data": {
      "text/plain": [
       "\"F U' D2 U2 D F' D B' U2 R' L' B F U' B2 D2 U B2 R F' L' D' F L' U' \""
      ]
     },
     "execution_count": 15,
     "metadata": {},
     "output_type": "execute_result"
    }
   ],
   "source": [
    "testo_matrix.iloc[0]['Scramble']"
   ]
  },
  {
   "cell_type": "code",
   "execution_count": 16,
   "metadata": {
    "ExecuteTime": {
     "end_time": "2024-06-08T23:17:41.642600Z",
     "start_time": "2024-06-08T23:17:41.635619Z"
    }
   },
   "outputs": [
    {
     "data": {
      "text/plain": [
       "'VKDLPWITQHG|GWHKBJQ'"
      ]
     },
     "execution_count": 16,
     "metadata": {},
     "output_type": "execute_result"
    }
   ],
   "source": [
    "testo_matrix.iloc[0]['Solution']"
   ]
  },
  {
   "cell_type": "code",
   "execution_count": null,
   "metadata": {},
   "outputs": [],
   "source": []
  },
  {
   "cell_type": "code",
   "execution_count": 17,
   "metadata": {
    "ExecuteTime": {
     "end_time": "2024-06-08T23:17:42.641929Z",
     "start_time": "2024-06-08T23:17:42.630959Z"
    }
   },
   "outputs": [],
   "source": [
    "messed_up_cube = execute_algorithm(SOLVED_CUBE, \"R L U2 B' D' R2 U' L' R' D R L2 F L' D F2 D' R L' D F U L' F2 L' \")"
   ]
  },
  {
   "cell_type": "code",
   "execution_count": 18,
   "metadata": {
    "ExecuteTime": {
     "end_time": "2024-06-08T23:17:43.069787Z",
     "start_time": "2024-06-08T23:17:43.051835Z"
    }
   },
   "outputs": [
    {
     "data": {
      "text/plain": [
       "'APCHLWVNQDKEGX.FBWXJBGLKP'"
      ]
     },
     "execution_count": 18,
     "metadata": {},
     "output_type": "execute_result"
    }
   ],
   "source": [
    "solve_cube(messed_up_cube)"
   ]
  },
  {
   "cell_type": "code",
   "execution_count": null,
   "metadata": {},
   "outputs": [],
   "source": []
  },
  {
   "cell_type": "code",
   "execution_count": null,
   "metadata": {},
   "outputs": [],
   "source": []
  },
  {
   "cell_type": "code",
   "execution_count": null,
   "metadata": {},
   "outputs": [],
   "source": []
  },
  {
   "cell_type": "markdown",
   "metadata": {
    "ExecuteTime": {
     "end_time": "2024-06-08T23:17:44.517916Z",
     "start_time": "2024-06-08T23:17:44.506946Z"
    }
   },
   "source": [
    "Now that we have a table of scrambles and their solutions, the next step is to generate solution strings directly. First, lets make a \"simplifier\""
   ]
  },
  {
   "cell_type": "code",
   "execution_count": 20,
   "metadata": {
    "ExecuteTime": {
     "end_time": "2024-06-08T23:17:59.191702Z",
     "start_time": "2024-06-08T23:17:59.178737Z"
    }
   },
   "outputs": [],
   "source": [
    "def simplify_solution(solution_string):\n",
    "    new_cube = copy.deepcopy(SOLVED_CUBE)\n",
    "    edge_solution, corner_solution = solution_string.replace('|', '.').split('.')\n",
    "    \n",
    "    for i in range(len(edge_solution)):\n",
    "        one_edge = edge_solution[len(edge_solution) - i - 1]\n",
    "        #print(one_edge)\n",
    "        unsolved_edge_piece = EDGES_DICT[one_edge]\n",
    "        swap_two_edges(new_cube, 'BM', unsolved_edge_piece)\n",
    "\n",
    "    for i in range(len(corner_solution)):\n",
    "        one_corner = corner_solution[len(corner_solution) - i - 1]\n",
    "        #print(one_corner)\n",
    "        unsolved_corner_piece = CORNERS_DICT[one_corner]\n",
    "        swap_two_corners(new_cube, 'ERA', unsolved_corner_piece)\n",
    "        \n",
    "    simple_solution = solve_cube(new_cube)\n",
    "    return simple_solution"
   ]
  },
  {
   "cell_type": "code",
   "execution_count": 21,
   "metadata": {
    "ExecuteTime": {
     "end_time": "2024-06-08T23:17:59.572684Z",
     "start_time": "2024-06-08T23:17:59.559718Z"
    }
   },
   "outputs": [
    {
     "data": {
      "text/plain": [
       "'CADA.'"
      ]
     },
     "execution_count": 21,
     "metadata": {},
     "output_type": "execute_result"
    }
   ],
   "source": [
    "simplify_solution('ACDACD.') # should simplify to CADA (C/ADA)"
   ]
  },
  {
   "cell_type": "code",
   "execution_count": 22,
   "metadata": {
    "ExecuteTime": {
     "end_time": "2024-06-08T23:18:00.113240Z",
     "start_time": "2024-06-08T23:18:00.096284Z"
    }
   },
   "outputs": [],
   "source": [
    "# Now, we can try generate scrambles by simply producing nonsense"
   ]
  },
  {
   "cell_type": "code",
   "execution_count": null,
   "metadata": {},
   "outputs": [],
   "source": []
  },
  {
   "cell_type": "code",
   "execution_count": 23,
   "metadata": {
    "ExecuteTime": {
     "end_time": "2024-06-08T23:18:01.038766Z",
     "start_time": "2024-06-08T23:18:01.020814Z"
    }
   },
   "outputs": [],
   "source": [
    "def generate_nonsense_solution(pool, nonsense_len=30):\n",
    "    nonsense_string = ''\n",
    "    for _ in range(nonsense_len):\n",
    "        nonsense_string += random.choice(pool)\n",
    "        \n",
    "    return nonsense_string"
   ]
  },
  {
   "cell_type": "code",
   "execution_count": 24,
   "metadata": {
    "ExecuteTime": {
     "end_time": "2024-06-08T23:18:01.322521Z",
     "start_time": "2024-06-08T23:18:01.300580Z"
    }
   },
   "outputs": [
    {
     "name": "stdout",
     "output_type": "stream",
     "text": [
      "XXWWUVXVWVWUUWUUVVWXWWXVWVVVUW\n",
      "WGOG.\n",
      "-------------------------\n",
      "VVVVXVVWXXUXXXXUUUVUWVXUWWXWUX\n",
      "XV.\n",
      "-------------------------\n",
      "VXUUUVXUVVXVWUUVUWXXUVXWUWUXUV\n",
      "GOGKSK.\n",
      "-------------------------\n",
      "XUXUXUWXXUXVUUWWVVWUUUVVXXVXUU\n",
      "UOSO.\n",
      "-------------------------\n",
      "VWVXWWXUVXVWXUUUWWVUWVXXXUVXXW\n",
      "XVUW.\n",
      "-------------------------\n",
      "XUVVXUVUVXUWUVXWVXWUUWUXVWWXVX\n",
      "UXWV.\n",
      "-------------------------\n",
      "UVWWXWVVXUUWXWUVXUUVVWUVVUUUVU\n",
      "UXWV.\n",
      "-------------------------\n",
      "WWWXWUXXUVVVWWWWVXWWWVVUUXXWUU\n",
      "XW.\n",
      "-------------------------\n",
      "XXXVXVVWUVUUWWVWXUUUVWVVWXXXUX\n",
      "UWVX.\n",
      "-------------------------\n",
      "XUXVUVWVXVWWWUUVWVXUUUXUUUWVXU\n",
      "GSGKOK.\n",
      "-------------------------\n"
     ]
    }
   ],
   "source": [
    "for i in range(10):\n",
    "    one_nons = generate_nonsense_solution('UVWX')\n",
    "    print(one_nons)\n",
    "    print(simplify_solution(one_nons + '.'))\n",
    "    print('-------------------------')"
   ]
  },
  {
   "cell_type": "code",
   "execution_count": null,
   "metadata": {},
   "outputs": [],
   "source": []
  },
  {
   "cell_type": "code",
   "execution_count": null,
   "metadata": {},
   "outputs": [],
   "source": []
  },
  {
   "cell_type": "code",
   "execution_count": null,
   "metadata": {},
   "outputs": [],
   "source": []
  },
  {
   "cell_type": "markdown",
   "metadata": {},
   "source": [
    "## Kociemba's Algorithm"
   ]
  },
  {
   "cell_type": "markdown",
   "metadata": {},
   "source": [
    "#### Converting from edge/corner dict to cube state"
   ]
  },
  {
   "cell_type": "code",
   "execution_count": 50,
   "metadata": {
    "ExecuteTime": {
     "end_time": "2024-06-08T23:30:16.779058Z",
     "start_time": "2024-06-08T23:30:16.768088Z"
    }
   },
   "outputs": [
    {
     "data": {
      "text/plain": [
       "{'edges': {'A': 'P',\n",
       "  'B': 'R',\n",
       "  'C': 'T',\n",
       "  'D': 'B',\n",
       "  'E': 'M',\n",
       "  'F': 'G',\n",
       "  'G': 'U',\n",
       "  'H': 'L',\n",
       "  'I': 'N',\n",
       "  'J': 'V',\n",
       "  'K': 'I',\n",
       "  'L': 'X',\n",
       "  'M': 'H',\n",
       "  'N': 'E',\n",
       "  'O': 'A',\n",
       "  'P': 'O',\n",
       "  'Q': 'J',\n",
       "  'R': 'F',\n",
       "  'S': 'S',\n",
       "  'T': 'D',\n",
       "  'U': 'C',\n",
       "  'V': 'Q',\n",
       "  'W': 'W',\n",
       "  'X': 'K'},\n",
       " 'corners': {'A': 'X',\n",
       "  'B': 'E',\n",
       "  'C': 'O',\n",
       "  'D': 'I',\n",
       "  'E': 'S',\n",
       "  'F': 'D',\n",
       "  'G': 'U',\n",
       "  'H': 'K',\n",
       "  'I': 'F',\n",
       "  'J': 'W',\n",
       "  'K': 'C',\n",
       "  'L': 'G',\n",
       "  'M': 'T',\n",
       "  'N': 'A',\n",
       "  'O': 'Q',\n",
       "  'P': 'M',\n",
       "  'Q': 'R',\n",
       "  'R': 'H',\n",
       "  'S': 'V',\n",
       "  'T': 'N',\n",
       "  'U': 'L',\n",
       "  'V': 'J',\n",
       "  'W': 'B',\n",
       "  'X': 'P'}}"
      ]
     },
     "execution_count": 50,
     "metadata": {},
     "output_type": "execute_result"
    }
   ],
   "source": [
    "#test_cube = new_scrambled_cube()\n",
    "test_cube = execute_algorithm(SOLVED_CUBE, \"U' R2 D' U2 L2 B2 U F2 D F2 R D2 R2 D' B' F2 D R D2\")\n",
    "test_cube"
   ]
  },
  {
   "cell_type": "code",
   "execution_count": 51,
   "metadata": {
    "ExecuteTime": {
     "end_time": "2024-06-08T23:30:19.323814Z",
     "start_time": "2024-06-08T23:30:19.318827Z"
    }
   },
   "outputs": [],
   "source": [
    "SIDE_DICT = {\n",
    "    'A': 'U',\n",
    "    'B': 'U',\n",
    "    'C': 'U',\n",
    "    'D': 'U',\n",
    "    'E': 'L',\n",
    "    'F': 'L',\n",
    "    'G': 'L',\n",
    "    'H': 'L',\n",
    "    'I': 'F',\n",
    "    'J': 'F',\n",
    "    'K': 'F',\n",
    "    'L': 'F',\n",
    "    'M': 'R',\n",
    "    'N': 'R',\n",
    "    'O': 'R',\n",
    "    'P': 'R',\n",
    "    'Q': 'B',\n",
    "    'R': 'B',\n",
    "    'S': 'B',\n",
    "    'T': 'B',\n",
    "    'U': 'D',\n",
    "    'V': 'D',\n",
    "    'W': 'D',\n",
    "    'X': 'D'\n",
    "}"
   ]
  },
  {
   "cell_type": "code",
   "execution_count": 49,
   "metadata": {
    "ExecuteTime": {
     "end_time": "2024-06-08T23:29:43.717434Z",
     "start_time": "2024-06-08T23:29:43.712448Z"
    }
   },
   "outputs": [
    {
     "data": {
      "text/plain": [
       "\"D2 R' D' F2 B D R2 D2 R' F2 D' F2 U' B2 L2 U2 D R2 U\""
      ]
     },
     "execution_count": 49,
     "metadata": {},
     "output_type": "execute_result"
    }
   ],
   "source": [
    "kociemba.solve('DRLUUBFBRBLURRLRUBLRDDFDLFUFUFFDBRDUBRUFLLFDDBFLUBLRBD')"
   ]
  },
  {
   "cell_type": "code",
   "execution_count": 78,
   "metadata": {
    "ExecuteTime": {
     "end_time": "2024-06-08T23:37:55.177045Z",
     "start_time": "2024-06-08T23:37:55.163080Z"
    }
   },
   "outputs": [],
   "source": [
    "def get_kociemba_string(cube):\n",
    "    k_string = ''\n",
    "    \n",
    "    # U side\n",
    "    k_string += SIDE_DICT[cube['corners']['A']]\n",
    "    k_string += SIDE_DICT[cube['edges']['A']]\n",
    "    k_string += SIDE_DICT[cube['corners']['B']]\n",
    "    k_string += SIDE_DICT[cube['edges']['D']]\n",
    "    k_string += 'U'\n",
    "    k_string += SIDE_DICT[cube['edges']['B']]\n",
    "    k_string += SIDE_DICT[cube['corners']['D']]\n",
    "    k_string += SIDE_DICT[cube['edges']['C']]\n",
    "    k_string += SIDE_DICT[cube['corners']['C']]\n",
    "    \n",
    "    # R side\n",
    "    k_string += SIDE_DICT[cube['corners']['M']]\n",
    "    k_string += SIDE_DICT[cube['edges']['M']]\n",
    "    k_string += SIDE_DICT[cube['corners']['N']]\n",
    "    k_string += SIDE_DICT[cube['edges']['P']]\n",
    "    k_string += 'R'\n",
    "    k_string += SIDE_DICT[cube['edges']['N']]\n",
    "    k_string += SIDE_DICT[cube['corners']['P']]\n",
    "    k_string += SIDE_DICT[cube['edges']['O']]\n",
    "    k_string += SIDE_DICT[cube['corners']['O']]\n",
    "    \n",
    "    # F side\n",
    "    k_string += SIDE_DICT[cube['corners']['I']]\n",
    "    k_string += SIDE_DICT[cube['edges']['I']]\n",
    "    k_string += SIDE_DICT[cube['corners']['J']]\n",
    "    k_string += SIDE_DICT[cube['edges']['L']]\n",
    "    k_string += 'F'\n",
    "    k_string += SIDE_DICT[cube['edges']['J']]\n",
    "    k_string += SIDE_DICT[cube['corners']['L']]\n",
    "    k_string += SIDE_DICT[cube['edges']['K']]\n",
    "    k_string += SIDE_DICT[cube['corners']['K']]\n",
    "    \n",
    "    # D side\n",
    "    k_string += SIDE_DICT[cube['corners']['U']]\n",
    "    k_string += SIDE_DICT[cube['edges']['U']]\n",
    "    k_string += SIDE_DICT[cube['corners']['V']]\n",
    "    k_string += SIDE_DICT[cube['edges']['X']]\n",
    "    k_string += 'D'\n",
    "    k_string += SIDE_DICT[cube['edges']['V']]\n",
    "    k_string += SIDE_DICT[cube['corners']['X']]\n",
    "    k_string += SIDE_DICT[cube['edges']['W']]\n",
    "    k_string += SIDE_DICT[cube['corners']['W']]\n",
    "    \n",
    "    # L side\n",
    "    k_string += SIDE_DICT[cube['corners']['E']]\n",
    "    k_string += SIDE_DICT[cube['edges']['E']]\n",
    "    k_string += SIDE_DICT[cube['corners']['F']]\n",
    "    k_string += SIDE_DICT[cube['edges']['H']]\n",
    "    k_string += 'L'\n",
    "    k_string += SIDE_DICT[cube['edges']['F']]\n",
    "    k_string += SIDE_DICT[cube['corners']['H']]\n",
    "    k_string += SIDE_DICT[cube['edges']['G']]\n",
    "    k_string += SIDE_DICT[cube['corners']['G']]\n",
    "    \n",
    "    # B side\n",
    "    k_string += SIDE_DICT[cube['corners']['Q']]\n",
    "    k_string += SIDE_DICT[cube['edges']['Q']]\n",
    "    k_string += SIDE_DICT[cube['corners']['R']]\n",
    "    k_string += SIDE_DICT[cube['edges']['T']]\n",
    "    k_string += 'B'\n",
    "    k_string += SIDE_DICT[cube['edges']['R']]\n",
    "    k_string += SIDE_DICT[cube['corners']['T']]\n",
    "    k_string += SIDE_DICT[cube['edges']['S']]\n",
    "    k_string += SIDE_DICT[cube['corners']['S']]\n",
    "    \n",
    "    return k_string"
   ]
  },
  {
   "cell_type": "code",
   "execution_count": 79,
   "metadata": {
    "ExecuteTime": {
     "end_time": "2024-06-08T23:37:55.351577Z",
     "start_time": "2024-06-08T23:37:55.342601Z"
    }
   },
   "outputs": [
    {
     "name": "stdout",
     "output_type": "stream",
     "text": [
      "DRLUUBFBRBLURRLRUBLRDDFDLFUFUFFDBRDUBRUFLLFDDBFLUBLRBD\n",
      "True\n"
     ]
    }
   ],
   "source": [
    "print(get_kociemba_string(test_cube))\n",
    "print(get_kociemba_string(test_cube) in 'DRLUUBFBRBLURRLRUBLRDDFDLFUFUFFDBRDUBRUFLLFDDBFLUBLRBD')"
   ]
  },
  {
   "cell_type": "code",
   "execution_count": null,
   "metadata": {},
   "outputs": [],
   "source": []
  },
  {
   "cell_type": "code",
   "execution_count": 93,
   "metadata": {
    "ExecuteTime": {
     "end_time": "2024-06-08T23:59:31.687089Z",
     "start_time": "2024-06-08T23:59:31.678113Z"
    }
   },
   "outputs": [],
   "source": [
    "def get_solve_sequence(scrambled_cube, reverse=False):\n",
    "    one_k_string = get_kociemba_string(scrambled_cube)\n",
    "    solve_string = kociemba.solve(one_k_string)\n",
    "    \n",
    "    if reverse:\n",
    "        reversed_string = ''\n",
    "        for move in solve_string.split():\n",
    "            if len(move) == 1: # clockwise 90 degrees becomes counterclockwise 90 degrees\n",
    "                reversed_string = move + '\\' ' + reversed_string\n",
    "            elif move[1] == '2': # 180 degree turns stay the same\n",
    "                reversed_string = move + ' ' + reversed_string\n",
    "            else: # counterclockwise 90 degree turns become clockwise 90 degree turns\n",
    "                reversed_string = move[0] + ' ' + reversed_string\n",
    "        return reversed_string.strip()\n",
    "    else:\n",
    "        return solve_string "
   ]
  },
  {
   "cell_type": "code",
   "execution_count": 94,
   "metadata": {
    "ExecuteTime": {
     "end_time": "2024-06-08T23:59:32.416151Z",
     "start_time": "2024-06-08T23:59:32.399197Z"
    }
   },
   "outputs": [
    {
     "data": {
      "text/plain": [
       "\"D2 R' D' F2 B D R2 D2 R' F2 D' F2 U' B2 L2 U2 D R2 U\""
      ]
     },
     "execution_count": 94,
     "metadata": {},
     "output_type": "execute_result"
    }
   ],
   "source": [
    "get_solve_sequence(test_cube)"
   ]
  },
  {
   "cell_type": "code",
   "execution_count": 92,
   "metadata": {
    "ExecuteTime": {
     "end_time": "2024-06-08T23:57:21.461379Z",
     "start_time": "2024-06-08T23:57:21.454398Z"
    }
   },
   "outputs": [
    {
     "data": {
      "text/plain": [
       "\"U R2 D U2 L2 B2 U' F2 D' F2 R' D2 R2 D B F2 D' R' D2\""
      ]
     },
     "execution_count": 92,
     "metadata": {},
     "output_type": "execute_result"
    }
   ],
   "source": [
    "get_solve_sequence(test_cube, reverse=True)"
   ]
  },
  {
   "cell_type": "code",
   "execution_count": 95,
   "metadata": {
    "ExecuteTime": {
     "end_time": "2024-06-08T23:59:33.557625Z",
     "start_time": "2024-06-08T23:59:33.544659Z"
    }
   },
   "outputs": [
    {
     "data": {
      "text/plain": [
       "\"U' R2 D' U2 L2 B2 U F2 D F2 R D2 R2 D' B' F2 D R D2\""
      ]
     },
     "execution_count": 95,
     "metadata": {},
     "output_type": "execute_result"
    }
   ],
   "source": [
    "get_solve_sequence(test_cube, reverse=True)"
   ]
  },
  {
   "cell_type": "code",
   "execution_count": null,
   "metadata": {},
   "outputs": [],
   "source": []
  }
 ],
 "metadata": {
  "kernelspec": {
   "display_name": "Python 3 (ipykernel)",
   "language": "python",
   "name": "python3"
  },
  "language_info": {
   "codemirror_mode": {
    "name": "ipython",
    "version": 3
   },
   "file_extension": ".py",
   "mimetype": "text/x-python",
   "name": "python",
   "nbconvert_exporter": "python",
   "pygments_lexer": "ipython3",
   "version": "3.9.13"
  }
 },
 "nbformat": 4,
 "nbformat_minor": 2
}
