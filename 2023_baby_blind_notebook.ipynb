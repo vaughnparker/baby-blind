{
 "cells": [
  {
   "cell_type": "code",
   "execution_count": 1,
   "metadata": {
    "ExecuteTime": {
     "end_time": "2024-05-20T06:27:51.628322Z",
     "start_time": "2024-05-20T06:27:49.899496Z"
    }
   },
   "outputs": [],
   "source": [
    "import copy\n",
    "import random\n",
    "#import json\n",
    "import pickle\n",
    "\n",
    "import matplotlib.pyplot as plt\n",
    "import seaborn as sns"
   ]
  },
  {
   "cell_type": "code",
   "execution_count": 2,
   "metadata": {
    "ExecuteTime": {
     "end_time": "2024-05-20T06:27:51.640999Z",
     "start_time": "2024-05-20T06:27:51.633513Z"
    }
   },
   "outputs": [],
   "source": [
    "blank_cube = '''\n",
    "        XXX\n",
    "        XXX\n",
    "        XXX\n",
    "XXX XXX XXX XXX\n",
    "XXX XXX XXX XXX\n",
    "XXX XXX XXX XXX\n",
    "        XXX\n",
    "        XXX\n",
    "        XXX\n",
    "'''"
   ]
  },
  {
   "cell_type": "code",
   "execution_count": 3,
   "metadata": {
    "ExecuteTime": {
     "end_time": "2024-05-20T06:27:53.003666Z",
     "start_time": "2024-05-20T06:27:52.993939Z"
    }
   },
   "outputs": [],
   "source": [
    "SOLVED_STATE = {\n",
    "    'A' : 'A',\n",
    "    'B' : 'B',\n",
    "    'C' : 'C',\n",
    "    'D' : 'D',\n",
    "\n",
    "    'E' : 'E',\n",
    "    'F' : 'F',\n",
    "    'G' : 'G',\n",
    "    'H' : 'H',\n",
    "\n",
    "    'I' : 'I',\n",
    "    'J' : 'J',\n",
    "    'K' : 'K',\n",
    "    'L' : 'L',\n",
    "\n",
    "    'M' : 'M',\n",
    "    'N' : 'N',\n",
    "    'O' : 'O',\n",
    "    'P' : 'P',\n",
    "\n",
    "    'Q' : 'Q',\n",
    "    'R' : 'R',\n",
    "    'S' : 'S',\n",
    "    'T' : 'T',\n",
    "\n",
    "    'U' : 'U',\n",
    "    'V' : 'V',\n",
    "    'W' : 'W',\n",
    "    'X' : 'X'\n",
    "}\n",
    "\n",
    "SOLVED_CUBE = {\n",
    "    'edges' : copy.deepcopy(SOLVED_STATE),\n",
    "    'corners' : copy.deepcopy(SOLVED_STATE)\n",
    "}"
   ]
  },
  {
   "cell_type": "code",
   "execution_count": 4,
   "metadata": {
    "ExecuteTime": {
     "end_time": "2024-05-20T06:29:17.592274Z",
     "start_time": "2024-05-20T06:29:17.552548Z"
    }
   },
   "outputs": [],
   "source": [
    "# operations\n",
    "def cycle_four_edges(cube, new_cube, to_cycle):\n",
    "    new_cube['edges'][to_cycle[0]] = cube['edges'][to_cycle[3]]\n",
    "    new_cube['edges'][to_cycle[1]] = cube['edges'][to_cycle[0]]\n",
    "    new_cube['edges'][to_cycle[2]] = cube['edges'][to_cycle[1]]\n",
    "    new_cube['edges'][to_cycle[3]] = cube['edges'][to_cycle[2]]\n",
    "    \n",
    "    new_cube['edges'][to_cycle[5]] = cube['edges'][to_cycle[8]]\n",
    "    new_cube['edges'][to_cycle[6]] = cube['edges'][to_cycle[5]]\n",
    "    new_cube['edges'][to_cycle[7]] = cube['edges'][to_cycle[6]]\n",
    "    new_cube['edges'][to_cycle[8]] = cube['edges'][to_cycle[7]]\n",
    "\n",
    "    return\n",
    "\n",
    "def cycle_four_corners(cube, new_cube, to_cycle):\n",
    "    new_cube['corners'][to_cycle[0]] = cube['corners'][to_cycle[3]]\n",
    "    new_cube['corners'][to_cycle[1]] = cube['corners'][to_cycle[0]]\n",
    "    new_cube['corners'][to_cycle[2]] = cube['corners'][to_cycle[1]]\n",
    "    new_cube['corners'][to_cycle[3]] = cube['corners'][to_cycle[2]]\n",
    "    \n",
    "    new_cube['corners'][to_cycle[5]] = cube['corners'][to_cycle[8]]\n",
    "    new_cube['corners'][to_cycle[6]] = cube['corners'][to_cycle[5]]\n",
    "    new_cube['corners'][to_cycle[7]] = cube['corners'][to_cycle[6]]\n",
    "    new_cube['corners'][to_cycle[8]] = cube['corners'][to_cycle[7]]\n",
    "\n",
    "    new_cube['corners'][to_cycle[10]] = cube['corners'][to_cycle[13]]\n",
    "    new_cube['corners'][to_cycle[11]] = cube['corners'][to_cycle[10]]\n",
    "    new_cube['corners'][to_cycle[12]] = cube['corners'][to_cycle[11]]\n",
    "    new_cube['corners'][to_cycle[13]] = cube['corners'][to_cycle[12]]\n",
    "\n",
    "    return\n",
    "\n",
    "def R_move(cube):\n",
    "    new_cube = copy.deepcopy(cube)\n",
    "    cycle_four_edges(cube, new_cube, 'MNOP BTVJ')\n",
    "    cycle_four_corners(cube, new_cube, 'MNOP BTVJ CQWK')\n",
    "    return new_cube\n",
    "\n",
    "def L_move(cube):\n",
    "    new_cube = copy.deepcopy(cube)\n",
    "    cycle_four_edges(cube, new_cube, 'EFGH DLXR')\n",
    "    cycle_four_corners(cube, new_cube, 'EFGH DLXR AIUS')\n",
    "    return new_cube\n",
    "\n",
    "def U_move(cube):\n",
    "    new_cube = copy.deepcopy(cube)\n",
    "    cycle_four_edges(cube, new_cube, 'ABCD QMIE')\n",
    "    cycle_four_corners(cube, new_cube, 'ABCD QMIE RNJF')\n",
    "    return new_cube\n",
    "\n",
    "def D_move(cube):\n",
    "    new_cube = copy.deepcopy(cube)\n",
    "    cycle_four_edges(cube, new_cube, 'UVWX KOSG')\n",
    "    cycle_four_corners(cube, new_cube, 'UVWX KOSG LPTH')\n",
    "    return new_cube\n",
    "\n",
    "def F_move(cube):\n",
    "    new_cube = copy.deepcopy(cube)\n",
    "    cycle_four_edges(cube, new_cube, 'IJKL CPUF')\n",
    "    cycle_four_corners(cube, new_cube, 'IJKL CPUF DMVG')\n",
    "    return new_cube\n",
    "\n",
    "def B_move(cube):\n",
    "    new_cube = copy.deepcopy(cube)\n",
    "    cycle_four_edges(cube, new_cube, 'QRST AHWN')\n",
    "    cycle_four_corners(cube, new_cube, 'QRST AHWN BEXO')\n",
    "    return new_cube\n",
    "\n",
    "MOVES = {\n",
    "    'U' : U_move,\n",
    "    'D' : D_move,\n",
    "    'R' : R_move,\n",
    "    'L' : L_move,\n",
    "    'F' : F_move,\n",
    "    'B' : B_move,\n",
    "\n",
    "    'U2' : lambda x : U_move(U_move(x)),\n",
    "    'D2' : lambda x : D_move(D_move(x)),\n",
    "    'R2' : lambda x : R_move(R_move(x)),\n",
    "    'L2' : lambda x : L_move(L_move(x)),\n",
    "    'F2' : lambda x : F_move(F_move(x)),\n",
    "    'B2' : lambda x : B_move(B_move(x)),\n",
    "\n",
    "    \"U'\" : lambda x : U_move(U_move(U_move(x))),\n",
    "    \"D'\" : lambda x : D_move(D_move(D_move(x))),\n",
    "    \"R'\" : lambda x : R_move(R_move(R_move(x))),\n",
    "    \"L'\" : lambda x : L_move(L_move(L_move(x))),\n",
    "    \"F'\" : lambda x : F_move(F_move(F_move(x))),\n",
    "    \"B'\" : lambda x : B_move(B_move(B_move(x))),\n",
    "}\n",
    "\n",
    "ALL_MOVES = list(MOVES.keys())"
   ]
  },
  {
   "cell_type": "code",
   "execution_count": 5,
   "metadata": {
    "ExecuteTime": {
     "end_time": "2024-05-20T06:29:41.548519Z",
     "start_time": "2024-05-20T06:29:41.540575Z"
    }
   },
   "outputs": [],
   "source": [
    "def execute_algorithm(cube, algorithm_string):\n",
    "    new_cube = copy.deepcopy(cube)\n",
    "\n",
    "    algorithm_list = algorithm_string.split()\n",
    "    #print(algorithm_list)\n",
    "    for move in algorithm_list:\n",
    "        method_for_move = MOVES[move]\n",
    "        new_cube = method_for_move(new_cube)\n",
    "\n",
    "    return new_cube"
   ]
  },
  {
   "cell_type": "code",
   "execution_count": 6,
   "metadata": {
    "ExecuteTime": {
     "end_time": "2024-05-20T06:30:56.574973Z",
     "start_time": "2024-05-20T06:30:56.566278Z"
    }
   },
   "outputs": [],
   "source": [
    "def make_scramble_sequence(scramble_len=50):\n",
    "    scramble = ''\n",
    "\n",
    "    most_recent_move = random.choice(ALL_MOVES)\n",
    "    new_move = random.choice(ALL_MOVES)\n",
    "    \n",
    "    for i in range(scramble_len):\n",
    "        scramble += most_recent_move + ' '\n",
    "        while new_move[0] == most_recent_move[0]:\n",
    "            new_move = random.choice(ALL_MOVES)\n",
    "            \n",
    "        most_recent_move = new_move\n",
    "        \n",
    "    \n",
    "#     for i in range(scramble_len):\n",
    "#         one_random_move = random.choice(ALL_MOVES)\n",
    "#         scramble += one_random_move + ' '\n",
    "\n",
    "    return scramble"
   ]
  },
  {
   "cell_type": "code",
   "execution_count": 7,
   "metadata": {
    "ExecuteTime": {
     "end_time": "2024-05-20T06:31:04.484184Z",
     "start_time": "2024-05-20T06:31:04.352760Z"
    }
   },
   "outputs": [],
   "source": [
    "EDGES_DICT = {\n",
    "    'A' : 'AQ',\n",
    "    #'B' : 'B',\n",
    "    'C' : 'CI',\n",
    "    'D' : 'DE',\n",
    "    'E' : 'ED',\n",
    "    'F' : 'FL',\n",
    "    'G' : 'GX',\n",
    "    'H' : 'HR',\n",
    "    'I' : 'IC',\n",
    "    'J' : 'JP',\n",
    "    'K' : 'KU',\n",
    "    'L' : 'LF',\n",
    "    #'M' : 'M',\n",
    "    'N' : 'NT',\n",
    "    'O' : 'OV',\n",
    "    'P' : 'PJ',\n",
    "    'Q' : 'QA',\n",
    "    'R' : 'RH',\n",
    "    'S' : 'SW',\n",
    "    'T' : 'TN',\n",
    "    'U' : 'UK',\n",
    "    'V' : 'VO',\n",
    "    'W' : 'WS',\n",
    "    'X' : 'XG',\n",
    "}\n",
    "\n",
    "CORNERS_DICT = { # in clockwise order\n",
    "    #'A' : 'A',\n",
    "    'B' : 'BQN',\n",
    "    'C' : 'CMJ',\n",
    "    'D' : 'DIF',\n",
    "    #'E' : 'E',\n",
    "    'F' : 'FDI',\n",
    "    'G' : 'GLU',\n",
    "    'H' : 'HXS',\n",
    "    'I' : 'IFD',\n",
    "    'J' : 'JCM',\n",
    "    'K' : 'KPV',\n",
    "    'L' : 'LUG',\n",
    "    'M' : 'MJC',\n",
    "    'N' : 'NBQ',\n",
    "    'O' : 'OTW',\n",
    "    'P' : 'PVK',\n",
    "    'Q' : 'QNB',\n",
    "    #'R' : 'R',\n",
    "    'S' : 'SHX',\n",
    "    'T' : 'TWO',\n",
    "    'U' : 'UGL',\n",
    "    'V' : 'VKP',\n",
    "    'W' : 'WOT',\n",
    "    'X' : 'XSH',\n",
    "}"
   ]
  },
  {
   "cell_type": "code",
   "execution_count": 8,
   "metadata": {
    "ExecuteTime": {
     "end_time": "2024-05-20T06:33:21.768616Z",
     "start_time": "2024-05-20T06:33:21.753208Z"
    }
   },
   "outputs": [],
   "source": [
    "def swap_two_edges(cube, edge_1, edge_2):\n",
    "    '''\n",
    "    For example: swap_two_edges(messy_cube, 'AQ', 'BM')\n",
    "    '''\n",
    "    # swaps the piece specified by edge_1 with the piece specified by edge_2.\n",
    "    # Specifically, we are swapping\n",
    "    # cube['edges'][edge_1[0]] with cube['edges'][edge_2[0]], and\n",
    "    # cube['edges'][edge_1[1]] with cube['edges'][edge_2[1]]\n",
    "\n",
    "    temp_0 = cube['edges'][edge_1[0]]\n",
    "    temp_1 = cube['edges'][edge_1[1]]\n",
    "\n",
    "    cube['edges'][edge_1[0]] = cube['edges'][edge_2[0]]\n",
    "    cube['edges'][edge_1[1]] = cube['edges'][edge_2[1]]\n",
    "\n",
    "    cube['edges'][edge_2[0]] = temp_0\n",
    "    cube['edges'][edge_2[1]] = temp_1\n",
    "\n",
    "    # in theory, we could maybe do\n",
    "    # temp = cube['edges'][edge_1]\n",
    "    # cube['edges'][edge_1] = cube['edges'][edge_2]\n",
    "    # cube['edges'][edge_2] = temp\n",
    "    # but that is hard to read/understand. The operation of\n",
    "    # \"set the (dict) values associated with this list of keys\n",
    "    # to this list of values\" is not very intuitive\n",
    "\n",
    "\n",
    "def swap_two_corners(cube, corner_1, corner_2):\n",
    "    '''\n",
    "    For example: swap_two_corners(messy_cube, 'DIF', 'CMJ')\n",
    "    Ordering can be clockwise or counterclockwise, as long as\n",
    "    it is the same between the two corners.\n",
    "    '''\n",
    "\n",
    "    temp_0 = cube['corners'][corner_1[0]]\n",
    "    temp_1 = cube['corners'][corner_1[1]]\n",
    "    temp_2 = cube['corners'][corner_1[2]]\n",
    "\n",
    "    cube['corners'][corner_1[0]] = cube['corners'][corner_2[0]]\n",
    "    cube['corners'][corner_1[1]] = cube['corners'][corner_2[1]]\n",
    "    cube['corners'][corner_1[2]] = cube['corners'][corner_2[2]]\n",
    "\n",
    "    cube['corners'][corner_2[0]] = temp_0\n",
    "    cube['corners'][corner_2[1]] = temp_1\n",
    "    cube['corners'][corner_2[2]] = temp_2\n",
    "\n",
    "\n",
    "def fix_edge_in_buffer(cube):\n",
    "    buffer = cube['edges']['B']\n",
    "    piece_in_buffer = EDGES_DICT[buffer]\n",
    "\n",
    "    new_cube = swap_two_edges(cube, 'BM', piece_in_buffer)\n",
    "\n",
    "\n",
    "def fix_corner_in_buffer(cube):\n",
    "    buffer = cube['corners']['E']\n",
    "    piece_in_buffer = CORNERS_DICT[buffer]\n",
    "\n",
    "    new_cube = swap_two_corners(cube, 'ERA', piece_in_buffer)"
   ]
  },
  {
   "cell_type": "code",
   "execution_count": 9,
   "metadata": {
    "ExecuteTime": {
     "end_time": "2024-05-20T06:38:07.151547Z",
     "start_time": "2024-05-20T06:38:07.134675Z"
    }
   },
   "outputs": [],
   "source": [
    "def solve_cube(scrambled_cube):\n",
    "    new_cube = copy.deepcopy(scrambled_cube)\n",
    "    solve_string = ''\n",
    "    #print('\\nSolving...')\n",
    "    edge_count, corner_count = 0, 0\n",
    "    # solve edges\n",
    "    while new_cube['edges'] != SOLVED_STATE:\n",
    "        buffer = new_cube['edges']['B']\n",
    "        if buffer not in 'BM':\n",
    "            # let's say buffer == 'A'\n",
    "            #swap(new_cube, 'BM', 'AQ')\n",
    "\n",
    "            # if the buffer is NOT the white/red piece, then the buffer is\n",
    "            # holding a piece that belongs somewhere else. Let's put it where\n",
    "            # it belongs\n",
    "            fix_edge_in_buffer(new_cube)\n",
    "            swap_two_corners(new_cube, 'CMJ', 'BQN')\n",
    "            solve_string += buffer + ' '\n",
    "            edge_count += 1\n",
    "        else:\n",
    "            # if buffer == 'B' or buffer == 'M' start new cycle\n",
    "            # specifically, find an unsolved edge and swap with it\n",
    "            for one_edge in new_cube['edges'].keys():\n",
    "                if one_edge != new_cube['edges'][one_edge] and one_edge not in 'BM':\n",
    "                    # then the one_edge is unsolved\n",
    "                    unsolved_edge_piece = EDGES_DICT[one_edge]\n",
    "                    swap_two_edges(new_cube, 'BM', unsolved_edge_piece)\n",
    "                    swap_two_corners(new_cube, 'CMJ', 'BQN')\n",
    "                    solve_string += '/ ' + one_edge + ' '\n",
    "                    edge_count += 1\n",
    "                    break\n",
    "\n",
    "    solve_string += '\\n'\n",
    "\n",
    "    if edge_count % 2 == 1:\n",
    "        # parity\n",
    "        solve_string += 'parity\\n'\n",
    "\n",
    "        # Ra perm\n",
    "        swap_two_edges(new_cube, 'AQ', 'DE')\n",
    "        swap_two_corners(new_cube, 'CMJ', 'BQN')\n",
    "\n",
    "    # solve corners\n",
    "    while new_cube['corners'] != SOLVED_STATE:\n",
    "        buffer = new_cube['corners']['E']\n",
    "        if buffer not in 'AER':\n",
    "            fix_corner_in_buffer(new_cube)\n",
    "            swap_two_edges(new_cube, 'AQ', 'DE')\n",
    "            solve_string += buffer + ' '\n",
    "            corner_count += 1\n",
    "        else:\n",
    "            # new cycle\n",
    "            for one_corner in new_cube['corners'].keys():\n",
    "                if one_corner != new_cube['corners'][one_corner] and one_corner not in 'AER':\n",
    "                    unsolved_corner_piece = CORNERS_DICT[one_corner]\n",
    "                    swap_two_corners(new_cube, 'ERA', unsolved_corner_piece)\n",
    "                    swap_two_edges(new_cube, 'AQ', 'DE')\n",
    "                    solve_string += '/ ' + one_corner + ' '\n",
    "                    corner_count += 1\n",
    "                    break\n",
    "\n",
    "    #return (solve_string, edge_count, corner_count)\n",
    "    return solve_string"
   ]
  },
  {
   "cell_type": "code",
   "execution_count": 12,
   "metadata": {
    "ExecuteTime": {
     "end_time": "2024-05-20T06:38:41.495084Z",
     "start_time": "2024-05-20T06:38:41.490540Z"
    }
   },
   "outputs": [],
   "source": [
    "temp_cube = copy.deepcopy(SOLVED_CUBE)"
   ]
  },
  {
   "cell_type": "code",
   "execution_count": 13,
   "metadata": {
    "ExecuteTime": {
     "end_time": "2024-05-20T06:38:41.946819Z",
     "start_time": "2024-05-20T06:38:41.931199Z"
    }
   },
   "outputs": [
    {
     "data": {
      "text/plain": [
       "{'edges': {'A': 'A',\n",
       "  'B': 'B',\n",
       "  'C': 'C',\n",
       "  'D': 'D',\n",
       "  'E': 'E',\n",
       "  'F': 'F',\n",
       "  'G': 'G',\n",
       "  'H': 'H',\n",
       "  'I': 'I',\n",
       "  'J': 'J',\n",
       "  'K': 'K',\n",
       "  'L': 'L',\n",
       "  'M': 'M',\n",
       "  'N': 'N',\n",
       "  'O': 'O',\n",
       "  'P': 'P',\n",
       "  'Q': 'Q',\n",
       "  'R': 'R',\n",
       "  'S': 'S',\n",
       "  'T': 'T',\n",
       "  'U': 'U',\n",
       "  'V': 'V',\n",
       "  'W': 'W',\n",
       "  'X': 'X'},\n",
       " 'corners': {'A': 'A',\n",
       "  'B': 'B',\n",
       "  'C': 'C',\n",
       "  'D': 'D',\n",
       "  'E': 'E',\n",
       "  'F': 'F',\n",
       "  'G': 'G',\n",
       "  'H': 'H',\n",
       "  'I': 'I',\n",
       "  'J': 'J',\n",
       "  'K': 'K',\n",
       "  'L': 'L',\n",
       "  'M': 'M',\n",
       "  'N': 'N',\n",
       "  'O': 'O',\n",
       "  'P': 'P',\n",
       "  'Q': 'Q',\n",
       "  'R': 'R',\n",
       "  'S': 'S',\n",
       "  'T': 'T',\n",
       "  'U': 'U',\n",
       "  'V': 'V',\n",
       "  'W': 'W',\n",
       "  'X': 'X'}}"
      ]
     },
     "execution_count": 13,
     "metadata": {},
     "output_type": "execute_result"
    }
   ],
   "source": [
    "temp_cube"
   ]
  },
  {
   "cell_type": "code",
   "execution_count": null,
   "metadata": {},
   "outputs": [],
   "source": []
  },
  {
   "cell_type": "code",
   "execution_count": 22,
   "metadata": {
    "ExecuteTime": {
     "end_time": "2023-06-19T20:43:16.054149Z",
     "start_time": "2023-06-19T20:43:16.045368Z"
    }
   },
   "outputs": [],
   "source": [
    "def count_solution_halves(solution_string):\n",
    "    edge_count, corner_count = 0, 0\n",
    "\n",
    "    temp_string = solution_string.replace('parity', '')\n",
    "    solution_list = temp_string.split('\\n')\n",
    "\n",
    "    for char in solution_list[0]:\n",
    "        if char.isalpha():\n",
    "            edge_count += 1\n",
    "\n",
    "    for char in solution_list[-1]:\n",
    "        if char.isalpha():\n",
    "            corner_count += 1\n",
    "\n",
    "    return (edge_count, corner_count)"
   ]
  },
  {
   "cell_type": "code",
   "execution_count": 23,
   "metadata": {
    "ExecuteTime": {
     "end_time": "2023-06-19T20:43:16.215921Z",
     "start_time": "2023-06-19T20:43:16.206980Z"
    }
   },
   "outputs": [],
   "source": [
    "def run_simulation(num_sims=1000, scramble_len=25):\n",
    "    difficulty_dict = {}\n",
    "\n",
    "    print(f'Starting simulation... with num_sims={num_sims}')\n",
    "    for i in range(num_sims):\n",
    "        scramble = make_scramble_sequence(scramble_len=scramble_len)\n",
    "        messy_cube = execute_algorithm(SOLVED_CUBE, scramble)\n",
    "        sol = solve_cube(messy_cube)\n",
    "        #letters = count_solution(sol)\n",
    "        letters = count_solution_halves(sol)\n",
    "\n",
    "        if letters not in difficulty_dict.keys():\n",
    "            difficulty_dict[letters] = []\n",
    "\n",
    "        difficulty_dict[letters].append(scramble)\n",
    "\n",
    "    print('Ending simulation!')\n",
    "    return difficulty_dict"
   ]
  },
  {
   "cell_type": "code",
   "execution_count": 24,
   "metadata": {
    "ExecuteTime": {
     "end_time": "2023-06-19T20:43:16.376814Z",
     "start_time": "2023-06-19T20:43:16.360452Z"
    }
   },
   "outputs": [],
   "source": [
    "def print_sim_results(difficulty_dict):\n",
    "    print(f'min: {min(difficulty_dict.keys())}')\n",
    "    print(f'max: {max(difficulty_dict.keys())}')\n",
    "\n",
    "    for i in sorted(difficulty_dict.keys(), key=lambda x : (x[0] + x[1])):\n",
    "        print(f'Letters = {i[0] + i[1]},    Format = {i},   Count = {len(difficulty_dict[i])}')"
   ]
  },
  {
   "cell_type": "code",
   "execution_count": 25,
   "metadata": {
    "ExecuteTime": {
     "end_time": "2023-06-19T21:19:29.433666Z",
     "start_time": "2023-06-19T20:43:16.880074Z"
    },
    "scrolled": true
   },
   "outputs": [
    {
     "name": "stdout",
     "output_type": "stream",
     "text": [
      "Starting simulation... with num_sims=500000\n",
      "Ending simulation!\n",
      "min: (6, 6)\n",
      "max: (18, 10)\n",
      "Letters = 12,    Format = (7, 5),   Count = 6\n",
      "Letters = 12,    Format = (8, 4),   Count = 5\n",
      "Letters = 12,    Format = (9, 3),   Count = 2\n",
      "Letters = 12,    Format = (6, 6),   Count = 1\n",
      "Letters = 14,    Format = (7, 7),   Count = 94\n",
      "Letters = 14,    Format = (8, 6),   Count = 161\n",
      "Letters = 14,    Format = (9, 5),   Count = 141\n",
      "Letters = 14,    Format = (6, 8),   Count = 15\n",
      "Letters = 14,    Format = (10, 4),   Count = 59\n",
      "Letters = 14,    Format = (11, 3),   Count = 13\n",
      "Letters = 14,    Format = (12, 2),   Count = 1\n",
      "Letters = 16,    Format = (10, 6),   Count = 4217\n",
      "Letters = 16,    Format = (11, 5),   Count = 1839\n",
      "Letters = 16,    Format = (9, 7),   Count = 3628\n",
      "Letters = 16,    Format = (8, 8),   Count = 930\n",
      "Letters = 16,    Format = (12, 4),   Count = 270\n",
      "Letters = 16,    Format = (7, 9),   Count = 93\n",
      "Letters = 16,    Format = (13, 3),   Count = 20\n",
      "Letters = 16,    Format = (14, 2),   Count = 1\n",
      "Letters = 16,    Format = (6, 10),   Count = 3\n",
      "Letters = 18,    Format = (10, 8),   Count = 25546\n",
      "Letters = 18,    Format = (11, 7),   Count = 46463\n",
      "Letters = 18,    Format = (12, 6),   Count = 17319\n",
      "Letters = 18,    Format = (9, 9),   Count = 4092\n",
      "Letters = 18,    Format = (13, 5),   Count = 1992\n",
      "Letters = 18,    Format = (8, 10),   Count = 223\n",
      "Letters = 18,    Format = (14, 4),   Count = 92\n",
      "Letters = 18,    Format = (7, 11),   Count = 4\n",
      "Letters = 20,    Format = (13, 7),   Count = 53845\n",
      "Letters = 20,    Format = (11, 9),   Count = 53166\n",
      "Letters = 20,    Format = (12, 8),   Count = 108951\n",
      "Letters = 20,    Format = (14, 6),   Count = 5919\n",
      "Letters = 20,    Format = (10, 10),   Count = 6724\n",
      "Letters = 20,    Format = (9, 11),   Count = 281\n",
      "Letters = 20,    Format = (15, 5),   Count = 213\n",
      "Letters = 20,    Format = (8, 12),   Count = 5\n",
      "Letters = 20,    Format = (16, 4),   Count = 3\n",
      "Letters = 22,    Format = (14, 8),   Count = 37913\n",
      "Letters = 22,    Format = (13, 9),   Count = 61282\n",
      "Letters = 22,    Format = (12, 10),   Count = 28986\n",
      "Letters = 22,    Format = (15, 7),   Count = 6304\n",
      "Letters = 22,    Format = (11, 11),   Count = 3761\n",
      "Letters = 22,    Format = (16, 6),   Count = 237\n",
      "Letters = 22,    Format = (10, 12),   Count = 134\n",
      "Letters = 22,    Format = (9, 13),   Count = 1\n",
      "Letters = 22,    Format = (17, 5),   Count = 1\n",
      "Letters = 24,    Format = (13, 11),   Count = 4285\n",
      "Letters = 24,    Format = (14, 10),   Count = 10003\n",
      "Letters = 24,    Format = (15, 9),   Count = 7160\n",
      "Letters = 24,    Format = (16, 8),   Count = 1610\n",
      "Letters = 24,    Format = (12, 12),   Count = 592\n",
      "Letters = 24,    Format = (17, 7),   Count = 99\n",
      "Letters = 24,    Format = (11, 13),   Count = 18\n",
      "Letters = 24,    Format = (18, 6),   Count = 2\n",
      "Letters = 26,    Format = (15, 11),   Count = 504\n",
      "Letters = 26,    Format = (16, 10),   Count = 376\n",
      "Letters = 26,    Format = (14, 12),   Count = 203\n",
      "Letters = 26,    Format = (17, 9),   Count = 133\n",
      "Letters = 26,    Format = (13, 13),   Count = 28\n",
      "Letters = 26,    Format = (18, 8),   Count = 7\n",
      "Letters = 28,    Format = (17, 11),   Count = 10\n",
      "Letters = 28,    Format = (16, 12),   Count = 11\n",
      "Letters = 28,    Format = (15, 13),   Count = 1\n",
      "Letters = 28,    Format = (18, 10),   Count = 2\n"
     ]
    }
   ],
   "source": [
    "# sim_dict = run_simulation(num_sims=500000)\n",
    "# print_sim_results(sim_dict)\n",
    "\n",
    "# 50,000 took 3 mins 37 seconds on macbook air laptop\n",
    "# 500,000 took 36 mins 13 seconds on macbook air laptop"
   ]
  },
  {
   "cell_type": "code",
   "execution_count": 36,
   "metadata": {
    "ExecuteTime": {
     "end_time": "2023-06-19T21:22:27.164858Z",
     "start_time": "2023-06-19T21:22:26.738322Z"
    }
   },
   "outputs": [],
   "source": [
    "file = open('scrambles_database_500000.txt', 'wb')\n",
    "pickle.dump(sim_dict, file)\n",
    "file.close()"
   ]
  },
  {
   "cell_type": "code",
   "execution_count": null,
   "metadata": {},
   "outputs": [],
   "source": []
  },
  {
   "cell_type": "code",
   "execution_count": 42,
   "metadata": {
    "ExecuteTime": {
     "end_time": "2023-06-19T21:23:16.136449Z",
     "start_time": "2023-06-19T21:23:16.125150Z"
    }
   },
   "outputs": [
    {
     "data": {
      "text/plain": [
       "[(12, 14),\n",
       " (14, 484),\n",
       " (16, 11001),\n",
       " (18, 95731),\n",
       " (20, 229107),\n",
       " (22, 138619),\n",
       " (24, 23769),\n",
       " (26, 1251),\n",
       " (28, 24)]"
      ]
     },
     "execution_count": 42,
     "metadata": {},
     "output_type": "execute_result"
    }
   ],
   "source": [
    "keys_list = sim_dict.keys()\n",
    "\n",
    "freq_dict = {}\n",
    "\n",
    "for key in keys_list:\n",
    "    key_sum = key[0] + key[1]\n",
    "    \n",
    "    if key_sum not in freq_dict:\n",
    "        freq_dict[key_sum] = 0\n",
    "        \n",
    "    freq_dict[key_sum] += len(sim_dict[key])\n",
    "    \n",
    "freq_dict\n",
    "to_graph = sorted(list(freq_dict.items()))\n",
    "to_graph"
   ]
  },
  {
   "cell_type": "code",
   "execution_count": 43,
   "metadata": {
    "ExecuteTime": {
     "end_time": "2023-06-19T21:23:19.704897Z",
     "start_time": "2023-06-19T21:23:19.473478Z"
    }
   },
   "outputs": [
    {
     "name": "stderr",
     "output_type": "stream",
     "text": [
      "/Users/vaughn/anaconda3/lib/python3.7/site-packages/seaborn/_decorators.py:43: FutureWarning: Pass the following variables as keyword args: x, y. From version 0.12, the only valid positional argument will be `data`, and passing other arguments without an explicit keyword will result in an error or misinterpretation.\n",
      "  FutureWarning\n"
     ]
    },
    {
     "data": {
      "text/plain": [
       "<AxesSubplot:>"
      ]
     },
     "execution_count": 43,
     "metadata": {},
     "output_type": "execute_result"
    },
    {
     "data": {
      "image/png": "[encoded data removed]",
      "text/plain": [
       "<Figure size 432x288 with 1 Axes>"
      ]
     },
     "metadata": {
      "needs_background": "light"
     },
     "output_type": "display_data"
    }
   ],
   "source": [
    "sns.barplot([x[0] for x in to_graph], [x[1] / 5000 for x in to_graph])"
   ]
  },
  {
   "cell_type": "code",
   "execution_count": null,
   "metadata": {},
   "outputs": [],
   "source": []
  },
  {
   "cell_type": "code",
   "execution_count": 44,
   "metadata": {
    "ExecuteTime": {
     "end_time": "2023-06-19T21:23:21.952419Z",
     "start_time": "2023-06-19T21:23:21.944113Z"
    }
   },
   "outputs": [],
   "source": [
    "def make_baby_scrambles(letters):\n",
    "    with open('scrambles_database_500000.txt', 'rb') as handle:\n",
    "        data = handle.read()\n",
    "    \n",
    "    pickle_dict = pickle.loads(data)\n",
    "    keys_list = sim_dict.keys()\n",
    "    baby_scrambles = []\n",
    "\n",
    "    for key in keys_list:\n",
    "        key_sum = key[0] + key[1]\n",
    "        if key_sum == letters:\n",
    "            baby_scrambles.extend(pickle_dict[key])\n",
    "            \n",
    "    return baby_scrambles"
   ]
  },
  {
   "cell_type": "code",
   "execution_count": 45,
   "metadata": {
    "ExecuteTime": {
     "end_time": "2023-06-19T21:23:26.783259Z",
     "start_time": "2023-06-19T21:23:26.506354Z"
    }
   },
   "outputs": [
    {
     "data": {
      "text/plain": [
       "[\"R2 B L' F' L U' R U' F L' B2 U' R F R2 L B' R' D L2 R2 L2 U' B U \",\n",
       " \"B D L R F L2 F U' F' B' D2 B2 F2 L D2 B' U2 R L D F2 U D' U2 D' \",\n",
       " \"D U' L2 D L2 B U F B F2 B R' L' R L D' L B' D' R2 B D' L' D F \",\n",
       " \"R' L' F2 R' L D R2 L' U D U' D F' U2 R' D' R U2 F R' D R D' U L \",\n",
       " \"B' F' B' F' U R2 U' D B R' L F' L2 R2 U2 L' B R2 L' F2 L' R B' R' F \",\n",
       " \"D2 U2 D U' D2 L' B2 F2 R' U' D L2 R F R2 D2 L2 U F2 D U2 L' D' U' L2 \",\n",
       " \"D2 F' B2 L D' U R D2 L B R2 D F' R2 L2 F D2 B D F2 R' L D F' D2 \",\n",
       " \"B' F' U2 D' L B2 F D' F D F' D' R B D L' R2 L' U2 D2 R2 F' U2 L' B \",\n",
       " \"F D U2 F' L B L' B2 U' B F U' L' R2 F U' F2 B' D' R2 U F2 U2 R' L' \",\n",
       " \"B' U2 B' U' B2 F L U R' B R F2 B' L' D' B R U2 F2 B2 L B F U R2 \",\n",
       " \"L' R2 F' D B2 U' D B' U' D R' B F B2 D2 L2 B2 L R' B' F D' L' F' B2 \",\n",
       " \"B' R' F2 U' D L2 D2 R' B U' L R' L D U' L' R' L' R' L U R' D2 U2 R2 \",\n",
       " \"B2 R' U2 D L' D2 B' R D F2 L R D2 U R2 U2 L2 R' D2 U L2 D2 R2 U R \",\n",
       " \"D R2 U' B D B D' U R2 D2 U L' U' R B L' U' B2 L2 D L2 B R' F2 D \"]"
      ]
     },
     "execution_count": 45,
     "metadata": {},
     "output_type": "execute_result"
    }
   ],
   "source": [
    "make_baby_scrambles(12)"
   ]
  },
  {
   "cell_type": "code",
   "execution_count": null,
   "metadata": {
    "ExecuteTime": {
     "end_time": "2023-06-19T19:44:21.265277Z",
     "start_time": "2023-06-19T19:44:19.019948Z"
    }
   },
   "outputs": [],
   "source": []
  },
  {
   "cell_type": "code",
   "execution_count": null,
   "metadata": {},
   "outputs": [],
   "source": []
  },
  {
   "cell_type": "code",
   "execution_count": null,
   "metadata": {},
   "outputs": [],
   "source": []
  },
  {
   "cell_type": "code",
   "execution_count": null,
   "metadata": {},
   "outputs": [],
   "source": []
  },
  {
   "cell_type": "code",
   "execution_count": null,
   "metadata": {},
   "outputs": [],
   "source": []
  },
  {
   "cell_type": "code",
   "execution_count": null,
   "metadata": {},
   "outputs": [],
   "source": []
  },
  {
   "cell_type": "code",
   "execution_count": null,
   "metadata": {},
   "outputs": [],
   "source": []
  },
  {
   "cell_type": "code",
   "execution_count": null,
   "metadata": {},
   "outputs": [],
   "source": [
    "\n",
    "\n",
    "\n",
    "\n",
    "\n",
    "\n",
    "\n",
    "\n",
    "\n",
    "\n",
    "# my_cube = copy.deepcopy(SOLVED_CUBE)\n",
    "# s_cube = execute_algorithm(my_cube, \"R U R' U'\")\n",
    "# s_cube_six = execute_algorithm(my_cube, \"R U R' U' \"*6)\n",
    "\n",
    "# print(s_cube == SOLVED_CUBE)\n",
    "# print(s_cube_six == SOLVED_CUBE)\n",
    "\n",
    "\n",
    "\n",
    "\n",
    "\n",
    "\n",
    "\n",
    "def print_imperfections(cube):\n",
    "    print('\\nCube state:')\n",
    "    if cube['edges'] != SOLVED_STATE:\n",
    "        print('edges:')\n",
    "        for key, val in cube['edges'].items():\n",
    "            if key != val:\n",
    "                print(f'{key} : {val}')\n",
    "\n",
    "    if cube['corners'] != SOLVED_STATE:\n",
    "        print('corners:')\n",
    "        for key, val in cube['corners'].items():\n",
    "            if key != val:\n",
    "                print(f'{key} : {val}')\n",
    "\n",
    "\n",
    "\n",
    "\n",
    "\n",
    "\n",
    "\n",
    "def count_solution(solution_string):\n",
    "    count = 0\n",
    "\n",
    "    for char in solution_string.replace('parity', ''):\n",
    "        if char.isalpha():\n",
    "            count += 1\n",
    "\n",
    "    return count\n",
    "\n",
    "\n",
    "def analyze_solution(solution_string):\n",
    "    letters_count = 0\n",
    "    analysis_list = []\n",
    "\n",
    "    solution_list = solution_string.split('\\n')\n",
    "    \n",
    "    edges_string = solution_list[0]\n",
    "    edges_string = edges_string.replace(' ', '')\n",
    "    edge_cycles = edges_string.split('/')\n",
    "\n",
    "    for cycle in sorted(edge_cycles):\n",
    "        analysis_list.append(len(cycle))\n",
    "        letters_count += len(cycle)\n",
    "\n",
    "    if len(solution_list) == 3:\n",
    "        analysis_list.append('P')\n",
    "    else:\n",
    "        analysis_list.append('|')\n",
    "\n",
    "    corners_string = solution_list[1]\n",
    "    corners_string = corners_string.replace(' ', '')\n",
    "    corner_cycles = corners_string.split('/')\n",
    "\n",
    "    for cycle in sorted(corner_cycles):\n",
    "        analysis_list.append(len(cycle))\n",
    "        letters_count += len(cycle)\n",
    "\n",
    "    return letters_count, analysis_list\n",
    "\n",
    "\n",
    "# messy_cube = execute_algorithm(SOLVED_CUBE, \"B' D2 B' U2 R2 U R U2 D R L2 B2 R2 L' B L2 B' R' L2 D L2 B2 L' B D'\")\n",
    "# print_imperfections(messy_cube)\n",
    "\n",
    "# test_ss = solve_cube(messy_cube)\n",
    "# print(test_ss)\n",
    "# print(analyze_solution(test_ss))\n",
    "# print(count_solution(test_ss))\n",
    "\n",
    "\n",
    "\n",
    "\n",
    "\n",
    "\n",
    "\n",
    "\n",
    "\n",
    "\n",
    "\n",
    "\n",
    "\n",
    "\n",
    "        \n",
    "\n",
    "\n",
    "\n",
    "# with open('file.txt', 'w') as file:\n",
    "#      file.write(json.dumps(sim_dict)) # use `json.loads` to do the reverse\n",
    "\n",
    "# num_sims = 1,000\n",
    "# 1.3 s / 57 KB\n",
    "\n",
    "# num_sims = 10,000\n",
    "# 12.3 s / 573 KB\n",
    "\n",
    "# num_sims = 100,000\n",
    "# 122.2 s = ~2 min / 5.7 MB\n",
    "\n",
    "# num_sims = 1,000,000\n",
    "# ~20 min / ~57 MB\n",
    "\n",
    "# cube_4 = copy.deepcopy(SOLVED_CUBE)\n",
    "# cube_4 = execute_algorithm(cube_4, \"R L2 F B' F B' L' B2 F2 L2 \")\n",
    "# print_imperfections(cube_4)\n",
    "# print(solve_cube(cube_4))"
   ]
  }
 ],
 "metadata": {
  "kernelspec": {
   "display_name": "Python 3",
   "language": "python",
   "name": "python3"
  },
  "language_info": {
   "codemirror_mode": {
    "name": "ipython",
    "version": 3
   },
   "file_extension": ".py",
   "mimetype": "text/x-python",
   "name": "python",
   "nbconvert_exporter": "python",
   "pygments_lexer": "ipython3",
   "version": "3.7.1"
  }
 },
 "nbformat": 4,
 "nbformat_minor": 2
}
