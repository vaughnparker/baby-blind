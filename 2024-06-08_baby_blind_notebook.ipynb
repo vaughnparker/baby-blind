{
 "cells": [
  {
   "cell_type": "code",
   "execution_count": 1,
   "metadata": {
    "ExecuteTime": {
     "end_time": "2024-06-09T00:06:18.550743Z",
     "start_time": "2024-06-09T00:06:17.150977Z"
    }
   },
   "outputs": [],
   "source": [
    "import copy\n",
    "import random\n",
    "#import json\n",
    "import pickle\n",
    "\n",
    "import matplotlib.pyplot as plt\n",
    "import seaborn as sns\n",
    "\n",
    "import pandas as pd\n",
    "\n",
    "import kociemba"
   ]
  },
  {
   "cell_type": "code",
   "execution_count": 2,
   "metadata": {
    "ExecuteTime": {
     "end_time": "2024-06-09T00:06:18.566701Z",
     "start_time": "2024-06-09T00:06:18.551740Z"
    }
   },
   "outputs": [],
   "source": [
    "SOLVED_STATE = {\n",
    "    'A' : 'A',\n",
    "    'B' : 'B',\n",
    "    'C' : 'C',\n",
    "    'D' : 'D',\n",
    "\n",
    "    'E' : 'E',\n",
    "    'F' : 'F',\n",
    "    'G' : 'G',\n",
    "    'H' : 'H',\n",
    "\n",
    "    'I' : 'I',\n",
    "    'J' : 'J',\n",
    "    'K' : 'K',\n",
    "    'L' : 'L',\n",
    "\n",
    "    'M' : 'M',\n",
    "    'N' : 'N',\n",
    "    'O' : 'O',\n",
    "    'P' : 'P',\n",
    "\n",
    "    'Q' : 'Q',\n",
    "    'R' : 'R',\n",
    "    'S' : 'S',\n",
    "    'T' : 'T',\n",
    "\n",
    "    'U' : 'U',\n",
    "    'V' : 'V',\n",
    "    'W' : 'W',\n",
    "    'X' : 'X'\n",
    "}\n",
    "\n",
    "SOLVED_CUBE = {\n",
    "    'edges' : copy.deepcopy(SOLVED_STATE),\n",
    "    'corners' : copy.deepcopy(SOLVED_STATE)\n",
    "}"
   ]
  },
  {
   "cell_type": "code",
   "execution_count": 3,
   "metadata": {
    "ExecuteTime": {
     "end_time": "2024-06-09T00:06:18.582167Z",
     "start_time": "2024-06-09T00:06:18.567700Z"
    }
   },
   "outputs": [],
   "source": [
    "EDGES_DICT = {\n",
    "    'A' : 'AQ',\n",
    "    #'B' : 'B',\n",
    "    'C' : 'CI',\n",
    "    'D' : 'DE',\n",
    "    'E' : 'ED',\n",
    "    'F' : 'FL',\n",
    "    'G' : 'GX',\n",
    "    'H' : 'HR',\n",
    "    'I' : 'IC',\n",
    "    'J' : 'JP',\n",
    "    'K' : 'KU',\n",
    "    'L' : 'LF',\n",
    "    #'M' : 'M',\n",
    "    'N' : 'NT',\n",
    "    'O' : 'OV',\n",
    "    'P' : 'PJ',\n",
    "    'Q' : 'QA',\n",
    "    'R' : 'RH',\n",
    "    'S' : 'SW',\n",
    "    'T' : 'TN',\n",
    "    'U' : 'UK',\n",
    "    'V' : 'VO',\n",
    "    'W' : 'WS',\n",
    "    'X' : 'XG',\n",
    "}\n",
    "\n",
    "CORNERS_DICT = { # in clockwise order\n",
    "    #'A' : 'A',\n",
    "    'B' : 'BQN',\n",
    "    'C' : 'CMJ',\n",
    "    'D' : 'DIF',\n",
    "    #'E' : 'E',\n",
    "    'F' : 'FDI',\n",
    "    'G' : 'GLU',\n",
    "    'H' : 'HXS',\n",
    "    'I' : 'IFD',\n",
    "    'J' : 'JCM',\n",
    "    'K' : 'KPV',\n",
    "    'L' : 'LUG',\n",
    "    'M' : 'MJC',\n",
    "    'N' : 'NBQ',\n",
    "    'O' : 'OTW',\n",
    "    'P' : 'PVK',\n",
    "    'Q' : 'QNB',\n",
    "    #'R' : 'R',\n",
    "    'S' : 'SHX',\n",
    "    'T' : 'TWO',\n",
    "    'U' : 'UGL',\n",
    "    'V' : 'VKP',\n",
    "    'W' : 'WOT',\n",
    "    'X' : 'XSH',\n",
    "}"
   ]
  },
  {
   "cell_type": "code",
   "execution_count": 4,
   "metadata": {
    "ExecuteTime": {
     "end_time": "2024-06-09T00:06:18.598124Z",
     "start_time": "2024-06-09T00:06:18.584162Z"
    }
   },
   "outputs": [],
   "source": [
    "# operations\n",
    "def cycle_four_edges(cube, new_cube, to_cycle):\n",
    "    new_cube['edges'][to_cycle[0]] = cube['edges'][to_cycle[3]]\n",
    "    new_cube['edges'][to_cycle[1]] = cube['edges'][to_cycle[0]]\n",
    "    new_cube['edges'][to_cycle[2]] = cube['edges'][to_cycle[1]]\n",
    "    new_cube['edges'][to_cycle[3]] = cube['edges'][to_cycle[2]]\n",
    "    \n",
    "    new_cube['edges'][to_cycle[5]] = cube['edges'][to_cycle[8]]\n",
    "    new_cube['edges'][to_cycle[6]] = cube['edges'][to_cycle[5]]\n",
    "    new_cube['edges'][to_cycle[7]] = cube['edges'][to_cycle[6]]\n",
    "    new_cube['edges'][to_cycle[8]] = cube['edges'][to_cycle[7]]\n",
    "\n",
    "    return\n",
    "\n",
    "def cycle_four_corners(cube, new_cube, to_cycle):\n",
    "    new_cube['corners'][to_cycle[0]] = cube['corners'][to_cycle[3]]\n",
    "    new_cube['corners'][to_cycle[1]] = cube['corners'][to_cycle[0]]\n",
    "    new_cube['corners'][to_cycle[2]] = cube['corners'][to_cycle[1]]\n",
    "    new_cube['corners'][to_cycle[3]] = cube['corners'][to_cycle[2]]\n",
    "    \n",
    "    new_cube['corners'][to_cycle[5]] = cube['corners'][to_cycle[8]]\n",
    "    new_cube['corners'][to_cycle[6]] = cube['corners'][to_cycle[5]]\n",
    "    new_cube['corners'][to_cycle[7]] = cube['corners'][to_cycle[6]]\n",
    "    new_cube['corners'][to_cycle[8]] = cube['corners'][to_cycle[7]]\n",
    "\n",
    "    new_cube['corners'][to_cycle[10]] = cube['corners'][to_cycle[13]]\n",
    "    new_cube['corners'][to_cycle[11]] = cube['corners'][to_cycle[10]]\n",
    "    new_cube['corners'][to_cycle[12]] = cube['corners'][to_cycle[11]]\n",
    "    new_cube['corners'][to_cycle[13]] = cube['corners'][to_cycle[12]]\n",
    "\n",
    "    return\n",
    "\n",
    "def R_move(cube):\n",
    "    new_cube = copy.deepcopy(cube)\n",
    "    cycle_four_edges(cube, new_cube, 'MNOP BTVJ')\n",
    "    cycle_four_corners(cube, new_cube, 'MNOP BTVJ CQWK')\n",
    "    return new_cube\n",
    "\n",
    "def L_move(cube):\n",
    "    new_cube = copy.deepcopy(cube)\n",
    "    cycle_four_edges(cube, new_cube, 'EFGH DLXR')\n",
    "    cycle_four_corners(cube, new_cube, 'EFGH DLXR AIUS')\n",
    "    return new_cube\n",
    "\n",
    "def U_move(cube):\n",
    "    new_cube = copy.deepcopy(cube)\n",
    "    cycle_four_edges(cube, new_cube, 'ABCD QMIE')\n",
    "    cycle_four_corners(cube, new_cube, 'ABCD QMIE RNJF')\n",
    "    return new_cube\n",
    "\n",
    "def D_move(cube):\n",
    "    new_cube = copy.deepcopy(cube)\n",
    "    cycle_four_edges(cube, new_cube, 'UVWX KOSG')\n",
    "    cycle_four_corners(cube, new_cube, 'UVWX KOSG LPTH')\n",
    "    return new_cube\n",
    "\n",
    "def F_move(cube):\n",
    "    new_cube = copy.deepcopy(cube)\n",
    "    cycle_four_edges(cube, new_cube, 'IJKL CPUF')\n",
    "    cycle_four_corners(cube, new_cube, 'IJKL CPUF DMVG')\n",
    "    return new_cube\n",
    "\n",
    "def B_move(cube):\n",
    "    new_cube = copy.deepcopy(cube)\n",
    "    cycle_four_edges(cube, new_cube, 'QRST AHWN')\n",
    "    cycle_four_corners(cube, new_cube, 'QRST AHWN BEXO')\n",
    "    return new_cube\n",
    "\n",
    "MOVES = {\n",
    "    'U' : U_move,\n",
    "    'D' : D_move,\n",
    "    'R' : R_move,\n",
    "    'L' : L_move,\n",
    "    'F' : F_move,\n",
    "    'B' : B_move,\n",
    "\n",
    "    'U2' : lambda x : U_move(U_move(x)),\n",
    "    'D2' : lambda x : D_move(D_move(x)),\n",
    "    'R2' : lambda x : R_move(R_move(x)),\n",
    "    'L2' : lambda x : L_move(L_move(x)),\n",
    "    'F2' : lambda x : F_move(F_move(x)),\n",
    "    'B2' : lambda x : B_move(B_move(x)),\n",
    "\n",
    "    \"U'\" : lambda x : U_move(U_move(U_move(x))),\n",
    "    \"D'\" : lambda x : D_move(D_move(D_move(x))),\n",
    "    \"R'\" : lambda x : R_move(R_move(R_move(x))),\n",
    "    \"L'\" : lambda x : L_move(L_move(L_move(x))),\n",
    "    \"F'\" : lambda x : F_move(F_move(F_move(x))),\n",
    "    \"B'\" : lambda x : B_move(B_move(B_move(x))),\n",
    "}\n",
    "\n",
    "ALL_MOVES = list(MOVES.keys())"
   ]
  },
  {
   "cell_type": "code",
   "execution_count": 5,
   "metadata": {
    "ExecuteTime": {
     "end_time": "2024-06-09T00:06:18.677911Z",
     "start_time": "2024-06-09T00:06:18.664946Z"
    }
   },
   "outputs": [],
   "source": [
    "def make_scramble_sequence(scramble_len=50):\n",
    "    scramble = ''\n",
    "\n",
    "    most_recent_move = random.choice(ALL_MOVES)\n",
    "    new_move = random.choice(ALL_MOVES)\n",
    "    \n",
    "    for i in range(scramble_len):\n",
    "        scramble += most_recent_move + ' '\n",
    "        while new_move[0] == most_recent_move[0]:\n",
    "            new_move = random.choice(ALL_MOVES)\n",
    "            \n",
    "        most_recent_move = new_move\n",
    "        \n",
    "    \n",
    "#     for i in range(scramble_len):\n",
    "#         one_random_move = random.choice(ALL_MOVES)\n",
    "#         scramble += one_random_move + ' '\n",
    "\n",
    "    return scramble"
   ]
  },
  {
   "cell_type": "code",
   "execution_count": 6,
   "metadata": {
    "ExecuteTime": {
     "end_time": "2024-06-09T00:06:18.834493Z",
     "start_time": "2024-06-09T00:06:18.820530Z"
    }
   },
   "outputs": [],
   "source": [
    "def swap_two_edges(cube, edge_1, edge_2):\n",
    "    '''\n",
    "    For example: swap_two_edges(messy_cube, 'AQ', 'BM')\n",
    "    '''\n",
    "    # swaps the piece specified by edge_1 with the piece specified by edge_2.\n",
    "    # Specifically, we are swapping\n",
    "    # cube['edges'][edge_1[0]] with cube['edges'][edge_2[0]], and\n",
    "    # cube['edges'][edge_1[1]] with cube['edges'][edge_2[1]]\n",
    "\n",
    "    temp_0 = cube['edges'][edge_1[0]]\n",
    "    temp_1 = cube['edges'][edge_1[1]]\n",
    "\n",
    "    cube['edges'][edge_1[0]] = cube['edges'][edge_2[0]]\n",
    "    cube['edges'][edge_1[1]] = cube['edges'][edge_2[1]]\n",
    "\n",
    "    cube['edges'][edge_2[0]] = temp_0\n",
    "    cube['edges'][edge_2[1]] = temp_1\n",
    "\n",
    "    # in theory, we could maybe do\n",
    "    # temp = cube['edges'][edge_1]\n",
    "    # cube['edges'][edge_1] = cube['edges'][edge_2]\n",
    "    # cube['edges'][edge_2] = temp\n",
    "    # but that is hard to read/understand. The operation of\n",
    "    # \"set the (dict) values associated with this list of keys\n",
    "    # to this list of values\" is not very intuitive\n",
    "\n",
    "\n",
    "def swap_two_corners(cube, corner_1, corner_2):\n",
    "    '''\n",
    "    For example: swap_two_corners(messy_cube, 'DIF', 'CMJ')\n",
    "    Ordering can be clockwise or counterclockwise, as long as\n",
    "    it is the same between the two corners.\n",
    "    '''\n",
    "\n",
    "    temp_0 = cube['corners'][corner_1[0]]\n",
    "    temp_1 = cube['corners'][corner_1[1]]\n",
    "    temp_2 = cube['corners'][corner_1[2]]\n",
    "\n",
    "    cube['corners'][corner_1[0]] = cube['corners'][corner_2[0]]\n",
    "    cube['corners'][corner_1[1]] = cube['corners'][corner_2[1]]\n",
    "    cube['corners'][corner_1[2]] = cube['corners'][corner_2[2]]\n",
    "\n",
    "    cube['corners'][corner_2[0]] = temp_0\n",
    "    cube['corners'][corner_2[1]] = temp_1\n",
    "    cube['corners'][corner_2[2]] = temp_2\n",
    "\n",
    "\n",
    "def fix_edge_in_buffer(cube):\n",
    "    buffer = cube['edges']['B']\n",
    "    piece_in_buffer = EDGES_DICT[buffer]\n",
    "\n",
    "    new_cube = swap_two_edges(cube, 'BM', piece_in_buffer)\n",
    "\n",
    "\n",
    "def fix_corner_in_buffer(cube):\n",
    "    buffer = cube['corners']['E']\n",
    "    piece_in_buffer = CORNERS_DICT[buffer]\n",
    "\n",
    "    new_cube = swap_two_corners(cube, 'ERA', piece_in_buffer)"
   ]
  },
  {
   "cell_type": "code",
   "execution_count": 101,
   "metadata": {
    "ExecuteTime": {
     "end_time": "2024-06-09T00:37:29.124047Z",
     "start_time": "2024-06-09T00:37:29.106095Z"
    }
   },
   "outputs": [],
   "source": [
    "def find_unsolved_edge_slot(cube, priority=None):\n",
    "    pieces_to_search_in_order = ''.join(list(SOLVED_STATE.keys()))\n",
    "    \n",
    "    if priority:\n",
    "        pieces_to_search_in_order = priority + pieces_to_search_in_order\n",
    "    \n",
    "    for one_edge in pieces_to_search_in_order:\n",
    "        if one_edge != cube['edges'][one_edge] and one_edge not in 'BM':\n",
    "            # if piece is unsolved and not in buffer slot\n",
    "            return one_edge\n",
    "    \n",
    "    print('This should never be reached! All edges are solved')"
   ]
  },
  {
   "cell_type": "code",
   "execution_count": 145,
   "metadata": {
    "ExecuteTime": {
     "end_time": "2024-06-09T00:43:43.706988Z",
     "start_time": "2024-06-09T00:43:43.690034Z"
    }
   },
   "outputs": [],
   "source": [
    "def find_unsolved_corner_slot(cube, priority=None):\n",
    "    pieces_to_search_in_order = ''.join(list(SOLVED_STATE.keys()))\n",
    "    \n",
    "    if priority:\n",
    "        pieces_to_search_in_order = priority + pieces_to_search_in_order\n",
    "    \n",
    "    for one_corner in pieces_to_search_in_order:\n",
    "        if one_corner != cube['corners'][one_corner] and one_corner not in 'AER':\n",
    "            # if piece is unsolved and not in buffer slot\n",
    "            return one_corner\n",
    "    \n",
    "    print('This should never be reached! All corners are solved')"
   ]
  },
  {
   "cell_type": "code",
   "execution_count": 150,
   "metadata": {
    "ExecuteTime": {
     "end_time": "2024-06-09T00:44:21.262683Z",
     "start_time": "2024-06-09T00:44:21.242737Z"
    }
   },
   "outputs": [],
   "source": [
    "def solve_cube(scrambled_cube, verbose=False, priority=None):\n",
    "    new_cube = copy.deepcopy(scrambled_cube)\n",
    "    solve_string = ''\n",
    "    # solve edges\n",
    "    while new_cube['edges'] != SOLVED_STATE:\n",
    "        buffer = new_cube['edges']['B']\n",
    "        if buffer not in 'BM':\n",
    "            # let's say buffer == 'A'\n",
    "            #swap(new_cube, 'BM', 'AQ')\n",
    "\n",
    "            # if the buffer is NOT the white/red piece, then the buffer is\n",
    "            # holding a piece that belongs somewhere else. Let's put it where\n",
    "            # it belongs\n",
    "            fix_edge_in_buffer(new_cube)\n",
    "            swap_two_corners(new_cube, 'CMJ', 'BQN')\n",
    "            solve_string += buffer\n",
    "        else:\n",
    "            # if buffer == 'B' or buffer == 'M' start new cycle\n",
    "            # specifically, find an unsolved edge and swap with it\n",
    "            unsolved_edge_slot = find_unsolved_edge_slot(new_cube, priority)\n",
    "            unsolved_edge_piece = EDGES_DICT[unsolved_edge_slot]\n",
    "            swap_two_edges(new_cube, 'BM', unsolved_edge_piece)\n",
    "            swap_two_corners(new_cube, 'CMJ', 'BQN')\n",
    "            if verbose:\n",
    "                solve_string += '/'\n",
    "            solve_string += unsolved_edge_slot\n",
    "\n",
    "    edge_count = len(solve_string.replace('/', ''))\n",
    "    if edge_count % 2 == 1:\n",
    "        # parity\n",
    "        solve_string += '|'\n",
    "        \n",
    "        # Ra perm\n",
    "        swap_two_edges(new_cube, 'AQ', 'DE')\n",
    "        swap_two_corners(new_cube, 'CMJ', 'BQN')\n",
    "    else:\n",
    "        # no parity\n",
    "        solve_string += '.'\n",
    "        \n",
    "    # solve corners\n",
    "    while new_cube['corners'] != SOLVED_STATE:\n",
    "        buffer = new_cube['corners']['E']\n",
    "        if buffer not in 'AER':\n",
    "            fix_corner_in_buffer(new_cube)\n",
    "            swap_two_edges(new_cube, 'AQ', 'DE')\n",
    "            solve_string += buffer\n",
    "        else:\n",
    "            # new cycle\n",
    "            unsolved_corner_slot = find_unsolved_corner_slot(new_cube, priority)\n",
    "            unsolved_corner_piece = CORNERS_DICT[unsolved_corner_slot]\n",
    "            swap_two_corners(new_cube, 'ERA', unsolved_corner_piece)\n",
    "            swap_two_edges(new_cube, 'AQ', 'DE')\n",
    "            if verbose:\n",
    "                solve_string += '/'\n",
    "            solve_string += unsolved_corner_slot\n",
    "            \n",
    "    return solve_string"
   ]
  },
  {
   "cell_type": "code",
   "execution_count": null,
   "metadata": {},
   "outputs": [],
   "source": []
  },
  {
   "cell_type": "code",
   "execution_count": null,
   "metadata": {},
   "outputs": [],
   "source": []
  },
  {
   "cell_type": "code",
   "execution_count": null,
   "metadata": {},
   "outputs": [],
   "source": []
  },
  {
   "cell_type": "code",
   "execution_count": null,
   "metadata": {},
   "outputs": [],
   "source": []
  },
  {
   "cell_type": "code",
   "execution_count": null,
   "metadata": {},
   "outputs": [],
   "source": []
  },
  {
   "cell_type": "code",
   "execution_count": null,
   "metadata": {},
   "outputs": [],
   "source": []
  },
  {
   "cell_type": "code",
   "execution_count": 151,
   "metadata": {
    "ExecuteTime": {
     "end_time": "2024-06-09T00:44:22.413608Z",
     "start_time": "2024-06-09T00:44:22.408621Z"
    }
   },
   "outputs": [],
   "source": [
    "def execute_algorithm(cube, algorithm_string):\n",
    "    new_cube = copy.deepcopy(cube)\n",
    "\n",
    "    algorithm_list = algorithm_string.split()\n",
    "    #print(algorithm_list)\n",
    "    for move in algorithm_list:\n",
    "        method_for_move = MOVES[move]\n",
    "        new_cube = method_for_move(new_cube)\n",
    "\n",
    "    return new_cube"
   ]
  },
  {
   "cell_type": "code",
   "execution_count": 152,
   "metadata": {
    "ExecuteTime": {
     "end_time": "2024-06-09T00:44:22.555229Z",
     "start_time": "2024-06-09T00:44:22.548249Z"
    },
    "scrolled": true
   },
   "outputs": [],
   "source": [
    "def new_scrambled_cube(scramble_len=25):\n",
    "    scramble_sequence = make_scramble_sequence(scramble_len=scramble_len)\n",
    "    scrambled_cube = execute_algorithm(SOLVED_CUBE, scramble_sequence)\n",
    "    return scrambled_cube"
   ]
  },
  {
   "cell_type": "code",
   "execution_count": 153,
   "metadata": {
    "ExecuteTime": {
     "end_time": "2024-06-09T00:44:22.698845Z",
     "start_time": "2024-06-09T00:44:22.680894Z"
    }
   },
   "outputs": [
    {
     "name": "stdout",
     "output_type": "stream",
     "text": [
      "REKAJSVLGTCA.HBQCFPCGOL\n",
      "CXSTORADLUJ|QKLTDCJ\n",
      "WDCGVHAUJFTL.FPGMNHOT\n",
      "HSQVCDIGJKX|UJNDHSKTP\n",
      "WGADIAFLJOKP.KFBGJNHX\n"
     ]
    }
   ],
   "source": [
    "for _ in range(5):\n",
    "    one_solution = solve_cube(new_scrambled_cube())\n",
    "    print(one_solution)"
   ]
  },
  {
   "cell_type": "code",
   "execution_count": null,
   "metadata": {},
   "outputs": [],
   "source": []
  },
  {
   "cell_type": "code",
   "execution_count": null,
   "metadata": {},
   "outputs": [],
   "source": []
  },
  {
   "cell_type": "code",
   "execution_count": null,
   "metadata": {},
   "outputs": [],
   "source": []
  },
  {
   "cell_type": "code",
   "execution_count": null,
   "metadata": {},
   "outputs": [],
   "source": []
  },
  {
   "cell_type": "code",
   "execution_count": null,
   "metadata": {},
   "outputs": [],
   "source": []
  },
  {
   "cell_type": "code",
   "execution_count": 106,
   "metadata": {
    "ExecuteTime": {
     "end_time": "2024-06-09T00:37:32.833135Z",
     "start_time": "2024-06-09T00:37:32.821167Z"
    }
   },
   "outputs": [],
   "source": [
    "def run_simulation(num_sims=1000, scramble_len=25):\n",
    "    matrix = []\n",
    "\n",
    "    print(f'Starting simulation... with num_sims={num_sims}')\n",
    "    for i in range(num_sims):\n",
    "        scramble = make_scramble_sequence(scramble_len=scramble_len)\n",
    "        messy_cube = execute_algorithm(SOLVED_CUBE, scramble)\n",
    "        sol = solve_cube(messy_cube)\n",
    "        sol_length = len(sol) - 1\n",
    "\n",
    "        matrix.append([sol_length, scramble, sol])\n",
    "\n",
    "    print('Ending simulation!')\n",
    "    return pd.DataFrame(matrix, columns=['Length', 'Scramble', 'Solution'])"
   ]
  },
  {
   "cell_type": "code",
   "execution_count": 107,
   "metadata": {
    "ExecuteTime": {
     "end_time": "2024-06-09T00:37:34.363046Z",
     "start_time": "2024-06-09T00:37:33.120367Z"
    }
   },
   "outputs": [
    {
     "name": "stdout",
     "output_type": "stream",
     "text": [
      "Starting simulation... with num_sims=500\n",
      "Ending simulation!\n"
     ]
    }
   ],
   "source": [
    "df = run_simulation(num_sims=500)\n",
    "# 10000 sims = 22.5 seconds"
   ]
  },
  {
   "cell_type": "code",
   "execution_count": 108,
   "metadata": {
    "ExecuteTime": {
     "end_time": "2024-06-09T00:37:34.379004Z",
     "start_time": "2024-06-09T00:37:34.365042Z"
    }
   },
   "outputs": [
    {
     "data": {
      "text/plain": [
       "Length\n",
       "20    234\n",
       "22    138\n",
       "18     97\n",
       "24     24\n",
       "16      6\n",
       "14      1\n",
       "dtype: int64"
      ]
     },
     "execution_count": 108,
     "metadata": {},
     "output_type": "execute_result"
    }
   ],
   "source": [
    "df.value_counts('Length')"
   ]
  },
  {
   "cell_type": "code",
   "execution_count": 109,
   "metadata": {
    "ExecuteTime": {
     "end_time": "2024-06-09T00:37:34.853735Z",
     "start_time": "2024-06-09T00:37:34.836781Z"
    }
   },
   "outputs": [
    {
     "data": {
      "text/html": [
       "<div>\n",
       "<style scoped>\n",
       "    .dataframe tbody tr th:only-of-type {\n",
       "        vertical-align: middle;\n",
       "    }\n",
       "\n",
       "    .dataframe tbody tr th {\n",
       "        vertical-align: top;\n",
       "    }\n",
       "\n",
       "    .dataframe thead th {\n",
       "        text-align: right;\n",
       "    }\n",
       "</style>\n",
       "<table border=\"1\" class=\"dataframe\">\n",
       "  <thead>\n",
       "    <tr style=\"text-align: right;\">\n",
       "      <th></th>\n",
       "      <th>Length</th>\n",
       "      <th>Scramble</th>\n",
       "      <th>Solution</th>\n",
       "    </tr>\n",
       "  </thead>\n",
       "  <tbody>\n",
       "    <tr>\n",
       "      <th>0</th>\n",
       "      <td>22</td>\n",
       "      <td>F D2 L' U R' D2 B R2 F2 U2 F L' F B2 L' B D2 U...</td>\n",
       "      <td>HGUAWCVADFPENT.HLFBVOCM</td>\n",
       "    </tr>\n",
       "    <tr>\n",
       "      <th>1</th>\n",
       "      <td>18</td>\n",
       "      <td>D U' D' F D2 L2 D2 U2 L U B2 R2 U' L B L R L' ...</td>\n",
       "      <td>HLAOIEKNASW|TGFCXNK</td>\n",
       "    </tr>\n",
       "    <tr>\n",
       "      <th>2</th>\n",
       "      <td>18</td>\n",
       "      <td>D L' F' R L2 R' D2 B2 L D' F2 L2 R2 D' U L2 R ...</td>\n",
       "      <td>UGHJLSAINEOQ.KSCFQT</td>\n",
       "    </tr>\n",
       "    <tr>\n",
       "      <th>3</th>\n",
       "      <td>20</td>\n",
       "      <td>B2 L2 D2 U' B' R U D2 U R2 F' R F' D' B' R B' ...</td>\n",
       "      <td>FQKENHSVGPI|IBPGJQHWS</td>\n",
       "    </tr>\n",
       "    <tr>\n",
       "      <th>4</th>\n",
       "      <td>22</td>\n",
       "      <td>R2 F D R2 D' R' U R' B D2 B' F D' L' R B' R B ...</td>\n",
       "      <td>WOHUPAIFNDXE.JGBSBDIKOV</td>\n",
       "    </tr>\n",
       "    <tr>\n",
       "      <th>...</th>\n",
       "      <td>...</td>\n",
       "      <td>...</td>\n",
       "      <td>...</td>\n",
       "    </tr>\n",
       "    <tr>\n",
       "      <th>495</th>\n",
       "      <td>22</td>\n",
       "      <td>U R2 U' B R' F' U' R D R' B D2 L R' U B F' D2 ...</td>\n",
       "      <td>KCAQDRGWLVJTD|KFBUMNHWS</td>\n",
       "    </tr>\n",
       "    <tr>\n",
       "      <th>496</th>\n",
       "      <td>20</td>\n",
       "      <td>R U2 B' R' L' D' U D2 L2 B U R2 D L2 F2 L D L'...</td>\n",
       "      <td>GNEKCSVHPIFL.OBVFMLSB</td>\n",
       "    </tr>\n",
       "    <tr>\n",
       "      <th>497</th>\n",
       "      <td>20</td>\n",
       "      <td>U' R L' R2 U2 B R2 B' L' F L' R2 B U' B U L' F...</td>\n",
       "      <td>IVNLADEGKHWJX|PWLHBDQ</td>\n",
       "    </tr>\n",
       "    <tr>\n",
       "      <th>498</th>\n",
       "      <td>20</td>\n",
       "      <td>U D2 U2 L' F R' D2 R2 L' B2 D' U F2 B F' L2 D ...</td>\n",
       "      <td>LWJOCRKQXDTD.MLFVBWHN</td>\n",
       "    </tr>\n",
       "    <tr>\n",
       "      <th>499</th>\n",
       "      <td>18</td>\n",
       "      <td>R2 B2 U D2 L2 U' B2 R D' B2 L' R B' R' F' R' B...</td>\n",
       "      <td>SAVRDGULTI.QLFOVSCJ</td>\n",
       "    </tr>\n",
       "  </tbody>\n",
       "</table>\n",
       "<p>500 rows × 3 columns</p>\n",
       "</div>"
      ],
      "text/plain": [
       "     Length                                           Scramble  \\\n",
       "0        22  F D2 L' U R' D2 B R2 F2 U2 F L' F B2 L' B D2 U...   \n",
       "1        18  D U' D' F D2 L2 D2 U2 L U B2 R2 U' L B L R L' ...   \n",
       "2        18  D L' F' R L2 R' D2 B2 L D' F2 L2 R2 D' U L2 R ...   \n",
       "3        20  B2 L2 D2 U' B' R U D2 U R2 F' R F' D' B' R B' ...   \n",
       "4        22  R2 F D R2 D' R' U R' B D2 B' F D' L' R B' R B ...   \n",
       "..      ...                                                ...   \n",
       "495      22  U R2 U' B R' F' U' R D R' B D2 L R' U B F' D2 ...   \n",
       "496      20  R U2 B' R' L' D' U D2 L2 B U R2 D L2 F2 L D L'...   \n",
       "497      20  U' R L' R2 U2 B R2 B' L' F L' R2 B U' B U L' F...   \n",
       "498      20  U D2 U2 L' F R' D2 R2 L' B2 D' U F2 B F' L2 D ...   \n",
       "499      18  R2 B2 U D2 L2 U' B2 R D' B2 L' R B' R' F' R' B...   \n",
       "\n",
       "                    Solution  \n",
       "0    HGUAWCVADFPENT.HLFBVOCM  \n",
       "1        HLAOIEKNASW|TGFCXNK  \n",
       "2        UGHJLSAINEOQ.KSCFQT  \n",
       "3      FQKENHSVGPI|IBPGJQHWS  \n",
       "4    WOHUPAIFNDXE.JGBSBDIKOV  \n",
       "..                       ...  \n",
       "495  KCAQDRGWLVJTD|KFBUMNHWS  \n",
       "496    GNEKCSVHPIFL.OBVFMLSB  \n",
       "497    IVNLADEGKHWJX|PWLHBDQ  \n",
       "498    LWJOCRKQXDTD.MLFVBWHN  \n",
       "499      SAVRDGULTI.QLFOVSCJ  \n",
       "\n",
       "[500 rows x 3 columns]"
      ]
     },
     "execution_count": 109,
     "metadata": {},
     "output_type": "execute_result"
    }
   ],
   "source": [
    "df"
   ]
  },
  {
   "cell_type": "code",
   "execution_count": 110,
   "metadata": {
    "ExecuteTime": {
     "end_time": "2024-06-09T00:37:35.109053Z",
     "start_time": "2024-06-09T00:37:35.094093Z"
    }
   },
   "outputs": [
    {
     "data": {
      "text/plain": [
       "\"F D2 L' U R' D2 B R2 F2 U2 F L' F B2 L' B D2 U' B2 D L2 D2 R2 B D \""
      ]
     },
     "execution_count": 110,
     "metadata": {},
     "output_type": "execute_result"
    }
   ],
   "source": [
    "df.iloc[0]['Scramble']"
   ]
  },
  {
   "cell_type": "code",
   "execution_count": 111,
   "metadata": {
    "ExecuteTime": {
     "end_time": "2024-06-09T00:37:35.491032Z",
     "start_time": "2024-06-09T00:37:35.475075Z"
    }
   },
   "outputs": [
    {
     "data": {
      "text/plain": [
       "'HGUAWCVADFPENT.HLFBVOCM'"
      ]
     },
     "execution_count": 111,
     "metadata": {},
     "output_type": "execute_result"
    }
   ],
   "source": [
    "df.iloc[0]['Solution']"
   ]
  },
  {
   "cell_type": "code",
   "execution_count": null,
   "metadata": {},
   "outputs": [],
   "source": []
  },
  {
   "cell_type": "code",
   "execution_count": 112,
   "metadata": {
    "ExecuteTime": {
     "end_time": "2024-06-09T00:37:35.920883Z",
     "start_time": "2024-06-09T00:37:35.904926Z"
    }
   },
   "outputs": [],
   "source": [
    "messed_up_cube = execute_algorithm(SOLVED_CUBE, \"R L U2 B' D' R2 U' L' R' D R L2 F L' D F2 D' R L' D F U L' F2 L' \")"
   ]
  },
  {
   "cell_type": "code",
   "execution_count": 113,
   "metadata": {
    "ExecuteTime": {
     "end_time": "2024-06-09T00:37:36.094420Z",
     "start_time": "2024-06-09T00:37:36.089433Z"
    }
   },
   "outputs": [
    {
     "data": {
      "text/plain": [
       "'APCHLWVNQDKEGX.FBWXJBGLKP'"
      ]
     },
     "execution_count": 113,
     "metadata": {},
     "output_type": "execute_result"
    }
   ],
   "source": [
    "solve_cube(messed_up_cube)"
   ]
  },
  {
   "cell_type": "code",
   "execution_count": null,
   "metadata": {},
   "outputs": [],
   "source": []
  },
  {
   "cell_type": "code",
   "execution_count": null,
   "metadata": {},
   "outputs": [],
   "source": []
  },
  {
   "cell_type": "code",
   "execution_count": null,
   "metadata": {},
   "outputs": [],
   "source": []
  },
  {
   "cell_type": "markdown",
   "metadata": {
    "ExecuteTime": {
     "end_time": "2024-06-08T23:17:44.517916Z",
     "start_time": "2024-06-08T23:17:44.506946Z"
    }
   },
   "source": [
    "Now that we have a table of scrambles and their solutions, the next step is to generate solution strings directly. First, lets make a \"simplifier\""
   ]
  },
  {
   "cell_type": "code",
   "execution_count": 177,
   "metadata": {
    "ExecuteTime": {
     "end_time": "2024-06-09T01:52:04.927157Z",
     "start_time": "2024-06-09T01:52:04.922170Z"
    }
   },
   "outputs": [],
   "source": [
    "def scramble_cube_with_solution_string(solution_string):\n",
    "    new_cube = copy.deepcopy(SOLVED_CUBE)\n",
    "    edge_solution, corner_solution = solution_string.replace('|', '.').split('.')\n",
    "    \n",
    "    for i in range(len(edge_solution)):\n",
    "        one_edge = edge_solution[len(edge_solution) - i - 1]\n",
    "        unsolved_edge_piece = EDGES_DICT[one_edge]\n",
    "        swap_two_edges(new_cube, 'BM', unsolved_edge_piece)\n",
    "\n",
    "    for i in range(len(corner_solution)):\n",
    "        one_corner = corner_solution[len(corner_solution) - i - 1]\n",
    "        unsolved_corner_piece = CORNERS_DICT[one_corner]\n",
    "        swap_two_corners(new_cube, 'ERA', unsolved_corner_piece)\n",
    "        \n",
    "    return new_cube"
   ]
  },
  {
   "cell_type": "code",
   "execution_count": 178,
   "metadata": {
    "ExecuteTime": {
     "end_time": "2024-06-09T01:52:05.211397Z",
     "start_time": "2024-06-09T01:52:05.193445Z"
    }
   },
   "outputs": [],
   "source": [
    "def simplify_solution(solution_string, priority=None):\n",
    "    new_cube = scramble_cube_with_solution_string(solution_string)\n",
    "    simple_solution = solve_cube(new_cube, verbose=False, priority=priority)\n",
    "    return simple_solution"
   ]
  },
  {
   "cell_type": "code",
   "execution_count": 179,
   "metadata": {
    "ExecuteTime": {
     "end_time": "2024-06-09T01:52:05.718043Z",
     "start_time": "2024-06-09T01:52:05.705078Z"
    }
   },
   "outputs": [
    {
     "data": {
      "text/plain": [
       "'CADA.'"
      ]
     },
     "execution_count": 179,
     "metadata": {},
     "output_type": "execute_result"
    }
   ],
   "source": [
    "simplify_solution('ACDACD.') # should simplify to CADA (C/ADA)"
   ]
  },
  {
   "cell_type": "code",
   "execution_count": 180,
   "metadata": {
    "ExecuteTime": {
     "end_time": "2024-06-09T01:52:05.748961Z",
     "start_time": "2024-06-09T01:52:05.736993Z"
    }
   },
   "outputs": [
    {
     "data": {
      "text/plain": [
       "'CQEQ.'"
      ]
     },
     "execution_count": 180,
     "metadata": {},
     "output_type": "execute_result"
    }
   ],
   "source": [
    "simplify_solution('ACDACD.', priority='Q') # should simplify to CQEQ (C/QEQ)"
   ]
  },
  {
   "cell_type": "markdown",
   "metadata": {
    "ExecuteTime": {
     "end_time": "2024-06-09T00:06:37.040664Z",
     "start_time": "2024-06-09T00:06:37.026703Z"
    }
   },
   "source": [
    "Now, we can try generate scrambles by simply producing nonsense"
   ]
  },
  {
   "cell_type": "code",
   "execution_count": 181,
   "metadata": {
    "ExecuteTime": {
     "end_time": "2024-06-09T01:52:05.811792Z",
     "start_time": "2024-06-09T01:52:05.801820Z"
    }
   },
   "outputs": [],
   "source": [
    "# make sure nonsense_len is even to avoid parity\n",
    "def generate_nonsense_solution(pool, nonsense_len=30):\n",
    "    nonsense_string = ''\n",
    "    for _ in range(nonsense_len):\n",
    "        nonsense_string += random.choice(pool)\n",
    "        \n",
    "    return nonsense_string"
   ]
  },
  {
   "cell_type": "code",
   "execution_count": 182,
   "metadata": {
    "ExecuteTime": {
     "end_time": "2024-06-09T01:52:05.843707Z",
     "start_time": "2024-06-09T01:52:05.832738Z"
    }
   },
   "outputs": [
    {
     "name": "stdout",
     "output_type": "stream",
     "text": [
      "XUUUXVWWUUUXVWVVXXUWVUWUWXUXWW\n",
      "VXUW.\n",
      "-------------------------\n",
      "VWVWUWWUVUXWVWVWUVUWVXXWXWVVWX\n",
      "VGKG.\n",
      "-------------------------\n",
      "WVVWXXXXVXXVXUVUWWUVWVWXWWVVXX\n",
      "GKGOSO.\n",
      "-------------------------\n",
      "UWWWUVVVWVXVXUWUWUVUUXUXWUXVUU\n",
      "UXWV.\n",
      "-------------------------\n",
      "VXXVXVVVVVWXVUVWVVUWVWUUUVVVXX\n",
      "GKSG.\n",
      "-------------------------\n",
      "WWUWXXXXVWVUWXVVWXXWXUWVUWUVUW\n",
      "UV.\n",
      "-------------------------\n",
      "UVUVUUUWUXUXVXWVXUUUVXVWXVUWVW\n",
      "GOSG.\n",
      "-------------------------\n",
      "UVVVUXWVVXVVXVWXVVWXWXWXVWUVUU\n",
      ".\n",
      "-------------------------\n",
      "WXUVXWWXWXVUWVWVUWXVXWUXWUWWXV\n",
      "GSKG.\n",
      "-------------------------\n",
      "WWVUVXUVUXVUXVVUXWVUVXXUXXXUUX\n",
      "GOGKSK.\n",
      "-------------------------\n"
     ]
    }
   ],
   "source": [
    "for i in range(10):\n",
    "    one_nons = generate_nonsense_solution('UVWX')\n",
    "    print(one_nons)\n",
    "    print(simplify_solution(one_nons + '.'))\n",
    "    print('-------------------------')"
   ]
  },
  {
   "cell_type": "markdown",
   "metadata": {},
   "source": [
    "## Kociemba's Algorithm"
   ]
  },
  {
   "cell_type": "markdown",
   "metadata": {},
   "source": [
    "#### Converting from edge/corner dict to cube state"
   ]
  },
  {
   "cell_type": "code",
   "execution_count": 183,
   "metadata": {
    "ExecuteTime": {
     "end_time": "2024-06-09T01:52:06.206737Z",
     "start_time": "2024-06-09T01:52:06.191777Z"
    }
   },
   "outputs": [],
   "source": [
    "#test_cube = new_scrambled_cube()\n",
    "test_cube = execute_algorithm(SOLVED_CUBE, \"U' R2 D' U2 L2 B2 U F2 D F2 R D2 R2 D' B' F2 D R D2\")\n",
    "#test_cube"
   ]
  },
  {
   "cell_type": "code",
   "execution_count": 184,
   "metadata": {
    "ExecuteTime": {
     "end_time": "2024-06-09T01:52:06.378791Z",
     "start_time": "2024-06-09T01:52:06.368818Z"
    }
   },
   "outputs": [],
   "source": [
    "SIDE_DICT = {\n",
    "    'A': 'U',\n",
    "    'B': 'U',\n",
    "    'C': 'U',\n",
    "    'D': 'U',\n",
    "    'E': 'L',\n",
    "    'F': 'L',\n",
    "    'G': 'L',\n",
    "    'H': 'L',\n",
    "    'I': 'F',\n",
    "    'J': 'F',\n",
    "    'K': 'F',\n",
    "    'L': 'F',\n",
    "    'M': 'R',\n",
    "    'N': 'R',\n",
    "    'O': 'R',\n",
    "    'P': 'R',\n",
    "    'Q': 'B',\n",
    "    'R': 'B',\n",
    "    'S': 'B',\n",
    "    'T': 'B',\n",
    "    'U': 'D',\n",
    "    'V': 'D',\n",
    "    'W': 'D',\n",
    "    'X': 'D'\n",
    "}"
   ]
  },
  {
   "cell_type": "code",
   "execution_count": 185,
   "metadata": {
    "ExecuteTime": {
     "end_time": "2024-06-09T01:52:06.615159Z",
     "start_time": "2024-06-09T01:52:06.543352Z"
    }
   },
   "outputs": [
    {
     "data": {
      "text/plain": [
       "\"D2 R' D' F2 B D R2 D2 R' F2 D' F2 U' B2 L2 U2 D R2 U\""
      ]
     },
     "execution_count": 185,
     "metadata": {},
     "output_type": "execute_result"
    }
   ],
   "source": [
    "kociemba.solve('DRLUUBFBRBLURRLRUBLRDDFDLFUFUFFDBRDUBRUFLLFDDBFLUBLRBD')"
   ]
  },
  {
   "cell_type": "code",
   "execution_count": 186,
   "metadata": {
    "ExecuteTime": {
     "end_time": "2024-06-09T01:52:06.741821Z",
     "start_time": "2024-06-09T01:52:06.716888Z"
    }
   },
   "outputs": [],
   "source": [
    "def get_kociemba_string(cube):\n",
    "    k_string = ''\n",
    "    \n",
    "    # U side\n",
    "    k_string += SIDE_DICT[cube['corners']['A']]\n",
    "    k_string += SIDE_DICT[cube['edges']['A']]\n",
    "    k_string += SIDE_DICT[cube['corners']['B']]\n",
    "    k_string += SIDE_DICT[cube['edges']['D']]\n",
    "    k_string += 'U'\n",
    "    k_string += SIDE_DICT[cube['edges']['B']]\n",
    "    k_string += SIDE_DICT[cube['corners']['D']]\n",
    "    k_string += SIDE_DICT[cube['edges']['C']]\n",
    "    k_string += SIDE_DICT[cube['corners']['C']]\n",
    "    \n",
    "    # R side\n",
    "    k_string += SIDE_DICT[cube['corners']['M']]\n",
    "    k_string += SIDE_DICT[cube['edges']['M']]\n",
    "    k_string += SIDE_DICT[cube['corners']['N']]\n",
    "    k_string += SIDE_DICT[cube['edges']['P']]\n",
    "    k_string += 'R'\n",
    "    k_string += SIDE_DICT[cube['edges']['N']]\n",
    "    k_string += SIDE_DICT[cube['corners']['P']]\n",
    "    k_string += SIDE_DICT[cube['edges']['O']]\n",
    "    k_string += SIDE_DICT[cube['corners']['O']]\n",
    "    \n",
    "    # F side\n",
    "    k_string += SIDE_DICT[cube['corners']['I']]\n",
    "    k_string += SIDE_DICT[cube['edges']['I']]\n",
    "    k_string += SIDE_DICT[cube['corners']['J']]\n",
    "    k_string += SIDE_DICT[cube['edges']['L']]\n",
    "    k_string += 'F'\n",
    "    k_string += SIDE_DICT[cube['edges']['J']]\n",
    "    k_string += SIDE_DICT[cube['corners']['L']]\n",
    "    k_string += SIDE_DICT[cube['edges']['K']]\n",
    "    k_string += SIDE_DICT[cube['corners']['K']]\n",
    "    \n",
    "    # D side\n",
    "    k_string += SIDE_DICT[cube['corners']['U']]\n",
    "    k_string += SIDE_DICT[cube['edges']['U']]\n",
    "    k_string += SIDE_DICT[cube['corners']['V']]\n",
    "    k_string += SIDE_DICT[cube['edges']['X']]\n",
    "    k_string += 'D'\n",
    "    k_string += SIDE_DICT[cube['edges']['V']]\n",
    "    k_string += SIDE_DICT[cube['corners']['X']]\n",
    "    k_string += SIDE_DICT[cube['edges']['W']]\n",
    "    k_string += SIDE_DICT[cube['corners']['W']]\n",
    "    \n",
    "    # L side\n",
    "    k_string += SIDE_DICT[cube['corners']['E']]\n",
    "    k_string += SIDE_DICT[cube['edges']['E']]\n",
    "    k_string += SIDE_DICT[cube['corners']['F']]\n",
    "    k_string += SIDE_DICT[cube['edges']['H']]\n",
    "    k_string += 'L'\n",
    "    k_string += SIDE_DICT[cube['edges']['F']]\n",
    "    k_string += SIDE_DICT[cube['corners']['H']]\n",
    "    k_string += SIDE_DICT[cube['edges']['G']]\n",
    "    k_string += SIDE_DICT[cube['corners']['G']]\n",
    "    \n",
    "    # B side\n",
    "    k_string += SIDE_DICT[cube['corners']['Q']]\n",
    "    k_string += SIDE_DICT[cube['edges']['Q']]\n",
    "    k_string += SIDE_DICT[cube['corners']['R']]\n",
    "    k_string += SIDE_DICT[cube['edges']['T']]\n",
    "    k_string += 'B'\n",
    "    k_string += SIDE_DICT[cube['edges']['R']]\n",
    "    k_string += SIDE_DICT[cube['corners']['T']]\n",
    "    k_string += SIDE_DICT[cube['edges']['S']]\n",
    "    k_string += SIDE_DICT[cube['corners']['S']]\n",
    "    \n",
    "    return k_string"
   ]
  },
  {
   "cell_type": "code",
   "execution_count": 187,
   "metadata": {
    "ExecuteTime": {
     "end_time": "2024-06-09T01:52:06.915358Z",
     "start_time": "2024-06-09T01:52:06.896408Z"
    }
   },
   "outputs": [
    {
     "name": "stdout",
     "output_type": "stream",
     "text": [
      "DRLUUBFBRBLURRLRUBLRDDFDLFUFUFFDBRDUBRUFLLFDDBFLUBLRBD\n",
      "True\n"
     ]
    }
   ],
   "source": [
    "print(get_kociemba_string(test_cube))\n",
    "print(get_kociemba_string(test_cube) in 'DRLUUBFBRBLURRLRUBLRDDFDLFUFUFFDBRDUBRUFLLFDDBFLUBLRBD')"
   ]
  },
  {
   "cell_type": "code",
   "execution_count": 188,
   "metadata": {
    "ExecuteTime": {
     "end_time": "2024-06-09T01:52:07.071941Z",
     "start_time": "2024-06-09T01:52:07.051992Z"
    }
   },
   "outputs": [],
   "source": [
    "def get_solve_sequence(scrambled_cube, reverse=False):\n",
    "    one_k_string = get_kociemba_string(scrambled_cube)\n",
    "    solve_string = kociemba.solve(one_k_string)\n",
    "    \n",
    "    if reverse:\n",
    "        reversed_string = ''\n",
    "        for move in solve_string.split():\n",
    "            if len(move) == 1: # clockwise 90 degrees becomes counterclockwise 90 degrees\n",
    "                reversed_string = move + '\\' ' + reversed_string\n",
    "            elif move[1] == '2': # 180 degree turns stay the same\n",
    "                reversed_string = move + ' ' + reversed_string\n",
    "            else: # counterclockwise 90 degree turns become clockwise 90 degree turns\n",
    "                reversed_string = move[0] + ' ' + reversed_string\n",
    "        return reversed_string.strip()\n",
    "    else:\n",
    "        return solve_string "
   ]
  },
  {
   "cell_type": "code",
   "execution_count": 189,
   "metadata": {
    "ExecuteTime": {
     "end_time": "2024-06-09T01:52:07.227522Z",
     "start_time": "2024-06-09T01:52:07.209571Z"
    }
   },
   "outputs": [
    {
     "data": {
      "text/plain": [
       "\"D2 R' D' F2 B D R2 D2 R' F2 D' F2 U' B2 L2 U2 D R2 U\""
      ]
     },
     "execution_count": 189,
     "metadata": {},
     "output_type": "execute_result"
    }
   ],
   "source": [
    "get_solve_sequence(test_cube)"
   ]
  },
  {
   "cell_type": "code",
   "execution_count": 190,
   "metadata": {
    "ExecuteTime": {
     "end_time": "2024-06-09T01:52:07.369146Z",
     "start_time": "2024-06-09T01:52:07.351251Z"
    }
   },
   "outputs": [
    {
     "data": {
      "text/plain": [
       "\"U' R2 D' U2 L2 B2 U F2 D F2 R D2 R2 D' B' F2 D R D2\""
      ]
     },
     "execution_count": 190,
     "metadata": {},
     "output_type": "execute_result"
    }
   ],
   "source": [
    "get_solve_sequence(test_cube, reverse=True)"
   ]
  },
  {
   "cell_type": "code",
   "execution_count": 191,
   "metadata": {
    "ExecuteTime": {
     "end_time": "2024-06-09T01:52:07.559635Z",
     "start_time": "2024-06-09T01:52:07.547667Z"
    }
   },
   "outputs": [
    {
     "data": {
      "text/plain": [
       "\"U' R2 D' U2 L2 B2 U F2 D F2 R D2 R2 D' B' F2 D R D2\""
      ]
     },
     "execution_count": 191,
     "metadata": {},
     "output_type": "execute_result"
    }
   ],
   "source": [
    "get_solve_sequence(test_cube, reverse=True)"
   ]
  },
  {
   "cell_type": "markdown",
   "metadata": {},
   "source": [
    "### Testing Kociemba"
   ]
  },
  {
   "cell_type": "code",
   "execution_count": 192,
   "metadata": {
    "ExecuteTime": {
     "end_time": "2024-06-09T01:52:07.939620Z",
     "start_time": "2024-06-09T01:52:07.924660Z"
    }
   },
   "outputs": [
    {
     "data": {
      "text/plain": [
       "0      F D2 L' U R' D2 B R2 F2 U2 F L' F B2 L' B D2 U...\n",
       "1      D U' D' F D2 L2 D2 U2 L U B2 R2 U' L B L R L' ...\n",
       "2      D L' F' R L2 R' D2 B2 L D' F2 L2 R2 D' U L2 R ...\n",
       "3      B2 L2 D2 U' B' R U D2 U R2 F' R F' D' B' R B' ...\n",
       "4      R2 F D R2 D' R' U R' B D2 B' F D' L' R B' R B ...\n",
       "                             ...                        \n",
       "495    U R2 U' B R' F' U' R D R' B D2 L R' U B F' D2 ...\n",
       "496    R U2 B' R' L' D' U D2 L2 B U R2 D L2 F2 L D L'...\n",
       "497    U' R L' R2 U2 B R2 B' L' F L' R2 B U' B U L' F...\n",
       "498    U D2 U2 L' F R' D2 R2 L' B2 D' U F2 B F' L2 D ...\n",
       "499    R2 B2 U D2 L2 U' B2 R D' B2 L' R B' R' F' R' B...\n",
       "Name: Scramble, Length: 500, dtype: object"
      ]
     },
     "execution_count": 192,
     "metadata": {},
     "output_type": "execute_result"
    }
   ],
   "source": [
    "df['Scramble']"
   ]
  },
  {
   "cell_type": "code",
   "execution_count": 193,
   "metadata": {
    "ExecuteTime": {
     "end_time": "2024-06-09T01:52:08.193940Z",
     "start_time": "2024-06-09T01:52:08.090217Z"
    }
   },
   "outputs": [
    {
     "name": "stdout",
     "output_type": "stream",
     "text": [
      "F D2 L' U R' D2 B R2 F2 U2 F L' F B2 L' B D2 U' B2 D L2 D2 R2 B D \n",
      "U F2 D2 B2 D' B D' L D2 B L D2 B2 D' B2 D L2 U' L2 B2 L2\n",
      "True\n",
      "----------------------------\n",
      "D U' D' F D2 L2 D2 U2 L U B2 R2 U' L B L R L' R2 F' U B2 U2 D2 U' \n",
      "U R2 B U2 L2 D F' R2 B D2 R U' F2 U' B2 U R2 D' R2 B2 U'\n",
      "True\n",
      "----------------------------\n",
      "D L' F' R L2 R' D2 B2 L D' F2 L2 R2 D' U L2 R L' D F2 B2 L2 B2 U' D \n",
      "F R2 D2 B' L' D F2 U' L D' R U F2 D B2 U2 F2 U F2 L2 D'\n",
      "True\n",
      "----------------------------\n",
      "B2 L2 D2 U' B' R U D2 U R2 F' R F' D' B' R B' L2 D' U' L2 U' D B F2 \n",
      "R' F2 D2 L' B2 U R D2 B' U L' U R2 U2 F2 D' L2 U' R2 D' L2\n",
      "True\n",
      "----------------------------\n",
      "R2 F D R2 D' R' U R' B D2 B' F D' L' R B' R B L2 D' F' L2 F D' F \n",
      "R2 B' R L F L2 F R2 B2 D' L' U' R2 D' R2 L2 D' R2 U2 L2 B2\n",
      "True\n",
      "----------------------------\n"
     ]
    }
   ],
   "source": [
    "for one_scramble in df['Scramble'].values[:5]:\n",
    "    print(one_scramble)\n",
    "    \n",
    "    one_scrambled_cube = execute_algorithm(SOLVED_CUBE, one_scramble)\n",
    "    one_solve_sequence = get_solve_sequence(one_scrambled_cube)\n",
    "    print(one_solve_sequence)\n",
    "    \n",
    "    one_maybe_solved_cube = execute_algorithm(one_scrambled_cube, one_solve_sequence)\n",
    "    print (one_maybe_solved_cube == SOLVED_CUBE)\n",
    "    \n",
    "    print('----------------------------')"
   ]
  },
  {
   "cell_type": "code",
   "execution_count": null,
   "metadata": {},
   "outputs": [],
   "source": []
  },
  {
   "cell_type": "markdown",
   "metadata": {},
   "source": [
    "### Level 1 - version 1"
   ]
  },
  {
   "cell_type": "markdown",
   "metadata": {},
   "source": [
    "ok... it's go time"
   ]
  },
  {
   "cell_type": "code",
   "execution_count": 196,
   "metadata": {
    "ExecuteTime": {
     "end_time": "2024-06-09T01:52:29.095084Z",
     "start_time": "2024-06-09T01:52:29.068156Z"
    }
   },
   "outputs": [
    {
     "name": "stdout",
     "output_type": "stream",
     "text": [
      "XXWUVDCCAWACXUWCDXVVAVAUVUCXAD\n",
      "UDAXVA.\n",
      "B2 U B2 D B2 R2 B2 D R2 U L R' U2 L' R'\n",
      "-------------------------\n",
      "CUUXDCWXCXAVUDXUCADUWWWCCWWWWD\n",
      "DWAVCA.\n",
      "U' B2 U2 B2 R2 B2 U2 R2 U' L R U2 L' R'\n",
      "-------------------------\n",
      "WDXCADDADXWXCWUUDXUADACXXUXDUX\n",
      "DAUCDXWX.\n",
      "F2 L2 D2 L2 F2 D' L2 R2 U L' R' F2 L' R'\n",
      "-------------------------\n",
      "VAVVXDXXWXDCXXWDVXWUCCCAVVDUAU\n",
      "XUCAVD.\n",
      "B2 D' U' B2 F2 U F2 R2 B2 U' L R' U2 L' R'\n",
      "-------------------------\n",
      "CCUAWXAWDWVWXCCDDUDUADVVXDCDCU\n",
      "XUVWADCD.\n",
      "D' B2 F2 L2 B2 R2 D' B2 F2 L' R' U2 L' R'\n",
      "-------------------------\n"
     ]
    }
   ],
   "source": [
    "level_one_pool = 'DACXUVW'\n",
    "\n",
    "for i in range(5):\n",
    "    one_nons = generate_nonsense_solution(level_one_pool)\n",
    "    print(one_nons)\n",
    "    \n",
    "    simplified_solution = simplify_solution(one_nons + '.', priority=level_one_pool)\n",
    "    print(simplified_solution)\n",
    "\n",
    "    one_cube = scramble_cube_with_solution_string(simplified_solution)\n",
    "    #print(one_cube)\n",
    "    k_solution = get_solve_sequence(one_cube, reverse=True)\n",
    "    print(k_solution)\n",
    "    \n",
    "    print('-------------------------')"
   ]
  },
  {
   "cell_type": "code",
   "execution_count": 197,
   "metadata": {
    "ExecuteTime": {
     "end_time": "2024-06-09T01:54:03.299332Z",
     "start_time": "2024-06-09T01:54:01.947944Z"
    }
   },
   "outputs": [
    {
     "name": "stdout",
     "output_type": "stream",
     "text": [
      "L2 R2 D B2 L2 B2 D L' R' U2 L' R'\n",
      "D' L2 R2 U' L2 R2 D2 F2 R2 B2 L' R' U2 L' R'\n",
      "L2 U2 F2 R2 B2 D' B2 F2 U' F2 L' R' U2 L' R'\n",
      "F2 D L2 R2 U R2 F2 L2 D2 L2 B' F' U2 B F\n",
      "R2 U F2 R2 F2 R2 F2 R2 U' B2 L R' U2 L' R'\n",
      "D' L2 B2 L2 D' U2 R2 F2 R2 U2\n",
      "L2 F2 D' B2 L2 B2 L2 F2 R2 U L R' U2 L R\n",
      "D B2 F2 U2 L2 B2 R2 D' F2 R2 F2\n",
      "R2 U' L2 R2 D R2 D L2 R2 U'\n",
      "L2 U' B2 F2 D R2 D B2 F2 U'\n",
      "L2 U B2 F2 D2 L2 F2 R2 U' L R U2 L R'\n",
      "B2 U2 B2 L2 B2 U L2 R2 D F2 R2\n",
      "F2 D L2 R2 U' B2 D' L2 R2 U' L' R B2 L R'\n",
      "U' L2 B2 D L2 B2 L2 D B2 U' L R' F2 L' R\n",
      "F2 L2 B2 L2 R2 U' F2 R2 F2 U'\n",
      "F2 D B2 F2 U2 L2 F2 R2 D' L' R U2 L' R'\n",
      "F2 R2 F2 D2 L2 F2 D B2 F2 U' L R F2 L R'\n",
      "L2 U' L2 D L2 R2 U' R2 U' L' R B2 L' R'\n",
      "U L2 R2 D2 B2 R2 F2 U' R2 B' F' U2 B' F\n",
      "D' L2 F2 L2 D B2 F2 U2 B2 L2 F2\n",
      "R2 F2 R2 U B2 R2 F2 D2 L2 R2 U'\n",
      "B2 D' F2 R2 B2 U2 R2 F2 R2 U' L R' D2 L R'\n",
      "D B2 L2 B2 L2 R2 U B2 F2 L R U2 L' R'\n",
      "B2 D2 L2 F2 R2 U' L2 R2 D' L R' U2 L' R'\n",
      "L2 U L2 R2 D2 B2 R2 F2 U' L2 F2\n",
      "R2 D B2 L2 B2 D R2 F2\n",
      "D' R2 D' L2 R2 U B2 R2 U' L' R' D2 L' R'\n",
      "U2 L2 R2 D F2 U' L2 R2 D B2 U\n",
      "U' L2 B2 U' B2 L2 B2 U' B2 U\n",
      "F2 D' L2 F2 L2 D' B2 R2 D B2 L' R U2 L R' U'\n",
      "F2 D' R2 D' B2 L2 F2 U' F2 U' L R' U2 L' R'\n",
      "B2 F2 U B2 F2 D F2 L2 F2 D2 L R U2 L' R'\n",
      "U B2 R2 B2 U' L2 R2 D2 L2 B2 R2\n",
      "L2 B2 R2 D2 B2 F2 U L2 R2 D L' R' U2 L' R'\n",
      "R2 B2 D B2 F2 R2 B2 R2 U L R' D2 L R'\n",
      "F2 U L2 R2 D' F2 R2 B2 F2 R2\n",
      "R2 B2 D2 B2 R2 F2 U' L2 R2 D' L R' U2 L R'\n",
      "U B2 U' B2 D' B2 F2 U F2 U' B' F R2 B' F' U'\n",
      "F2 R2 B2 U B2 F2 D R2 F2 R2 D2\n",
      "U R2 U B2 L2 R2 F2 D' L2 U'\n",
      "B2 D2 R2 F2 R2 D B2 L2 F2 U' F2\n",
      "F2 D2 B2 U' B2 F2 D L2 B2 U2 L' R D2 L' R'\n",
      "D2 L2 B2 R2 U B2 F2 D F2 L' R' D2 L' R\n",
      "B2 F2 L2 B2 F2 D L2 R2 U' F2 L' R U2 L' R'\n",
      "R2 D B2 L2 B2 L2 R2 U F2 L R U2 L' R'\n",
      "B2 D' B2 R2 B2 D L2 R2 U2 F2 L2\n",
      "R2 D L2 R2 U B2 R2 F2 L2 F2 L' R' B2 L' R'\n",
      "R2 B2 U L2 B2 R2 B2 F2 U B2\n",
      "U' B2 R2 U B2 F2 D' L2 F2 U\n",
      "B2 L2 D2 B2 F2 D' F2 L2 B2 U' L' R F2 L' R'\n",
      "R2 D' B2 D2 F2 L2 B2 U2 R2 D' L' R' U2 L R'\n",
      "F2 R2 F2 U' L2 R2 D' L2 F2 R2 U2\n",
      "B2 D L2 R2 U2 F2 R2 B2 D' R2 B' F' D2 B' F'\n",
      "F2 L2 B2 U L2 R2 D F2 R2 F2 D2\n",
      "D B2 F2 U' F2 D' L2 F2 R2 U' L' R U2 L' R'\n",
      "U F2 D' R2 B2 L2 U' R2 U F2 L' R' D2 L' R\n",
      "R2 D L2 U' B2 F2 D R2 U' B2 L R' D2 L' R'\n",
      "B2 D2 R2 B2 L2 U L2 R2 D B2 R2\n",
      "D2 B2 D' B2 F2 U R2 B2 U2 L' R' U2 L' R'\n",
      "U B2 F2 D' L2 D' B2 F2 U' L R' F2 L' R'\n",
      "B2 D' B2 D R2 B2 R2 D L2 U' L' R U2 L' R'\n",
      "U' B2 R2 U' L2 F2 L2 U' R2 U\n",
      "B2 F2 D2 F2 R2 B2 U F2 L2 F2 U'\n",
      "D F2 L2 R2 D B2 F2 U' F2 U L R' F2 L R'\n",
      "D2 L2 B2 L2 D B2 F2 U B2 R2 F2\n",
      "U' L2 U' B2 R2 B2 U' F2 U' B2 L R U2 L' R\n",
      "U2 B2 D R2 F2 L2 U F2 R2 U2\n",
      "F2 D' R2 D2 L2 B2 R2 U2 F2 D' L' R U2 L' R'\n",
      "U L2 R2 D' B2 F2 L2 B2 L' R U2 L' R'\n",
      "R2 D' B2 L2 F2 L2 R2 D L2 F2 L' R' B2 L' R'\n",
      "F2 R2 U2 B2 F2 D L2 B2 R2 U' R2\n",
      "U' F2 L2 F2 U' R2 D' B2 F2 U L R' D2 L' R'\n",
      "F2 L2 R2 U' B2 R2 F2 L2 R2 U' L R' U2 L' R'\n",
      "R2 F2 L2 U' F2 L2 R2 F2 U L' R' U2 L' R'\n",
      "F2 R2 F2 R2 F2 U' L2 R2 D' L' R F2 L' R'\n",
      "L2 D2 F2 L2 F2 D L2 R2 U B2 L' R' U2 L' R'\n",
      "L2 F2 U2 L2 F2 R2 D L2 R2 U F2\n",
      "F2 U2 R2 B2 L2 D' L2 B2 R2 U F2\n",
      "U2 B2 D' F2 L2 F2 L2 R2 U' F2 L R B2 L R'\n",
      "D F2 R2 F2 L2 R2 U L2 R2 B2 L R D2 L R'\n",
      "L2 R2 D R2 B2 R2 D2 L2 F2 R2 U\n",
      "U B2 R2 D' R2 B2 R2 D' R2 U'\n",
      "L2 U B2 F2 L2 R2 U' L2 R2 F2 L' R D2 L' R'\n",
      "D F2 R2 D' R2 F2 R2 D' L2 U L R' F2 L R'\n",
      "L2 B2 U R2 B2 F2 R2 U' B2 U2 L R' F2 L' R'\n",
      "D2 L2 R2 U B2 F2 D F2 L2 B2 L' R' U2 L' R'\n",
      "L2 D' F2 L2 F2 L2 F2 R2 U' L R' F2 L' R'\n",
      "B2 D' L2 F2 L2 D' B2 R2\n",
      "F2 U F2 U B2 F2 D' B2 U' F2\n",
      "D L2 F2 L2 D L2 D' B2 F2 U L' R D2 L' R'\n",
      "R2 F2 R2 D' B2 F2 U' B2 R2 F2 D2\n",
      "L2 D' B2 F2 U' L2 R2 D2 F2 L R' U2 L' R'\n",
      "B2 U' L2 F2 L2 U B2 F2 D2 F2 R2\n",
      "R2 B2 L2 U B2 F2 D' R2 F2 R2\n",
      "U B2 L2 U L2 B2 L2 U L2 U'\n",
      "R2 F2 L2 B2 D B2 L2 F2 U' L R' F2 L' R'\n",
      "L2 R2 D B2 F2 U2 R2 B2 L2 D' L' R' D2 L' R'\n",
      "F2 U' L2 R2 D' B2 L2 B2 D2 L R' U2 L' R'\n",
      "F2 D B2 D2 L2 F2 R2 U2 L2 D L' R U2 L' R'\n",
      "R2 D' F2 R2 B2 R2 F2 R2 U L2\n",
      "L2 R2 B2 D' U' L2 B2 L2 D' U' L R' U2 L' R'\n",
      "B2 D L2 R2 U F2 L2 B2 D2 B2 R2\n",
      "U2 R2 F2 U' B2 F2 D R2 U F2 L R U2 L R' U'\n",
      "U2 L2 D R2 F2 R2 D L2 B2 U2\n",
      "F2 L2 R2 D' L2 R2 U R2 B F' U2 B' F'\n",
      "D L2 R2 U' B2 U F2 R2 F2 U L R' U2 L' R'\n",
      "R2 F2 R2 U2 L2 R2 D' B2 L2 F2 U\n",
      "L2 U' B2 R2 B2 U' L2 F2\n",
      "L2 R2 D2 F2 R2 B2 U' R2 F2 R2 U\n",
      "U B2 D' F2 R2 F2 D' B2 L2 U'\n",
      "U2 B2 R2 F2 L2 F2 R2 U2\n",
      "B2 D' F2 D' B2 R2 B2 D' R2 U' L' R U2 L' R'\n",
      "R2 B2 U2 R2 D' L2 R2 U L2 U2 L R' U2 L' R'\n",
      "L2 D R2 B2 L2 U R2 F2\n",
      "L2 D' F2 D F2 L2 F2 D R2 U' B F' U2 B' F'\n",
      "R2 F2 R2 U' B2 F2 D L' R' U2 L' R'\n",
      "L2 F2 R2 U2 B2 F2 D' B2 F2 U' L' R' U2 L' R'\n",
      "L2 B2 R2 D' L2 R2 U B2 F2 L' R' U2 L' R'\n",
      "B2 F2 U R2 B2 R2 U L2 B2 R2\n",
      "L2 D' B2 F2 U F2 L2 R2 F2 R2\n",
      "L2 R2 D2 B2 F2 U' B2 F2 L2 R2 U'\n",
      "U' L2 B2 U' R2 F2 R2 U' B2 U\n",
      "R2 B2 L2 U B2 F2 D F2 R2 F2 D2\n",
      "U' L2 U2 R2 B2 R2 U2 F2 U' F2 L R U2 L R'\n",
      "B2 R2 F2 D' F2 L2 F2 L2 R2 U'\n",
      "D F2 L2 B2 L2 R2 D' B2 F2 U2 L' R' U2 L' R'\n",
      "L2 R2 U L2 R2 D F2 L2 F2 D2 L R U2 L' R'\n",
      "R2 U2 F2 D' B2 F2 U L2 R2 F2 L' R F2 L' R'\n",
      "U2 L2 F2 R2 D' B2 F2 U' B2 F2 L' R' U2 L' R'\n",
      "F2 U' B2 L2 F2 U B2 F2 D' U' L R' D2 L' R'\n",
      "R2 B2 R2 B2 F2 D' B2 L2 F2 U'\n",
      "F2 D R2 D2 L2 B2 R2 U2 F2 D B' F' U2 B F'\n",
      "R2 U2 B2 L2 F2 D' B2 F2 U' B2 L' R' U2 L' R'\n",
      "B2 L2 D2 L2 F2 L2 D' B2 F2 U' R2\n",
      "L2 R2 D B2 F2 R2 F2 R2 U L R U2 L' R'\n",
      "B2 R2 F2 D' L2 F2 R2 U'\n",
      "D2 F2 R2 B2 U B2 F2 D B2 F2 L' R' U2 L' R'\n",
      "F2 D B2 U' B2 F2 D R2 B2 U L R' U2 L' R'\n",
      "U2 F2 D L2 R2 U' F2 U2 L2 B2 L' R U2 L' R'\n",
      "D' F2 D' R2 F2 R2 D' L2 U' F2 L' R' D2 L R'\n",
      "B2 L2 B2 R2 U' B2 F2 D L R' U2 L' R'\n",
      "F2 U L2 R2 D R2 F2 R2 D2 B2 R2\n",
      "L2 D' R2 F2 R2 D B2 F2 U2 R2 F2\n",
      "B2 L2 F2 D' B2 F2 U' F2 R2 F2 U2\n",
      "R2 F2 U B2 F2 L2 B2 R2 U L' R U2 L R'\n",
      "F2 R2 B2 D' R2 B2 U B2 F2 D L' R F2 L' R' U'\n",
      "L2 D' B2 F2 U F2 D' B2 F2 U L' R U2 L' R'\n",
      "B2 D B2 F2 U2 F2 R2 F2 U' F2 R2\n",
      "F2 U' R2 U L2 R2 D' L2 U F2\n",
      "U2 L2 B2 L2 U' F2 R2 F2 U\n",
      "L2 B2 D' L2 F2 L2 D' L2 R2 F2\n",
      "L2 R2 U B2 F2 D L2 B2 R2 U2 L' R' U2 L' R'\n",
      "L2 R2 B2 U B2 F2 L2 B2 R2 U L R' U2 L' R'\n",
      "U R2 B2 R2 U' L2 R2 D2 B2 R2 F2\n",
      "U R2 U' B2 R2 B2 U' R2 B2 U'\n",
      "U' L2 D B2 L2 F2 U F2 U' B2 L R D2 L R'\n",
      "B2 U2 B2 L2 U L2 R2 D' B2 U2 L R' U2 L' R'\n",
      "L2 U R2 B2 L2 D2 B2 F2 U' F2 L R D2 L R\n",
      "B2 L2 D' B2 F2 U2 L2 B2 L2 U' L R' F2 L' R'\n",
      "B2 R2 F2 U2 F2 R2 F2 U' B2 F2 D'\n",
      "U' F2 L2 F2 U' F2 D' L2 R2 U L' R' U2 L R'\n",
      "D' B2 D F2 L2 B2 U L2 U' F2 L' R' D2 L R'\n",
      "D' R2 D' B2 R2 B2 D' F2 U' F2 L' R' D2 L R'\n",
      "B2 L2 D' F2 L2 B2 L2 R2 D' L2\n",
      "R2 D B2 F2 U' B2 D' B2 F2 U L R' U2 L' R'\n",
      "L2 U2 F2 L2 F2 U B2 F2 D F2 L' R' D2 L' R'\n",
      "F2 D' F2 D' B2 L2 F2 U' L2 U' L' R D2 L R\n",
      "B2 F2 D B2 F2 U' L2 F2 L' R U2 L' R'\n",
      "R2 F2 D' B2 R2 B2 L2 R2 U' B2\n",
      "B2 U' B2 U' B2 F2 D L2 F2 U' L R' U2 L' R'\n",
      "D L2 D2 R2 B2 L2 U2 B2 U F2 L' R' U2 L' R\n",
      "R2 B2 D B2 F2 U2 R2 F2 L2 D' L' R D2 L' R\n",
      "L2 U' F2 L2 R2 F2 U B2 F2 U2 L R' F2 L' R'\n",
      "L2 D' B2 L2 F2 D2 F2 R2 F2 U L R' B2 L' R'\n",
      "B2 R2 D2 F2 D' B2 F2 U L2 F2 L' R B2 L' R'\n",
      "F2 D' L2 F2 R2 U' F2 D2 B2 F2 L R' F2 L' R'\n",
      "U2 L2 R2 D' L2 D' B2 R2 B2 D' L' R' D2 L R' U'\n",
      "B2 L2 D2 B2 F2 D B2 R2 F2 U L' R F2 L' R'\n",
      "U' F2 R2 F2 L2 F2 R2 D B2 L2 B F' D2 B' F'\n",
      "B2 U' L2 F2 L2 U2 B2 R2 F2 D' F2\n",
      "B2 L2 U' B2 F2 D B2 R2 F2 D2 L' R F2 L' R'\n",
      "U B2 F2 D' B2 U' F2 R2 F2 U' B' F' D2 B F'\n",
      "R2 D B2 F2 U2 R2 B2 R2 U' F2 L' R' U2 L' R'\n",
      "D L2 D L2 F2 R2 U F2 D B2 L' R' U2 L' R\n",
      "U2 F2 D' B2 F2 R2 F2 R2 U' L2 B' F' D2 B F U2\n",
      "D2 L2 B2 R2 U F2 L2 F2 U' L2 R2\n",
      "R2 B2 U2 B2 F2 D' R2 F2 R2 D F2\n",
      "D2 L2 R2 U L2 R2 D L2 F2 L' R U2 L' R'\n",
      "U2 R2 U L2 F2 L2 U R2 B2 U2\n",
      "D L2 U B2 F2 D' F2 R2 U B2 L R U2 L R'\n",
      "U' B2 F2 L2 R2 U B2 F2 L2 U2 L R' F2 L' R'\n",
      "B2 D' B2 F2 L2 B2 R2 D' B2 L2\n",
      "F2 R2 D' B2 L2 F2 U2 B2 F2 D' L R' B2 L' R'\n",
      "F2 R2 D' B2 F2 U B2 R2 F2 U2 L R' F2 L' R'\n",
      "R2 D L2 R2 U' B2 D L2 R2 U' L' R U2 L R\n",
      "L2 D F2 L2 R2 F2 D B2 F2 L R' F2 L' R'\n",
      "B2 D B2 F2 R2 F2 R2 U L2 B2 L' R' D2 L' R\n",
      "U L2 D R2 F2 R2 D B2 U L R D2 L' R'\n",
      "D L2 F2 D L2 R2 U' L2 U F2 L R D2 L R'\n",
      "L2 F2 D L2 R2 U' B2 R2\n",
      "R2 U F2 R2 F2 U' F2 R2 F2 U2 R2\n",
      "B2 R2 B2 D' R2 B2 R2 D'\n",
      "F2 U2 R2 F2 R2 U2 F2 R2\n",
      "B2 L2 U F2 L2 F2 U' B2 F2 D2 R2\n",
      "D' F2 D' R2 F2 R2 D' F2 R2 D' L' R F2 L R'\n",
      "R2 D2 B2 L2 F2 U' B2 F2 D' B2 L' R' U2 L' R'\n",
      "B2 L2 F2 D F2 R2 F2 D L2 R2\n",
      "F2 D F2 R2 B2 L2 R2 D L' R U2 L' R'\n",
      "U2 R2 B2 R2 U2 B2 U B2 F2 D' L R U2 L R'\n",
      "U2 B2 F2 D B2 F2 L2 F2 R2 D' L' R' U2 L' R'\n",
      "U2 B2 D F2 R2 F2 L2 R2 U F2 L' R' B2 L R'\n",
      "B2 R2 B2 U2 L2 R2 D' L2 B2 R2 U\n",
      "L2 R2 F2 U B2 R2 F2 L2 R2 U L' R U2 L' R'\n",
      "B2 D2 B2 R2 F2 U2 R2 U' F2 L R D2 L' R U'\n",
      "L2 B2 D R2 F2 L2 U2 B2 F2 D' L' R D2 L' R\n",
      "R2 D L2 R2 U L2 D L2 R2 U' L' R' B2 L' R'\n",
      "B2 F2 U' L2 B2 R2 B2 F2 U' L' R' U2 L' R'\n",
      "L2 U' R2 B2 F2 R2 U B2 F2 R2\n",
      "R2 B2 L2 U2 F2 R2 F2 U L2 R2 D\n",
      "D B2 U2 B2 L2 B2 U2 L2 D B2 L' R' U2 L' R\n",
      "D' B2 F2 U R2 D' F2 R2 B2 U' L R U2 L R'\n",
      "B2 F2 D2 L2 B2 L2 D B2 F2 U L R U2 L' R'\n",
      "B2 L2 F2 U B2 F2 D F2 R2 F2 L' R F2 L R'\n",
      "F2 L2 F2 U' B2 F2 D L2 F2 U2 L R' F2 L' R'\n",
      "U R2 D' F2 R2 F2 D' R2 F2 U'\n",
      "U2 F2 R2 U' L2 R2 D F2 U2 L R U2 L' R'\n",
      "L2 F2 U' L2 R2 D' R2 B2 R2 D2 B2\n",
      "F2 U L2 D' L2 R2 U B2 R2 U L' R U2 L' R'\n",
      "F2 L2 U2 F2 R2 F2 U B2 F2 D R2\n",
      "U' B2 L2 D' B2 F2 U R2 F2 U\n",
      "B2 R2 B2 U' B2 L2 F2 D L2 R2 U2\n",
      "B2 F2 U' R2 B2 R2 U' B2 R2 F2\n",
      "L2 U L2 R2 D F2 R2 F2 D2 L' R' U2 L R'\n",
      "B2 L2 U2 B2 U' B2 F2 D R2 F2 L' R B2 L' R'\n",
      "L2 U' R2 F2 R2 B2 F2 D L2 B2 L' R' B2 L' R'\n",
      "B2 F2 U2 B2 F2 D R2 B2 L2 U' L' R' U2 L' R'\n",
      "F2 R2 U' L2 F2 R2 D2 B2 F2 U' L R' F2 L' R'\n",
      "R2 F2 L2 D B2 F2 U2 R2 B2 R2 U'\n",
      "L2 F2 U2 L2 R2 D' L2 B2 R2 U F2\n",
      "L2 B2 U' F2 L2 R2 F2 U B2 U2 L R' F2 L' R'\n",
      "B2 D R2 D2 B2 L2 F2 U2 B2 D L' R D2 L' R'\n",
      "B2 U' L2 R2 D F2 R2 D2 L' R F2 L' R'\n",
      "F2 D B2 F2 R2 B2 R2 U R2 B2 L' R' D2 L R'\n",
      "B2 L2 B2 D L2 R2 U2 B2 L2 F2 D'\n",
      "L2 R2 D2 B2 R2 B2 D L2 F2 R2 U'\n",
      "R2 D' L2 R2 U F2 R2 B' F' U2 B' F'\n",
      "L2 D2 L2 B2 L2 D' B2 F2 U' R2 F2\n",
      "L2 B2 U L2 R2 D2 F2 L2 B2 U' L R' U2 L R'\n",
      "U2 B2 D' L2 R2 U B2 U2 L2 B2 L' R U2 L' R'\n",
      "F2 L2 U B2 L2 R2 F2 D' B2 L' R' U2 L' R'\n",
      "F2 L2 D2 B2 F2 D' F2 L2 F2 D' L R' F2 L' R'\n",
      "B2 L2 B2 U2 L2 F2 R2 D' B2 F2 U'\n",
      "R2 U B2 R2 F2 D2 L2 R2 U' F2 L' R' U2 L R\n",
      "R2 D' L2 R2 U R2 D L2 R2 U'\n",
      "R2 B2 L2 U B2 F2 D' R2 F2 R2\n",
      "R2 U' R2 D L2 R2 U' L2 U' L R' F2 L' R'\n",
      "L2 D2 B2 F2 U' R2 B2 R2 U R2 F2\n"
     ]
    },
    {
     "name": "stdout",
     "output_type": "stream",
     "text": [
      "U R2 D' B2 F2 R2 F2 R2 U' F2 L R U2 L' R' U'\n",
      "B2 U' F2 U' L2 F2 L2 U' L2 U' L R' U2 L' R'\n",
      "R2 F2 R2 D L2 R2 U L2 F2 R2 D2\n",
      "U2 L2 R2 D' L2 D' F2 R2 F2 D' L' R' U2 L R' U'\n",
      "F2 L2 D B2 F2 R2 B2 R2 U R2\n",
      "F2 D R2 B2 R2 D' L2 R2 U2 L R' U2 L' R'\n",
      "L2 B2 L2 U2 L2 R2 D L2 F2 R2 U'\n",
      "D' B2 F2 U' L2 B2 R2 B2 F2 U2 L' R' U2 L' R'\n",
      "F2 R2 U2 F2 U' B2 F2 D R2 F2 L' R F2 L' R'\n",
      "F2 U2 R2 D' L2 R2 U F2 L2 U2 L' R U2 L' R'\n",
      "U B2 L2 B2 U B2 D L2 R2 U' L R U2 L' R\n",
      "R2 U2 F2 L2 B2 D L2 R2 U L' R' U2 L R'\n",
      "R2 D F2 D2 F2 L2 B2 U2 L2 D L' R' U2 L R'\n",
      "U' L2 R2 D F2 U' B2 L2 B2 U' L' R U2 L' R'\n",
      "U' B2 F2 D L2 U B2 R2 B2 U L R D2 L R'\n",
      "L2 F2 U2 B2 D' B2 F2 U F2 U2 L' R U2 L' R'\n",
      "D' F2 U L2 B2 L2 U L2 U' B2 L R U2 L R'\n",
      "F2 R2 U B2 F2 L2 B2 R2 U' L R' F2 L' R'\n",
      "B2 D' F2 U F2 R2 F2 U L2 U' L R' D2 L' R'\n",
      "R2 B2 U' B2 L2 B2 U' B2 R2 F2 L' R U2 L' R'\n",
      "D2 B2 L2 B2 D' L2 R2 U' L2 F2 R2\n",
      "B2 R2 F2 U L2 R2 D B2 F2 U2 L' R' U2 L' R'\n",
      "R2 U' F2 R2 F2 D U' B2 F2 U' L R D2 L R'\n",
      "L2 D R2 U' L2 R2 D R2 U' R2\n",
      "F2 R2 F2 L2 D' B2 F2 U L' R U2 L' R'\n",
      "U' F2 R2 F2 U' F2 D' B2 F2 U L R D2 L R'\n",
      "R2 B2 L2 U R2 B2 R2 U B2 F2\n",
      "R2 B2 L2 D B2 F2 U F2 R2 F2 L' R B2 L R'\n",
      "L2 R2 U L2 F2 L2 U L2 F2 R2\n",
      "D L2 D L2 R2 U' B2 L2 U F2 L R D2 L R'\n",
      "B2 F2 R2 U' L2 F2 L2 U' R2 F2\n",
      "U' B2 L2 F2 L2 F2 R2 U B2 L' R U2 L' R\n",
      "U2 B2 L2 B2 U L2 R2 D B2 L' R' D2 L' R\n",
      "D F2 L2 F2 D B2 F2 L2 F2 R2\n",
      "L2 B2 D' B2 F2 U' L2 R2 D2 L R' U2 L' R'\n",
      "B2 L2 F2 D L2 R2 U2 R2 B2 R2 U'\n",
      "U L2 F2 D' R2 F2 R2 B2 F2 U' L R' U2 L R' U'\n",
      "D2 R2 B2 L2 U B2 F2 D B2 L' R' U2 L' R\n",
      "U B2 R2 U' L2 F2 L2 U' R2 U'\n",
      "U B2 F2 D B2 R2 B2 D2 B2 R2 F2\n",
      "B2 U' L2 R2 D' B2 F2 U2 L2 B2 L' R' U2 L' R'\n",
      "B2 L2 D L2 R2 U F2 L2 F2 U2 R2\n",
      "L2 U' F2 L2 B2 R2 F2 R2 D B2 L' R U2 L' R'\n",
      "R2 U2 B2 F2 D' B2 F2 U' B2 L R' U2 L' R'\n",
      "B2 U' B2 R2 B2 U' L2 R2 F2 L2\n",
      "L2 F2 U' B2 F2 L2 B2 R2 U' L R' D2 L R'\n",
      "L2 D2 R2 B2 D B2 F2 U' F2 L' R' F2 L' R'\n",
      "D' R2 D' L2 F2 L2 D' F2 U' F2 L' R' D2 L R'\n",
      "F2 U B2 F2 D' B2 R2 U2 L R' F2 L' R'\n",
      "R2 B2 L2 R2 U' F2 L2 F2 U' F2\n",
      "B2 D R2 U' L2 R2 D R2 U' L2 B' F D2 B' F'\n",
      "B2 D F2 R2 B2 L2 R2 D B2 U2 L R' F2 L' R'\n",
      "R2 B2 U F2 R2 B2 L2 R2 U B2\n",
      "D' B2 U' B2 F2 D R2 B2 U' F2 L R D2 L R'\n",
      "B2 L2 R2 U2 L2 R2 D' B2 F2 U' F2\n",
      "B2 R2 D' L2 B2 L2 U2 B2 F2 U' L' R F2 L' R'\n",
      "U2 B2 D L2 R2 U' F2 D L2 R2 U\n",
      "D2 L2 R2 U' B2 F2 D' F2 L2 B2 L' R' U2 L' R'\n",
      "L2 R2 D2 B2 L2 F2 U B2 F2 D L' R' U2 L' R'\n",
      "B2 R2 F2 R2 F2 R2 D B2 F2 U'\n",
      "F2 R2 U2 B2 D L2 R2 U' L2 F2 L' R F2 L' R'\n",
      "F2 U' L2 R2 D' B2 L2 F2 U2 F2 R2\n",
      "B2 R2 D B2 F2 U' B2 L2 F2 U2 L R' F2 L' R'\n",
      "U B2 F2 D' F2 U F2 R2 F2 U L R' U2 L R\n",
      "D' B2 U L2 R2 D' F2 U F2 L2 B' F D2 B' F'\n",
      "B2 F2 D' L2 F2 L2 D2 B2 R2 F2 U'\n",
      "D B2 F2 U' R2 D B2 R2 F2 U L R D2 L R'\n",
      "B2 D F2 L2 B2 U2 L2 R2 D' L2 B' F' D2 B F\n",
      "L2 U L2 D' L2 R2 U R2 U L' R B2 L' R'\n",
      "B2 L2 F2 D' B2 F2 R2 F2 R2 U'\n",
      "L2 D' R2 U' B2 F2 D F2 L2 U' L' R' U2 L R'\n",
      "R2 D F2 L2 F2 L2 R2 U B2 L2 B' F' D2 B' F\n",
      "F2 U L2 F2 R2 U' B2 F2 D U L R' D2 L' R'\n",
      "B2 R2 U B2 F2 L2 F2 R2 U' L R' F2 L' R'\n",
      "U2 L2 U L2 F2 L2 U L2 F2 U2\n",
      "B2 D L2 F2 L2 D' B2 F2 U2 F2 R2\n",
      "U2 F2 L2 F2 U F2 L2 F2 U'\n",
      "B2 U' B2 R2 U B2 F2 D' F2 U' L R' U2 L' R'\n",
      "B2 R2 F2 U2 B2 F2 D' L2 R2 U' L' R' U2 L' R'\n",
      "F2 U2 F2 D L2 R2 U' R2 F2 U2 L' R U2 L' R'\n",
      "R2 D' L2 R2 U F2 D' L2 R2 U L R' U2 L' R'\n",
      "U2 B2 L2 U F2 R2 F2 U L2 U2\n",
      "R2 D' B2 F2 L2 B2 R2 D L2 B2 L' R' B2 L' R'\n",
      "L2 U2 B2 L2 F2 D' F2 R2 F2 D R2\n",
      "B2 R2 F2 D' F2 L2 F2 D L2 R2 U2\n",
      "R2 D L2 R2 U' B2 D B2 F2 U' L' R U2 L' R'\n",
      "R2 U2 R2 F2 L2 D' L2 R2 U' R2 F2\n",
      "U B2 F2 D' F2 U' B2 L2 B2 U' L' R D2 L' R'\n",
      "F2 L2 D' R2 F2 R2 D' B2 F2 R2\n",
      "F2 R2 F2 D2 L2 F2 D B2 F2 U' L R F2 L R'\n",
      "B2 R2 B2 L2 R2 D B2 R2 F2 U\n",
      "B2 U B2 R2 B2 U L2 R2 F2 L2\n",
      "U F2 U B2 L2 B2 U R2 U L R D2 L' R'\n",
      "B2 D B2 L2 D B2 F2 U' B2 U L' R U2 L' R'\n",
      "L2 F2 D R2 F2 R2 B2 F2 U L R' U2 L R'\n",
      "B2 D F2 U2 F2 R2 F2 U2 R2 D L' R D2 L' R'\n",
      "D2 L2 D B2 R2 B2 L2 R2 U R2 B F R2 B' F\n",
      "B2 U' F2 R2 B2 U L2 R2 D' U' L R' U2 L' R'\n",
      "B2 D F2 L2 F2 D2 L2 R2 U' F2 L2\n",
      "L2 U B2 R2 B2 R2 F2 R2 U' B2 L R' D2 L' R'\n",
      "R2 B2 L2 D R2 B2 R2 D B2 F2\n",
      "U2 F2 D' L2 R2 U F2 U2 L2 F2 L' R D2 L' R'\n",
      "U B2 D R2 F2 L2 U R2 U R2 B F U2 B' F\n",
      "B2 U' L2 B2 L2 U B2 F2 D2 F2 L2\n",
      "F2 U B2 D' L2 B2 R2 U' R2 U L R' D2 L' R'\n",
      "U2 L2 D B2 F2 U' B2 L2 U2 L R U2 L' R'\n",
      "D' B2 F2 U' F2 R2 F2 L2 F2 R2 D2\n",
      "R2 F2 D' U' B2 L2 B2 D' U' F2\n",
      "U' L2 U B2 F2 D' R2 B2 F2 U\n",
      "D B2 R2 F2 R2 F2 R2 U' B2 F2\n",
      "D2 F2 R2 B2 U B2 F2 D F2 R2 F2\n",
      "U' L2 R2 D B2 U' B2 R2 B2 U' L' R D2 L' R'\n",
      "L2 D' L2 R2 U B2 L2 B' F' U2 B' F'\n",
      "R2 U B2 F2 D2 B2 R2 F2 U' B2 L' R' U2 L' R'\n",
      "D' L2 R2 U F2 L2 B2 L R U2 L' R'\n",
      "U2 F2 R2 D B2 L2 B2 D R2 U2\n",
      "U' B2 D F2 R2 B2 U F2 L2 U\n",
      "F2 U' L2 D L2 B2 R2 U B2 U' L' R U2 L' R'\n",
      "U' B2 R2 B2 L2 F2 R2 D2 L2 R2 U'\n",
      "L2 B2 D B2 L2 B2 D2 B2 F2 U' F2\n",
      "B2 D B2 F2 U2 R2 B2 L2 D' L R' U2 L' R'\n",
      "B2 R2 U L2 R2 D B2 R2 F2 U2 R2\n",
      "F2 R2 U2 F2 L2 U L2 R2 D' F2 L R' F2 L' R'\n",
      "D' R2 U' F2 R2 F2 U' B2 U' L' R' U2 L' R'\n",
      "F2 L2 D' B2 F2 U F2 L2 F2 U2 L R' F2 L' R'\n",
      "L2 R2 U L2 F2 R2 D2 R2 F2 R2 D\n",
      "B2 U2 B2 F2 D' F2 R2 F2 D F2 R2\n",
      "U R2 U R2 F2 R2 U R2 F2 U'\n",
      "U2 F2 L2 D' L2 R2 U R2 F2 U2\n",
      "B2 U' F2 L2 F2 U B2 F2 D2 F2 R2\n",
      "B2 L2 U B2 F2 D' F2 R2 F2 R2\n",
      "B2 L2 D B2 L2 B2 D L2 R2 U2 L R' F2 L' R'\n",
      "F2 U' L2 F2 R2 B2 F2 U' F2 R2\n",
      "F2 D' B2 F2 U L2 F2 L2 B2 R2\n",
      "B2 F2 D2 L2 B2 L2 D' B2 F2 U' L R U2 L' R'\n",
      "U2 B2 D' F2 R2 F2 L2 R2 U' R2 B' F' D2 B F U2\n",
      "U2 L2 B2 L2 U' R2 U' B2 F2 D B' F' U2 B' F U\n",
      "L2 B2 F2 U' B2 F2 D F2 L' R U2 L' R'\n",
      "L2 U F2 D F2 R2 B2 U R2 U B F' D2 B' F'\n",
      "U2 F2 D R2 F2 R2 D F2 R2 U2\n",
      "U2 L2 U B2 F2 D' L2 U2 B2 L R' D2 L R'\n",
      "U' B2 F2 D R2 D' L2 R2 U B2 L R' D2 L' R'\n",
      "D2 L2 F2 R2 U B2 F2 D F2 L' R' U2 L R'\n",
      "B2 D2 L2 B2 U' B2 F2 D R2 U2 L' R U2 L' R'\n",
      "R2 U L2 R2 D' B2 D B2 F2 U' L' R U2 L' R'\n",
      "B2 U' F2 U2 R2 F2 R2 U2 R2 U' L' R D2 L' R'\n",
      "B2 U' L2 R2 D B2 L2 B2 F2 D2 L' R F2 L' R'\n",
      "B2 R2 D2 F2 R2 F2 D B2 F2 U L2\n",
      "U B2 L2 D' B2 L2 B2 D' L2 U'\n",
      "F2 U' F2 D' B2 R2 B2 D' L2 U' L R' D2 L R\n",
      "R2 F2 R2 U2 B2 R2 U L2 R2 D' B F R2 B F'\n",
      "U' F2 D' B2 L2 B2 D' F2 R2 U\n",
      "B2 U' L2 D' F2 R2 F2 D' B2 U' L R' U2 L R\n",
      "F2 D B2 F2 U R2 B2 R2 U2 L R' U2 L' R'\n",
      "B2 F2 L2 D' B2 F2 U R2\n",
      "L2 F2 U B2 F2 D2 L2 F2 R2 U' F2\n",
      "R2 U B2 D B2 R2 F2 U R2 U L' R' U2 L R'\n",
      "D' B2 L2 B2 D B2 R2 F2 L2 R2 D2\n",
      "F2 U L2 D2 F2 R2 B2 U2 F2 U L R' D2 L' R'\n",
      "L2 D R2 B2 R2 D' B2 F2 U2 R2 B2\n",
      "R2 U' F2 D L2 B2 L2 D R2 U' L' R' U2 L R'\n",
      "L2 R2 D B2 U' L2 R2 D F2 U'\n",
      "R2 U2 F2 L2 R2 U' B2 F2 D F2 L' R F2 L' R'\n",
      "F2 R2 F2 U2 B2 R2 F2 D L2 R2 U\n",
      "L2 R2 U F2 L2 B2 D2 L2 R2 U' L' R' U2 L' R'\n",
      "U B2 R2 B2 D' U B2 F2 U R2 B F U2 B F'\n",
      "R2 D F2 R2 U' B2 F2 D F2 U L' R' U2 L' R\n",
      "U2 B2 R2 B2 U' L2 D' B2 F2 U B F U2 B F' U\n",
      "F2 R2 B2 L2 F2 D' B2 F2 U' L R' F2 L' R'\n",
      "L2 F2 D L2 B2 L2 D F2 R2 F2 L' R U2 L' R'\n",
      "D B2 U' B2 F2 D F2 L2 R2 U L R' F2 L R'\n",
      "B2 L2 U B2 F2 D F2 R2 F2 D2 R2\n",
      "U2 B2 R2 D' L2 F2 L2 D' R2 U2\n",
      "F2 L2 U2 B2 D B2 F2 U' L2 F2 L' R B2 L' R'\n",
      "D2 B2 L2 F2 U' F2 R2 F2 U L2 R2\n",
      "F2 D' F2 D2 B2 L2 F2 U2 L2 U' L R' U2 L' R'\n",
      "U2 B2 L2 U' B2 F2 D R2 F2 U2\n",
      "L2 U' B2 F2 D' B2 R2 F2 R2 F2 L' R' B2 L' R'\n",
      "D2 F2 R2 B2 L2 R2 D' L2 R2 U' L' R' U2 L' R'\n",
      "B2 F2 L2 U2 R2 U B2 F2 D' L' R' B2 L' R'\n",
      "U F2 L2 D L2 F2 L2 D L2 U'\n",
      "U' B2 L2 B2 L2 R2 D2 L2 F2 R2 U'\n",
      "F2 D B2 L2 B2 L2 R2 U B2 L2\n",
      "L2 B2 U R2 B2 R2 U B2 D R2 B' F U2 B F' U'\n",
      "B2 U B2 R2 B2 U' L2 R2 D2 F2 L2\n",
      "F2 D2 R2 D L2 R2 U' F2 R2 U2 B F D2 B F'\n",
      "F2 D B2 F2 R2 F2 R2 U B2 L2\n",
      "F2 U' L2 F2 L2 U F2 L2 F2 U2 F2\n",
      "U2 L2 B2 D B2 F2 U' L2 U2 B2 L' R' D2 L R'\n",
      "B2 L2 D2 F2 L2 U L2 R2 D' F2 L' R F2 L' R'\n",
      "U2 R2 F2 R2 U2 R2 U B2 F2 D' L R' U2 L' R'\n",
      "B2 L2 U2 F2 L2 F2 D B2 F2 U' L R' B2 L' R'\n",
      "R2 D' B2 L2 B2 D' R2 F2\n",
      "L2 U2 L2 B2 L2 U' B2 F2 D' R2 F2\n",
      "L2 R2 U B2 F2 L2 R2 U' L2 F2 L R' U2 L' R'\n",
      "F2 D2 R2 F2 R2 D L2 R2 U L R' U2 L R\n",
      "F2 D' R2 D' L2 B2 R2 U' B2 U' L' R D2 L' R'\n",
      "F2 U2 R2 U' L2 R2 D L2 U2 F2\n",
      "R2 F2 D' B2 F2 U' L2 B2 R2 D2 F2\n",
      "B2 D L2 B2 L2 D B2 L2\n",
      "D2 R2 F2 L2 U' L2 R2 D' F2 R2 F2\n",
      "R2 F2 U' F2 L2 R2 F2 U L' R U2 L' R'\n",
      "B2 L2 D F2 R2 B2 U' B2 F2 L' R F2 L' R'\n",
      "B2 U F2 D2 L2 F2 R2 U2 R2 U L R' U2 L' R'\n",
      "L2 B2 D2 B2 F2 U L2 F2 L2 U' F2\n",
      "B2 R2 U2 L2 D F2 R2 F2 D F2 L' R F2 L' R'\n",
      "L2 D2 R2 B2 U' B2 F2 D F2 L' R' F2 L' R'\n",
      "B2 D R2 B2 R2 B2 F2 U L' R U2 L R\n",
      "L2 U F2 L2 F2 L2 R2 D' L2 B2 L' R' B2 L' R'\n",
      "F2 D' L2 R2 U R2 B2 L2 F2 R2\n",
      "U L2 B2 U F2 L2 F2 U B2 D L R' B2 L R'\n",
      "U R2 U B2 F2 D' B2 R2 U L R D2 L' R'\n",
      "U F2 R2 U L2 R2 D' F2 U F2 L R U2 L R'\n",
      "L2 F2 D F2 R2 F2 D B2 R2 F2 L R' U2 L' R'\n",
      "U R2 B2 D' B2 R2 B2 D' B2 U'\n",
      "D' F2 U F2 R2 F2 U L2 U' L' R' D2 L' R'\n",
      "R2 B2 U B2 R2 F2 D2 L2 R2 U' L R' U2 L R'\n",
      "B2 L2 B2 D' B2 F2 U L' R' U2 L' R'\n",
      "L2 B2 D2 F2 R2 F2 D L2 R2 U L R' D2 L R'\n",
      "U2 L2 R2 D' L2 R2 U'\n",
      "B2 D2 L2 R2 U L2 R2 D L2 F2 L' R' U2 L' R'\n",
      "B2 R2 D2 R2 F2 R2 D' B2 F2 U' L2\n",
      "L2 B2 L2 U2 F2 R2 F2 U2\n",
      "B2 F2 D F2 R2 F2 L2 R2 U F2 L' R' U2 L R'\n",
      "D B2 F2 U R2 F2 L2 D2 R2 F2 R2\n",
      "D2 L2 B2 R2 U2 L2 U' B2 F2 D L R' U2 L' R'\n",
      "F2 R2 U B2 F2 D2 L2 B2 R2 U' R2\n",
      "U F2 R2 B2 D' L2 F2 R2 U2 B2 L R' D2 L R'\n",
      "B2 R2 B2 U' L2 R2 D R2 F2 D2 L' R F2 L' R'\n",
      "L2 B2 L2 F2 D' F2 R2 F2 D' R2\n",
      "F2 U F2 L2 B2 D2 L2 R2 U' L2 B F U2 B F\n",
      "D2 L2 B2 L2 D' B2 F2 L2 B2 R2 D\n",
      "B2 F2 U R2 B2 R2 U B2 R2 F2\n",
      "D2 R2 F2 R2 D' U' F2 R2 F2 D U'\n",
      "L2 D' B2 U' B2 F2 D F2 D' L' R F2 L' R'\n",
      "U2 F2 D' R2 B2 R2 D' F2 L2 U2\n",
      "D F2 R2 F2 D U R2 F2 R2 U\n",
      "R2 D F2 U2 R2 F2 R2 U2 R2 D L' R' U2 L R'\n",
      "D' L2 R2 U R2 D L2 R2 U L R' F2 L' R'\n",
      "F2 R2 U B2 F2 D' B2 R2 F2 U2 L R' F2 L' R'\n",
      "F2 R2 U2 F2 R2 F2 D L2 R2 U' L' R F2 L' R'\n",
      "F2 U' B2 D' L2 F2 R2 U' L2 U' L' R U2 L' R'\n",
      "B2 R2 U2 L2 F2 L2 U L2 R2 D L2\n"
     ]
    }
   ],
   "source": [
    "for i in range(500):\n",
    "    one_nons = generate_nonsense_solution(level_one_pool)\n",
    "    simplified_solution = simplify_solution(one_nons + '.', priority=level_one_pool)\n",
    "    one_cube = scramble_cube_with_solution_string(simplified_solution)\n",
    "    k_solution = get_solve_sequence(one_cube, reverse=True)\n",
    "    print(k_solution)"
   ]
  },
  {
   "cell_type": "code",
   "execution_count": null,
   "metadata": {},
   "outputs": [],
   "source": []
  },
  {
   "cell_type": "code",
   "execution_count": null,
   "metadata": {},
   "outputs": [],
   "source": []
  }
 ],
 "metadata": {
  "kernelspec": {
   "display_name": "Python 3 (ipykernel)",
   "language": "python",
   "name": "python3"
  },
  "language_info": {
   "codemirror_mode": {
    "name": "ipython",
    "version": 3
   },
   "file_extension": ".py",
   "mimetype": "text/x-python",
   "name": "python",
   "nbconvert_exporter": "python",
   "pygments_lexer": "ipython3",
   "version": "3.9.13"
  }
 },
 "nbformat": 4,
 "nbformat_minor": 2
}
