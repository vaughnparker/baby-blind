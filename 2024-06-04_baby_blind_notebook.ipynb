{
 "cells": [
  {
   "cell_type": "code",
   "execution_count": 51,
   "metadata": {
    "ExecuteTime": {
     "end_time": "2024-06-04T09:01:15.438532Z",
     "start_time": "2024-06-04T09:01:15.431887Z"
    }
   },
   "outputs": [],
   "source": [
    "import copy\n",
    "import random\n",
    "#import json\n",
    "import pickle\n",
    "\n",
    "import matplotlib.pyplot as plt\n",
    "import seaborn as sns\n",
    "\n",
    "import pandas as pd"
   ]
  },
  {
   "cell_type": "code",
   "execution_count": 2,
   "metadata": {
    "ExecuteTime": {
     "end_time": "2024-06-04T03:07:48.927724Z",
     "start_time": "2024-06-04T03:07:48.910768Z"
    }
   },
   "outputs": [],
   "source": [
    "SOLVED_STATE = {\n",
    "    'A' : 'A',\n",
    "    'B' : 'B',\n",
    "    'C' : 'C',\n",
    "    'D' : 'D',\n",
    "\n",
    "    'E' : 'E',\n",
    "    'F' : 'F',\n",
    "    'G' : 'G',\n",
    "    'H' : 'H',\n",
    "\n",
    "    'I' : 'I',\n",
    "    'J' : 'J',\n",
    "    'K' : 'K',\n",
    "    'L' : 'L',\n",
    "\n",
    "    'M' : 'M',\n",
    "    'N' : 'N',\n",
    "    'O' : 'O',\n",
    "    'P' : 'P',\n",
    "\n",
    "    'Q' : 'Q',\n",
    "    'R' : 'R',\n",
    "    'S' : 'S',\n",
    "    'T' : 'T',\n",
    "\n",
    "    'U' : 'U',\n",
    "    'V' : 'V',\n",
    "    'W' : 'W',\n",
    "    'X' : 'X'\n",
    "}\n",
    "\n",
    "SOLVED_CUBE = {\n",
    "    'edges' : copy.deepcopy(SOLVED_STATE),\n",
    "    'corners' : copy.deepcopy(SOLVED_STATE)\n",
    "}"
   ]
  },
  {
   "cell_type": "code",
   "execution_count": 3,
   "metadata": {
    "ExecuteTime": {
     "end_time": "2024-06-04T03:07:49.673727Z",
     "start_time": "2024-06-04T03:07:49.664751Z"
    }
   },
   "outputs": [],
   "source": [
    "EDGES_DICT = {\n",
    "    'A' : 'AQ',\n",
    "    #'B' : 'B',\n",
    "    'C' : 'CI',\n",
    "    'D' : 'DE',\n",
    "    'E' : 'ED',\n",
    "    'F' : 'FL',\n",
    "    'G' : 'GX',\n",
    "    'H' : 'HR',\n",
    "    'I' : 'IC',\n",
    "    'J' : 'JP',\n",
    "    'K' : 'KU',\n",
    "    'L' : 'LF',\n",
    "    #'M' : 'M',\n",
    "    'N' : 'NT',\n",
    "    'O' : 'OV',\n",
    "    'P' : 'PJ',\n",
    "    'Q' : 'QA',\n",
    "    'R' : 'RH',\n",
    "    'S' : 'SW',\n",
    "    'T' : 'TN',\n",
    "    'U' : 'UK',\n",
    "    'V' : 'VO',\n",
    "    'W' : 'WS',\n",
    "    'X' : 'XG',\n",
    "}\n",
    "\n",
    "CORNERS_DICT = { # in clockwise order\n",
    "    #'A' : 'A',\n",
    "    'B' : 'BQN',\n",
    "    'C' : 'CMJ',\n",
    "    'D' : 'DIF',\n",
    "    #'E' : 'E',\n",
    "    'F' : 'FDI',\n",
    "    'G' : 'GLU',\n",
    "    'H' : 'HXS',\n",
    "    'I' : 'IFD',\n",
    "    'J' : 'JCM',\n",
    "    'K' : 'KPV',\n",
    "    'L' : 'LUG',\n",
    "    'M' : 'MJC',\n",
    "    'N' : 'NBQ',\n",
    "    'O' : 'OTW',\n",
    "    'P' : 'PVK',\n",
    "    'Q' : 'QNB',\n",
    "    #'R' : 'R',\n",
    "    'S' : 'SHX',\n",
    "    'T' : 'TWO',\n",
    "    'U' : 'UGL',\n",
    "    'V' : 'VKP',\n",
    "    'W' : 'WOT',\n",
    "    'X' : 'XSH',\n",
    "}"
   ]
  },
  {
   "cell_type": "code",
   "execution_count": 4,
   "metadata": {
    "ExecuteTime": {
     "end_time": "2024-06-04T03:07:52.848235Z",
     "start_time": "2024-06-04T03:07:52.822304Z"
    }
   },
   "outputs": [],
   "source": [
    "# operations\n",
    "def cycle_four_edges(cube, new_cube, to_cycle):\n",
    "    new_cube['edges'][to_cycle[0]] = cube['edges'][to_cycle[3]]\n",
    "    new_cube['edges'][to_cycle[1]] = cube['edges'][to_cycle[0]]\n",
    "    new_cube['edges'][to_cycle[2]] = cube['edges'][to_cycle[1]]\n",
    "    new_cube['edges'][to_cycle[3]] = cube['edges'][to_cycle[2]]\n",
    "    \n",
    "    new_cube['edges'][to_cycle[5]] = cube['edges'][to_cycle[8]]\n",
    "    new_cube['edges'][to_cycle[6]] = cube['edges'][to_cycle[5]]\n",
    "    new_cube['edges'][to_cycle[7]] = cube['edges'][to_cycle[6]]\n",
    "    new_cube['edges'][to_cycle[8]] = cube['edges'][to_cycle[7]]\n",
    "\n",
    "    return\n",
    "\n",
    "def cycle_four_corners(cube, new_cube, to_cycle):\n",
    "    new_cube['corners'][to_cycle[0]] = cube['corners'][to_cycle[3]]\n",
    "    new_cube['corners'][to_cycle[1]] = cube['corners'][to_cycle[0]]\n",
    "    new_cube['corners'][to_cycle[2]] = cube['corners'][to_cycle[1]]\n",
    "    new_cube['corners'][to_cycle[3]] = cube['corners'][to_cycle[2]]\n",
    "    \n",
    "    new_cube['corners'][to_cycle[5]] = cube['corners'][to_cycle[8]]\n",
    "    new_cube['corners'][to_cycle[6]] = cube['corners'][to_cycle[5]]\n",
    "    new_cube['corners'][to_cycle[7]] = cube['corners'][to_cycle[6]]\n",
    "    new_cube['corners'][to_cycle[8]] = cube['corners'][to_cycle[7]]\n",
    "\n",
    "    new_cube['corners'][to_cycle[10]] = cube['corners'][to_cycle[13]]\n",
    "    new_cube['corners'][to_cycle[11]] = cube['corners'][to_cycle[10]]\n",
    "    new_cube['corners'][to_cycle[12]] = cube['corners'][to_cycle[11]]\n",
    "    new_cube['corners'][to_cycle[13]] = cube['corners'][to_cycle[12]]\n",
    "\n",
    "    return\n",
    "\n",
    "def R_move(cube):\n",
    "    new_cube = copy.deepcopy(cube)\n",
    "    cycle_four_edges(cube, new_cube, 'MNOP BTVJ')\n",
    "    cycle_four_corners(cube, new_cube, 'MNOP BTVJ CQWK')\n",
    "    return new_cube\n",
    "\n",
    "def L_move(cube):\n",
    "    new_cube = copy.deepcopy(cube)\n",
    "    cycle_four_edges(cube, new_cube, 'EFGH DLXR')\n",
    "    cycle_four_corners(cube, new_cube, 'EFGH DLXR AIUS')\n",
    "    return new_cube\n",
    "\n",
    "def U_move(cube):\n",
    "    new_cube = copy.deepcopy(cube)\n",
    "    cycle_four_edges(cube, new_cube, 'ABCD QMIE')\n",
    "    cycle_four_corners(cube, new_cube, 'ABCD QMIE RNJF')\n",
    "    return new_cube\n",
    "\n",
    "def D_move(cube):\n",
    "    new_cube = copy.deepcopy(cube)\n",
    "    cycle_four_edges(cube, new_cube, 'UVWX KOSG')\n",
    "    cycle_four_corners(cube, new_cube, 'UVWX KOSG LPTH')\n",
    "    return new_cube\n",
    "\n",
    "def F_move(cube):\n",
    "    new_cube = copy.deepcopy(cube)\n",
    "    cycle_four_edges(cube, new_cube, 'IJKL CPUF')\n",
    "    cycle_four_corners(cube, new_cube, 'IJKL CPUF DMVG')\n",
    "    return new_cube\n",
    "\n",
    "def B_move(cube):\n",
    "    new_cube = copy.deepcopy(cube)\n",
    "    cycle_four_edges(cube, new_cube, 'QRST AHWN')\n",
    "    cycle_four_corners(cube, new_cube, 'QRST AHWN BEXO')\n",
    "    return new_cube\n",
    "\n",
    "MOVES = {\n",
    "    'U' : U_move,\n",
    "    'D' : D_move,\n",
    "    'R' : R_move,\n",
    "    'L' : L_move,\n",
    "    'F' : F_move,\n",
    "    'B' : B_move,\n",
    "\n",
    "    'U2' : lambda x : U_move(U_move(x)),\n",
    "    'D2' : lambda x : D_move(D_move(x)),\n",
    "    'R2' : lambda x : R_move(R_move(x)),\n",
    "    'L2' : lambda x : L_move(L_move(x)),\n",
    "    'F2' : lambda x : F_move(F_move(x)),\n",
    "    'B2' : lambda x : B_move(B_move(x)),\n",
    "\n",
    "    \"U'\" : lambda x : U_move(U_move(U_move(x))),\n",
    "    \"D'\" : lambda x : D_move(D_move(D_move(x))),\n",
    "    \"R'\" : lambda x : R_move(R_move(R_move(x))),\n",
    "    \"L'\" : lambda x : L_move(L_move(L_move(x))),\n",
    "    \"F'\" : lambda x : F_move(F_move(F_move(x))),\n",
    "    \"B'\" : lambda x : B_move(B_move(B_move(x))),\n",
    "}\n",
    "\n",
    "ALL_MOVES = list(MOVES.keys())"
   ]
  },
  {
   "cell_type": "code",
   "execution_count": 5,
   "metadata": {
    "ExecuteTime": {
     "end_time": "2024-06-04T03:07:53.884978Z",
     "start_time": "2024-06-04T03:07:53.867026Z"
    }
   },
   "outputs": [],
   "source": [
    "def make_scramble_sequence(scramble_len=50):\n",
    "    scramble = ''\n",
    "\n",
    "    most_recent_move = random.choice(ALL_MOVES)\n",
    "    new_move = random.choice(ALL_MOVES)\n",
    "    \n",
    "    for i in range(scramble_len):\n",
    "        scramble += most_recent_move + ' '\n",
    "        while new_move[0] == most_recent_move[0]:\n",
    "            new_move = random.choice(ALL_MOVES)\n",
    "            \n",
    "        most_recent_move = new_move\n",
    "        \n",
    "    \n",
    "#     for i in range(scramble_len):\n",
    "#         one_random_move = random.choice(ALL_MOVES)\n",
    "#         scramble += one_random_move + ' '\n",
    "\n",
    "    return scramble"
   ]
  },
  {
   "cell_type": "code",
   "execution_count": 6,
   "metadata": {
    "ExecuteTime": {
     "end_time": "2024-06-04T03:07:54.518283Z",
     "start_time": "2024-06-04T03:07:54.501329Z"
    }
   },
   "outputs": [],
   "source": [
    "def swap_two_edges(cube, edge_1, edge_2):\n",
    "    '''\n",
    "    For example: swap_two_edges(messy_cube, 'AQ', 'BM')\n",
    "    '''\n",
    "    # swaps the piece specified by edge_1 with the piece specified by edge_2.\n",
    "    # Specifically, we are swapping\n",
    "    # cube['edges'][edge_1[0]] with cube['edges'][edge_2[0]], and\n",
    "    # cube['edges'][edge_1[1]] with cube['edges'][edge_2[1]]\n",
    "\n",
    "    temp_0 = cube['edges'][edge_1[0]]\n",
    "    temp_1 = cube['edges'][edge_1[1]]\n",
    "\n",
    "    cube['edges'][edge_1[0]] = cube['edges'][edge_2[0]]\n",
    "    cube['edges'][edge_1[1]] = cube['edges'][edge_2[1]]\n",
    "\n",
    "    cube['edges'][edge_2[0]] = temp_0\n",
    "    cube['edges'][edge_2[1]] = temp_1\n",
    "\n",
    "    # in theory, we could maybe do\n",
    "    # temp = cube['edges'][edge_1]\n",
    "    # cube['edges'][edge_1] = cube['edges'][edge_2]\n",
    "    # cube['edges'][edge_2] = temp\n",
    "    # but that is hard to read/understand. The operation of\n",
    "    # \"set the (dict) values associated with this list of keys\n",
    "    # to this list of values\" is not very intuitive\n",
    "\n",
    "\n",
    "def swap_two_corners(cube, corner_1, corner_2):\n",
    "    '''\n",
    "    For example: swap_two_corners(messy_cube, 'DIF', 'CMJ')\n",
    "    Ordering can be clockwise or counterclockwise, as long as\n",
    "    it is the same between the two corners.\n",
    "    '''\n",
    "\n",
    "    temp_0 = cube['corners'][corner_1[0]]\n",
    "    temp_1 = cube['corners'][corner_1[1]]\n",
    "    temp_2 = cube['corners'][corner_1[2]]\n",
    "\n",
    "    cube['corners'][corner_1[0]] = cube['corners'][corner_2[0]]\n",
    "    cube['corners'][corner_1[1]] = cube['corners'][corner_2[1]]\n",
    "    cube['corners'][corner_1[2]] = cube['corners'][corner_2[2]]\n",
    "\n",
    "    cube['corners'][corner_2[0]] = temp_0\n",
    "    cube['corners'][corner_2[1]] = temp_1\n",
    "    cube['corners'][corner_2[2]] = temp_2\n",
    "\n",
    "\n",
    "def fix_edge_in_buffer(cube):\n",
    "    buffer = cube['edges']['B']\n",
    "    piece_in_buffer = EDGES_DICT[buffer]\n",
    "\n",
    "    new_cube = swap_two_edges(cube, 'BM', piece_in_buffer)\n",
    "\n",
    "\n",
    "def fix_corner_in_buffer(cube):\n",
    "    buffer = cube['corners']['E']\n",
    "    piece_in_buffer = CORNERS_DICT[buffer]\n",
    "\n",
    "    new_cube = swap_two_corners(cube, 'ERA', piece_in_buffer)"
   ]
  },
  {
   "cell_type": "code",
   "execution_count": 95,
   "metadata": {
    "ExecuteTime": {
     "end_time": "2024-06-04T09:21:42.809022Z",
     "start_time": "2024-06-04T09:21:42.800443Z"
    }
   },
   "outputs": [],
   "source": [
    "def solve_cube(scrambled_cube, verbose=False):\n",
    "    new_cube = copy.deepcopy(scrambled_cube)\n",
    "    solve_string = ''\n",
    "    # solve edges\n",
    "    while new_cube['edges'] != SOLVED_STATE:\n",
    "        buffer = new_cube['edges']['B']\n",
    "        if buffer not in 'BM':\n",
    "            # let's say buffer == 'A'\n",
    "            #swap(new_cube, 'BM', 'AQ')\n",
    "\n",
    "            # if the buffer is NOT the white/red piece, then the buffer is\n",
    "            # holding a piece that belongs somewhere else. Let's put it where\n",
    "            # it belongs\n",
    "            fix_edge_in_buffer(new_cube)\n",
    "            swap_two_corners(new_cube, 'CMJ', 'BQN')\n",
    "            solve_string += buffer\n",
    "        else:\n",
    "            # if buffer == 'B' or buffer == 'M' start new cycle\n",
    "            # specifically, find an unsolved edge and swap with it\n",
    "            for one_edge in new_cube['edges'].keys():\n",
    "                if one_edge != new_cube['edges'][one_edge] and one_edge not in 'BM':\n",
    "                    # then the one_edge is unsolved\n",
    "                    unsolved_edge_piece = EDGES_DICT[one_edge]\n",
    "                    swap_two_edges(new_cube, 'BM', unsolved_edge_piece)\n",
    "                    swap_two_corners(new_cube, 'CMJ', 'BQN')\n",
    "                    if verbose:\n",
    "                        solve_string += '/'\n",
    "                    solve_string += one_edge\n",
    "                    break\n",
    "\n",
    "    edge_count = len(solve_string.replace('/', ''))\n",
    "    if edge_count % 2 == 1:\n",
    "        # parity\n",
    "        solve_string += '|'\n",
    "        \n",
    "        # Ra perm\n",
    "        swap_two_edges(new_cube, 'AQ', 'DE')\n",
    "        swap_two_corners(new_cube, 'CMJ', 'BQN')\n",
    "    else:\n",
    "        # no parity\n",
    "        solve_string += '.'\n",
    "        \n",
    "    # solve corners\n",
    "    while new_cube['corners'] != SOLVED_STATE:\n",
    "        buffer = new_cube['corners']['E']\n",
    "        if buffer not in 'AER':\n",
    "            fix_corner_in_buffer(new_cube)\n",
    "            swap_two_edges(new_cube, 'AQ', 'DE')\n",
    "            solve_string += buffer\n",
    "        else:\n",
    "            # new cycle\n",
    "            for one_corner in new_cube['corners'].keys():\n",
    "                if one_corner != new_cube['corners'][one_corner] and one_corner not in 'AER':\n",
    "                    unsolved_corner_piece = CORNERS_DICT[one_corner]\n",
    "                    swap_two_corners(new_cube, 'ERA', unsolved_corner_piece)\n",
    "                    swap_two_edges(new_cube, 'AQ', 'DE')\n",
    "                    if verbose:\n",
    "                        solve_string += '/'\n",
    "                    solve_string += one_corner\n",
    "                    break\n",
    "\n",
    "    return solve_string"
   ]
  },
  {
   "cell_type": "code",
   "execution_count": 96,
   "metadata": {
    "ExecuteTime": {
     "end_time": "2024-06-04T09:21:43.358677Z",
     "start_time": "2024-06-04T09:21:43.349117Z"
    }
   },
   "outputs": [],
   "source": [
    "def execute_algorithm(cube, algorithm_string):\n",
    "    new_cube = copy.deepcopy(cube)\n",
    "\n",
    "    algorithm_list = algorithm_string.split()\n",
    "    #print(algorithm_list)\n",
    "    for move in algorithm_list:\n",
    "        method_for_move = MOVES[move]\n",
    "        new_cube = method_for_move(new_cube)\n",
    "\n",
    "    return new_cube"
   ]
  },
  {
   "cell_type": "code",
   "execution_count": 97,
   "metadata": {
    "ExecuteTime": {
     "end_time": "2024-06-04T09:21:43.631308Z",
     "start_time": "2024-06-04T09:21:43.617912Z"
    }
   },
   "outputs": [
    {
     "data": {
      "text/plain": [
       "\"L' B U D F2 D' U' L R' D2 U2 L F' R2 B' F' D2 B' D R B R U R U' \""
      ]
     },
     "execution_count": 97,
     "metadata": {},
     "output_type": "execute_result"
    }
   ],
   "source": [
    "one_scramble_sequence = make_scramble_sequence(scramble_len=25)\n",
    "one_scramble_sequence"
   ]
  },
  {
   "cell_type": "code",
   "execution_count": 98,
   "metadata": {
    "ExecuteTime": {
     "end_time": "2024-06-04T09:21:43.991643Z",
     "start_time": "2024-06-04T09:21:43.978101Z"
    },
    "scrolled": true
   },
   "outputs": [
    {
     "data": {
      "text/plain": [
       "{'edges': {'A': 'X',\n",
       "  'B': 'E',\n",
       "  'C': 'O',\n",
       "  'D': 'B',\n",
       "  'E': 'M',\n",
       "  'F': 'H',\n",
       "  'G': 'I',\n",
       "  'H': 'U',\n",
       "  'I': 'V',\n",
       "  'J': 'F',\n",
       "  'K': 'A',\n",
       "  'L': 'R',\n",
       "  'M': 'D',\n",
       "  'N': 'J',\n",
       "  'O': 'W',\n",
       "  'P': 'L',\n",
       "  'Q': 'G',\n",
       "  'R': 'K',\n",
       "  'S': 'T',\n",
       "  'T': 'P',\n",
       "  'U': 'Q',\n",
       "  'V': 'S',\n",
       "  'W': 'N',\n",
       "  'X': 'C'},\n",
       " 'corners': {'A': 'A',\n",
       "  'B': 'X',\n",
       "  'C': 'J',\n",
       "  'D': 'G',\n",
       "  'E': 'E',\n",
       "  'F': 'U',\n",
       "  'G': 'O',\n",
       "  'H': 'I',\n",
       "  'I': 'L',\n",
       "  'J': 'M',\n",
       "  'K': 'V',\n",
       "  'L': 'T',\n",
       "  'M': 'C',\n",
       "  'N': 'H',\n",
       "  'O': 'B',\n",
       "  'P': 'K',\n",
       "  'Q': 'S',\n",
       "  'R': 'R',\n",
       "  'S': 'D',\n",
       "  'T': 'Q',\n",
       "  'U': 'W',\n",
       "  'V': 'P',\n",
       "  'W': 'N',\n",
       "  'X': 'F'}}"
      ]
     },
     "execution_count": 98,
     "metadata": {},
     "output_type": "execute_result"
    }
   ],
   "source": [
    "one_scrambled_cube = execute_algorithm(SOLVED_CUBE, one_scramble_sequence)\n",
    "one_scrambled_cube"
   ]
  },
  {
   "cell_type": "code",
   "execution_count": 99,
   "metadata": {
    "ExecuteTime": {
     "end_time": "2024-06-04T09:21:44.284904Z",
     "start_time": "2024-06-04T09:21:44.271073Z"
    }
   },
   "outputs": [
    {
     "name": "stdout",
     "output_type": "stream",
     "text": [
      "EAXCOWNJFHUQ.BXFUWNCJKV\n"
     ]
    }
   ],
   "source": [
    "one_solution = solve_cube(one_scrambled_cube)\n",
    "print(one_solution)"
   ]
  },
  {
   "cell_type": "code",
   "execution_count": null,
   "metadata": {},
   "outputs": [],
   "source": []
  },
  {
   "cell_type": "code",
   "execution_count": null,
   "metadata": {},
   "outputs": [],
   "source": []
  },
  {
   "cell_type": "code",
   "execution_count": null,
   "metadata": {},
   "outputs": [],
   "source": []
  },
  {
   "cell_type": "code",
   "execution_count": 100,
   "metadata": {
    "ExecuteTime": {
     "end_time": "2024-06-04T09:21:52.807282Z",
     "start_time": "2024-06-04T09:21:52.801872Z"
    }
   },
   "outputs": [],
   "source": [
    "def run_simulation(num_sims=1000, scramble_len=25):\n",
    "    matrix = []\n",
    "\n",
    "    print(f'Starting simulation... with num_sims={num_sims}')\n",
    "    for i in range(num_sims):\n",
    "        scramble = make_scramble_sequence(scramble_len=scramble_len)\n",
    "        messy_cube = execute_algorithm(SOLVED_CUBE, scramble)\n",
    "        sol = solve_cube(messy_cube)\n",
    "        sol_length = len(sol) - 1\n",
    "\n",
    "        matrix.append([sol_length, scramble, sol])\n",
    "\n",
    "    print('Ending simulation!')\n",
    "    return pd.DataFrame(matrix, columns=['Length', 'Scramble', 'Solution'])"
   ]
  },
  {
   "cell_type": "code",
   "execution_count": 111,
   "metadata": {
    "ExecuteTime": {
     "end_time": "2024-06-04T09:29:50.138393Z",
     "start_time": "2024-06-04T09:27:55.651585Z"
    }
   },
   "outputs": [
    {
     "name": "stdout",
     "output_type": "stream",
     "text": [
      "Starting simulation... with num_sims=50000\n",
      "Ending simulation!\n"
     ]
    }
   ],
   "source": [
    "testo_matrix = run_simulation(num_sims=50000)\n",
    "# 10000 sims = 22.5 seconds"
   ]
  },
  {
   "cell_type": "code",
   "execution_count": 102,
   "metadata": {
    "ExecuteTime": {
     "end_time": "2024-06-04T09:22:16.036339Z",
     "start_time": "2024-06-04T09:22:16.030644Z"
    }
   },
   "outputs": [
    {
     "data": {
      "text/plain": [
       "Length\n",
       "20    4639\n",
       "22    2743\n",
       "18    1885\n",
       "24     489\n",
       "16     206\n",
       "26      27\n",
       "14      11\n",
       "dtype: int64"
      ]
     },
     "execution_count": 102,
     "metadata": {},
     "output_type": "execute_result"
    }
   ],
   "source": [
    "testo_matrix.value_counts('Length')"
   ]
  },
  {
   "cell_type": "code",
   "execution_count": 105,
   "metadata": {
    "ExecuteTime": {
     "end_time": "2024-06-04T09:22:43.246827Z",
     "start_time": "2024-06-04T09:22:43.235616Z"
    }
   },
   "outputs": [
    {
     "data": {
      "text/html": [
       "<div>\n",
       "<style scoped>\n",
       "    .dataframe tbody tr th:only-of-type {\n",
       "        vertical-align: middle;\n",
       "    }\n",
       "\n",
       "    .dataframe tbody tr th {\n",
       "        vertical-align: top;\n",
       "    }\n",
       "\n",
       "    .dataframe thead th {\n",
       "        text-align: right;\n",
       "    }\n",
       "</style>\n",
       "<table border=\"1\" class=\"dataframe\">\n",
       "  <thead>\n",
       "    <tr style=\"text-align: right;\">\n",
       "      <th></th>\n",
       "      <th>Length</th>\n",
       "      <th>Scramble</th>\n",
       "      <th>Solution</th>\n",
       "    </tr>\n",
       "  </thead>\n",
       "  <tbody>\n",
       "    <tr>\n",
       "      <th>0</th>\n",
       "      <td>20</td>\n",
       "      <td>B L R B U2 R2 D' R2 L' U B F2 B' D' B' F2 L' R...</td>\n",
       "      <td>CNRAPEKOQGSG.UTHPCQDF</td>\n",
       "    </tr>\n",
       "    <tr>\n",
       "      <th>1</th>\n",
       "      <td>22</td>\n",
       "      <td>R' B U' R2 F2 D' B L2 U F' B L D U' B F2 R2 L ...</td>\n",
       "      <td>RAVQCSJFUEGI.FWXBQCMGVU</td>\n",
       "    </tr>\n",
       "    <tr>\n",
       "      <th>2</th>\n",
       "      <td>18</td>\n",
       "      <td>F' B D' F U' R L2 B' D U D U' D2 B' F' R2 L' B...</td>\n",
       "      <td>NPWHEAUAFXFOV|IOQLC</td>\n",
       "    </tr>\n",
       "    <tr>\n",
       "      <th>3</th>\n",
       "      <td>20</td>\n",
       "      <td>F L' U' B F2 U D' B F' B' R2 D F2 B D' R' L2 F...</td>\n",
       "      <td>QJTKIFDSODGX.BGWKXDMN</td>\n",
       "    </tr>\n",
       "    <tr>\n",
       "      <th>4</th>\n",
       "      <td>24</td>\n",
       "      <td>D F' B' U2 D' L F D U2 L D' L' D B' L2 U2 F D ...</td>\n",
       "      <td>FVIQDNEGJXHRKUSW.PTUBIQCM</td>\n",
       "    </tr>\n",
       "    <tr>\n",
       "      <th>...</th>\n",
       "      <td>...</td>\n",
       "      <td>...</td>\n",
       "      <td>...</td>\n",
       "    </tr>\n",
       "    <tr>\n",
       "      <th>9995</th>\n",
       "      <td>20</td>\n",
       "      <td>L B F2 L D F' B' U B2 F' L U2 R2 U2 D2 L' D2 L...</td>\n",
       "      <td>CJANVFHUWDGD.TMKHGBDI</td>\n",
       "    </tr>\n",
       "    <tr>\n",
       "      <th>9996</th>\n",
       "      <td>20</td>\n",
       "      <td>B R D2 F D2 U2 D' L' R2 B F2 U' D' L B' D R' F...</td>\n",
       "      <td>PHUNIOEAQFWXF|LWHICVB</td>\n",
       "    </tr>\n",
       "    <tr>\n",
       "      <th>9997</th>\n",
       "      <td>20</td>\n",
       "      <td>R F2 L2 R2 D B' L B' F' B2 L U' R2 L B' R2 U L...</td>\n",
       "      <td>NEOKXAWPIHF|KNCLFXMOT</td>\n",
       "    </tr>\n",
       "    <tr>\n",
       "      <th>9998</th>\n",
       "      <td>20</td>\n",
       "      <td>U2 F' B D U2 D2 B L' D R2 B F' L D2 U F' R B' ...</td>\n",
       "      <td>LQKWPDVTGHCI.JINLHSKV</td>\n",
       "    </tr>\n",
       "    <tr>\n",
       "      <th>9999</th>\n",
       "      <td>20</td>\n",
       "      <td>B U' B2 R2 D' F2 R D' R2 D R' B2 D B F' B' U D...</td>\n",
       "      <td>HAPNWVDLEGX|HFBKQCJGL</td>\n",
       "    </tr>\n",
       "  </tbody>\n",
       "</table>\n",
       "<p>10000 rows × 3 columns</p>\n",
       "</div>"
      ],
      "text/plain": [
       "      Length                                           Scramble  \\\n",
       "0         20  B L R B U2 R2 D' R2 L' U B F2 B' D' B' F2 L' R...   \n",
       "1         22  R' B U' R2 F2 D' B L2 U F' B L D U' B F2 R2 L ...   \n",
       "2         18  F' B D' F U' R L2 B' D U D U' D2 B' F' R2 L' B...   \n",
       "3         20  F L' U' B F2 U D' B F' B' R2 D F2 B D' R' L2 F...   \n",
       "4         24  D F' B' U2 D' L F D U2 L D' L' D B' L2 U2 F D ...   \n",
       "...      ...                                                ...   \n",
       "9995      20  L B F2 L D F' B' U B2 F' L U2 R2 U2 D2 L' D2 L...   \n",
       "9996      20  B R D2 F D2 U2 D' L' R2 B F2 U' D' L B' D R' F...   \n",
       "9997      20  R F2 L2 R2 D B' L B' F' B2 L U' R2 L B' R2 U L...   \n",
       "9998      20  U2 F' B D U2 D2 B L' D R2 B F' L D2 U F' R B' ...   \n",
       "9999      20  B U' B2 R2 D' F2 R D' R2 D R' B2 D B F' B' U D...   \n",
       "\n",
       "                       Solution  \n",
       "0         CNRAPEKOQGSG.UTHPCQDF  \n",
       "1       RAVQCSJFUEGI.FWXBQCMGVU  \n",
       "2           NPWHEAUAFXFOV|IOQLC  \n",
       "3         QJTKIFDSODGX.BGWKXDMN  \n",
       "4     FVIQDNEGJXHRKUSW.PTUBIQCM  \n",
       "...                         ...  \n",
       "9995      CJANVFHUWDGD.TMKHGBDI  \n",
       "9996      PHUNIOEAQFWXF|LWHICVB  \n",
       "9997      NEOKXAWPIHF|KNCLFXMOT  \n",
       "9998      LQKWPDVTGHCI.JINLHSKV  \n",
       "9999      HAPNWVDLEGX|HFBKQCJGL  \n",
       "\n",
       "[10000 rows x 3 columns]"
      ]
     },
     "execution_count": 105,
     "metadata": {},
     "output_type": "execute_result"
    }
   ],
   "source": [
    "testo_matrix"
   ]
  },
  {
   "cell_type": "code",
   "execution_count": 106,
   "metadata": {
    "ExecuteTime": {
     "end_time": "2024-06-04T09:22:44.256154Z",
     "start_time": "2024-06-04T09:22:44.247036Z"
    }
   },
   "outputs": [
    {
     "data": {
      "text/plain": [
       "\"B L R B U2 R2 D' R2 L' U B F2 B' D' B' F2 L' R2 F R D R2 F2 D2 R' \""
      ]
     },
     "execution_count": 106,
     "metadata": {},
     "output_type": "execute_result"
    }
   ],
   "source": [
    "testo_matrix.iloc[0]['Scramble']"
   ]
  },
  {
   "cell_type": "code",
   "execution_count": 107,
   "metadata": {
    "ExecuteTime": {
     "end_time": "2024-06-04T09:22:45.118217Z",
     "start_time": "2024-06-04T09:22:45.107860Z"
    }
   },
   "outputs": [
    {
     "data": {
      "text/plain": [
       "'CNRAPEKOQGSG.UTHPCQDF'"
      ]
     },
     "execution_count": 107,
     "metadata": {},
     "output_type": "execute_result"
    }
   ],
   "source": [
    "testo_matrix.iloc[0]['Solution']"
   ]
  },
  {
   "cell_type": "code",
   "execution_count": null,
   "metadata": {},
   "outputs": [],
   "source": []
  },
  {
   "cell_type": "code",
   "execution_count": 108,
   "metadata": {
    "ExecuteTime": {
     "end_time": "2024-06-04T09:22:45.898761Z",
     "start_time": "2024-06-04T09:22:45.889922Z"
    }
   },
   "outputs": [],
   "source": [
    "messed_up_cube = execute_algorithm(SOLVED_CUBE, \"R L U2 B' D' R2 U' L' R' D R L2 F L' D F2 D' R L' D F U L' F2 L' \")"
   ]
  },
  {
   "cell_type": "code",
   "execution_count": 109,
   "metadata": {
    "ExecuteTime": {
     "end_time": "2024-06-04T09:22:46.321301Z",
     "start_time": "2024-06-04T09:22:46.293550Z"
    }
   },
   "outputs": [
    {
     "data": {
      "text/plain": [
       "'APCHLWVNQDKEGX.FBWXJBGLKP'"
      ]
     },
     "execution_count": 109,
     "metadata": {},
     "output_type": "execute_result"
    }
   ],
   "source": [
    "solve_cube(messed_up_cube)"
   ]
  },
  {
   "cell_type": "code",
   "execution_count": null,
   "metadata": {},
   "outputs": [],
   "source": []
  },
  {
   "cell_type": "code",
   "execution_count": null,
   "metadata": {},
   "outputs": [],
   "source": []
  },
  {
   "cell_type": "code",
   "execution_count": null,
   "metadata": {},
   "outputs": [],
   "source": []
  },
  {
   "cell_type": "code",
   "execution_count": 139,
   "metadata": {
    "ExecuteTime": {
     "end_time": "2024-06-04T09:41:34.067965Z",
     "start_time": "2024-06-04T09:41:34.058989Z"
    }
   },
   "outputs": [],
   "source": [
    "# Now that we have a table of scrambles and their solutions, the next step is to generate solution strings directly.\n",
    "# First, lets make a \"simplifier\""
   ]
  },
  {
   "cell_type": "code",
   "execution_count": null,
   "metadata": {},
   "outputs": [],
   "source": []
  },
  {
   "cell_type": "code",
   "execution_count": 157,
   "metadata": {
    "ExecuteTime": {
     "end_time": "2024-06-04T09:45:57.646281Z",
     "start_time": "2024-06-04T09:45:57.640298Z"
    }
   },
   "outputs": [],
   "source": [
    "def simplify_solution(solution_string):\n",
    "    new_cube = copy.deepcopy(SOLVED_CUBE)\n",
    "    edge_solution, corner_solution = solution_string.replace('|', '.').split('.')\n",
    "    \n",
    "    for i in range(len(edge_solution)):\n",
    "        one_edge = edge_solution[len(edge_solution) - i - 1]\n",
    "        #print(one_edge)\n",
    "        unsolved_edge_piece = EDGES_DICT[one_edge]\n",
    "        swap_two_edges(new_cube, 'BM', unsolved_edge_piece)\n",
    "\n",
    "    for i in range(len(corner_solution)):\n",
    "        one_corner = corner_solution[len(corner_solution) - i - 1]\n",
    "        #print(one_corner)\n",
    "        unsolved_corner_piece = CORNERS_DICT[one_corner]\n",
    "        swap_two_corners(new_cube, 'ERA', unsolved_corner_piece)\n",
    "        \n",
    "    simple_solution = solve_cube(new_cube)\n",
    "    return simple_solution"
   ]
  },
  {
   "cell_type": "code",
   "execution_count": 158,
   "metadata": {
    "ExecuteTime": {
     "end_time": "2024-06-04T09:45:58.344913Z",
     "start_time": "2024-06-04T09:45:58.337272Z"
    }
   },
   "outputs": [
    {
     "data": {
      "text/plain": [
       "'CADA.'"
      ]
     },
     "execution_count": 158,
     "metadata": {},
     "output_type": "execute_result"
    }
   ],
   "source": [
    "simplify_solution('ACDACD.') # should simplify to CADA (C/ADA)"
   ]
  },
  {
   "cell_type": "code",
   "execution_count": 159,
   "metadata": {
    "ExecuteTime": {
     "end_time": "2024-06-04T09:45:58.598605Z",
     "start_time": "2024-06-04T09:45:58.571870Z"
    }
   },
   "outputs": [],
   "source": [
    "# Now, we can try generate scrambles by simply producing nonsense"
   ]
  },
  {
   "cell_type": "code",
   "execution_count": null,
   "metadata": {},
   "outputs": [],
   "source": []
  },
  {
   "cell_type": "code",
   "execution_count": 160,
   "metadata": {
    "ExecuteTime": {
     "end_time": "2024-06-04T09:46:01.359333Z",
     "start_time": "2024-06-04T09:46:01.351744Z"
    }
   },
   "outputs": [],
   "source": [
    "def generate_nonsense_solution(pool, nonsense_len=30):\n",
    "    nonsense_string = ''\n",
    "    for _ in range(nonsense_len):\n",
    "        nonsense_string += random.choice(pool)\n",
    "        \n",
    "    return nonsense_string"
   ]
  },
  {
   "cell_type": "code",
   "execution_count": 161,
   "metadata": {
    "ExecuteTime": {
     "end_time": "2024-06-04T09:46:01.812837Z",
     "start_time": "2024-06-04T09:46:01.802545Z"
    }
   },
   "outputs": [
    {
     "name": "stdout",
     "output_type": "stream",
     "text": [
      "VXXWVWWWXXWXUWUWWUXUUVXUUUWXXV\n",
      "GSGKOK.\n",
      "-------------------------\n",
      "WWUUVVVVVWVWWVUUXUUWVWVVVUXUUU\n",
      "WUXV.\n",
      "-------------------------\n",
      "UVUWXXWXVVUXXXXUUUXUVXXUWUXVVW\n",
      "GSKG.\n",
      "-------------------------\n",
      "WWWXWWXVUXXVUWUXWUVVVWWXXUWWXU\n",
      "VXWU.\n",
      "-------------------------\n",
      "UVVUXUVXUVWVWWWWVWVUUVWVVUWVWU\n",
      "UVXW.\n",
      "-------------------------\n",
      "UXXVXXVXWXWUVUXUWWXXWVXUUVVVUW\n",
      "XV.\n",
      "-------------------------\n",
      "VXVXVVXWUUUUXXUVUUXWVXWUUVUVUU\n",
      "UXWV.\n",
      "-------------------------\n",
      "WWVWUVUVWXWWVUXUXXUVVUXVXUUUWW\n",
      "VKSK.\n",
      "-------------------------\n",
      "VUVWWUXUVUXUXWWUXUXUVVXXVVXUVU\n",
      "UX.\n",
      "-------------------------\n",
      "UXWUUXWWXWXVXVWXWWWWVUVXXWVWUW\n",
      "GSGKOK.\n",
      "-------------------------\n"
     ]
    }
   ],
   "source": [
    "for i in range(10):\n",
    "    one_nons = generate_nonsense_solution('UVWX')\n",
    "    print(one_nons)\n",
    "    print(simplify_solution(one_nons + '.'))\n",
    "    print('-------------------------')"
   ]
  },
  {
   "cell_type": "code",
   "execution_count": null,
   "metadata": {},
   "outputs": [],
   "source": []
  },
  {
   "cell_type": "code",
   "execution_count": null,
   "metadata": {},
   "outputs": [],
   "source": []
  },
  {
   "cell_type": "code",
   "execution_count": null,
   "metadata": {},
   "outputs": [],
   "source": []
  },
  {
   "cell_type": "code",
   "execution_count": null,
   "metadata": {},
   "outputs": [],
   "source": []
  }
 ],
 "metadata": {
  "kernelspec": {
   "display_name": "Python 3 (ipykernel)",
   "language": "python",
   "name": "python3"
  },
  "language_info": {
   "codemirror_mode": {
    "name": "ipython",
    "version": 3
   },
   "file_extension": ".py",
   "mimetype": "text/x-python",
   "name": "python",
   "nbconvert_exporter": "python",
   "pygments_lexer": "ipython3",
   "version": "3.9.13"
  }
 },
 "nbformat": 4,
 "nbformat_minor": 2
}
